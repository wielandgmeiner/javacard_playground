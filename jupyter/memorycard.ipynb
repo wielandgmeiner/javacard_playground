{
 "cells": [
  {
   "cell_type": "markdown",
   "metadata": {},
   "source": [
    "# 1. Establish communication with the card\n",
    "\n",
    "## 1.1. Find the smartcard reader"
   ]
  },
  {
   "cell_type": "code",
   "execution_count": 39,
   "metadata": {},
   "outputs": [],
   "source": [
    "from smartcard import ATR\n",
    "from smartcard.System import readers\n",
    "from smartcard.CardConnection import CardConnection"
   ]
  },
  {
   "cell_type": "code",
   "execution_count": 40,
   "metadata": {},
   "outputs": [
    {
     "name": "stdout",
     "output_type": "stream",
     "text": [
      "Generic Smart Card Reader Interface\n"
     ]
    }
   ],
   "source": [
    "rarr=readers()\n",
    "if len(rarr) == 0:\n",
    "    print(\"No readers detected\")\n",
    "else:\n",
    "    reader = rarr[0]\n",
    "    print(reader)"
   ]
  },
  {
   "cell_type": "markdown",
   "metadata": {},
   "source": [
    "## 1.2. Power on the card and get `ATR`\n",
    "`ATR` - Answer To Reset, bytes retured by the card when it is powered on.<br>\n",
    "It helps to determine communication protocol and frequency we should choose."
   ]
  },
  {
   "cell_type": "code",
   "execution_count": 41,
   "metadata": {},
   "outputs": [],
   "source": [
    "# We know that j3h145-jcop3 card supports T1 protocol, so we use that ignoring ATR\n",
    "protocol = CardConnection.T1_protocol\n",
    "connection = reader.createConnection()\n",
    "connection.connect(protocol)"
   ]
  },
  {
   "cell_type": "code",
   "execution_count": 42,
   "metadata": {},
   "outputs": [
    {
     "data": {
      "text/plain": [
       "'3bdc18ff8191fe1fc38073c821136605036351000250'"
      ]
     },
     "execution_count": 42,
     "metadata": {},
     "output_type": "execute_result"
    }
   ],
   "source": [
    "atr=bytes(connection.getATR())\n",
    "atr.hex()"
   ]
  },
  {
   "cell_type": "markdown",
   "metadata": {},
   "source": [
    "## 1.3. Select the applet by AID\n",
    "JavaCard can have multiple applets installed. They are like very isolated \"apps\".<br>\n",
    "They can't talk to each other and only one can be active at any time."
   ]
  },
  {
   "cell_type": "code",
   "execution_count": 43,
   "metadata": {},
   "outputs": [],
   "source": [
    "def select(appletID):\n",
    "    \"\"\"\n",
    "    Selects an applet by AppletID (should be hex-encoded string).\n",
    "    Throws an error with the error code if it failed selecting the applet.\n",
    "    Useful link for error codes: https://www.eftlab.com/knowledge-base/complete-list-of-apdu-responses/\n",
    "    \"\"\"\n",
    "    data = list(bytes.fromhex(appletID))\n",
    "    # Select:\n",
    "    # CLA = 0x00\n",
    "    # INS = 0xA4\n",
    "    # P1 = 0x04\n",
    "    # P2 = 0x00\n",
    "    # Data = the instance AID\n",
    "    cmd = [0x00, # CLA\n",
    "              0xA4, # INS\n",
    "              0x04, # P1\n",
    "              0x00, # P2\n",
    "              len(data), # Lc (content length)\n",
    "          ] + data + [0x00]\n",
    "    print(\"Sent command:\", bytes(cmd).hex().upper())\n",
    "    data, *sw = connection.transmit(cmd,protocol)\n",
    "    data = bytes(data)\n",
    "    sw = bytes(sw)\n",
    "    if sw == b\"\\x90\\x00\":\n",
    "        return data\n",
    "    else:\n",
    "        raise RuntimeError(\"Card responded with code %s and data \\\"%s\\\"\" % (sw.hex(), data.hex()))"
   ]
  },
  {
   "cell_type": "code",
   "execution_count": 44,
   "metadata": {},
   "outputs": [
    {
     "name": "stdout",
     "output_type": "stream",
     "text": [
      "Sent command: 00A4040006B00B5111CB0100\n"
     ]
    },
    {
     "data": {
      "text/plain": [
       "b''"
      ]
     },
     "execution_count": 44,
     "metadata": {},
     "output_type": "execute_result"
    }
   ],
   "source": [
    "# MemoryCardApplet has AID of `B00B5111CB01`\n",
    "select(\"B00B5111CB01\")"
   ]
  },
  {
   "cell_type": "code",
   "execution_count": 45,
   "metadata": {},
   "outputs": [],
   "source": [
    "def request(APDU):\n",
    "    \"\"\"\n",
    "    Sends APDU command to the card and returns data.\n",
    "    APDU should be hex-encoded.\n",
    "    Throws an error with the error code if it failed selecting the applet.\n",
    "    Useful link for error codes: https://www.eftlab.com/knowledge-base/complete-list-of-apdu-responses/\n",
    "    \"\"\"\n",
    "    cmd = list(bytes.fromhex(APDU))\n",
    "    data, *sw = connection.transmit(cmd,protocol)\n",
    "    data = bytes(data)\n",
    "    sw = bytes(sw)\n",
    "    if sw == b\"\\x90\\x00\":\n",
    "        return data\n",
    "    else:\n",
    "        raise RuntimeError(\"Card responded with code %s and data \\\"%s\\\"\" % (sw.hex(), data.hex()))"
   ]
  },
  {
   "cell_type": "markdown",
   "metadata": {},
   "source": [
    "# 2. Establish secure communication\n",
    "This part is required to establish a shared secret between the card and the host.<br>\n",
    "Because we want encrypted and authenticated communication.<br>\n",
    "\n",
    "If you already agreed with the card on a shared secret you can skip this step and go to step 3.<br>\n",
    "If the card was communicating with someone else it probably forgot your shared secret, so \n",
    "you may need to run through this procedure again.\n",
    "\n",
    "Same happens if the applet is reinstalled - all the data of the applet is wiped, so it's \n",
    "like communicating with a fresh new card.\n",
    "\n",
    "For key agreement we use ECDH - get card's pubkey, multiply by our secret, use x-coord of the resulting point as shared secret. Maybe sha256 of it?\n",
    "\n",
    "## 2.1. Get public key from the card"
   ]
  },
  {
   "cell_type": "code",
   "execution_count": 46,
   "metadata": {},
   "outputs": [],
   "source": [
    "# embit library: https://github.com/diybitcoinhardware/embit\n",
    "# works with python3 and micropython\n",
    "from embit.ec import PrivateKey, PublicKey, secp256k1"
   ]
  },
  {
   "cell_type": "code",
   "execution_count": 47,
   "metadata": {},
   "outputs": [
    {
     "data": {
      "text/plain": [
       "PublicKey(04c1a0f791d338b9d147a6b9369ba93075cb9fe574256c92e912643cf34fe3a8cb5f4f6ad6b3f639e958563403219752a747bcc4368599fc87cc05fe8ce940e0dd)"
      ]
     },
     "execution_count": 47,
     "metadata": {},
     "output_type": "execute_result"
    }
   ],
   "source": [
    "# get pubkey - private key is generated when applet is installed\n",
    "sec = request(\"B0A1000000\")\n",
    "card_pubkey = PublicKey.parse(sec)\n",
    "card_pubkey"
   ]
  },
  {
   "cell_type": "markdown",
   "metadata": {},
   "source": [
    "## 2.2. Select a random secret on the host"
   ]
  },
  {
   "cell_type": "code",
   "execution_count": 48,
   "metadata": {},
   "outputs": [
    {
     "name": "stdout",
     "output_type": "stream",
     "text": [
      "Shared secret: d89dc62098d5e0898eb1746f06e2ba835e2f34784be3240eb867f4f6825a2172\n",
      "Sha256 of the secret: 9f984986bbb54c70cd5608273f8114f144d406483cac5587ece37aad9a46ab82\n"
     ]
    }
   ],
   "source": [
    "import os\n",
    "import hashlib\n",
    "# secret = os.urandom(32)\n",
    "secret = b'FC\\xe2\\t\\x1bd\\xb9~H\\xe7\\x1dF\\xa5\\x88W+g\\x1b-\\xc5A\\xec\\x19\\x00\\xe8&\\x8d\\xa3\\x13\\xec?\\x88'\n",
    "# ugly copy...\n",
    "pub = PublicKey.parse(card_pubkey.sec())\n",
    "secp256k1.ec_pubkey_tweak_mul(pub._point, secret)\n",
    "shared_secret = pub.sec()[1:33]\n",
    "shared_hash = hashlib.sha256(shared_secret).digest()\n",
    "print(\"Shared secret:\", shared_secret.hex())\n",
    "print(\"Sha256 of the secret:\", shared_hash.hex())"
   ]
  },
  {
   "cell_type": "code",
   "execution_count": 49,
   "metadata": {},
   "outputs": [
    {
     "data": {
      "text/plain": [
       "'4104641803d1e6e42c0103c39f6917fd66a3e443824749e78f7fafb931ad6985a23398aabeb9e20f3bc32ab369994713ac2265328c0a01c0648409a935b133b71b8e'"
      ]
     },
     "execution_count": 49,
     "metadata": {},
     "output_type": "execute_result"
    }
   ],
   "source": [
    "host_prv = PrivateKey(secret)\n",
    "host_pub = host_prv.get_public_key()\n",
    "host_pub.compressed = False\n",
    "data = bytes([65])+host_pub.sec()\n",
    "data.hex()"
   ]
  },
  {
   "cell_type": "code",
   "execution_count": 50,
   "metadata": {},
   "outputs": [
    {
     "name": "stdout",
     "output_type": "stream",
     "text": [
      "Yey! We have a shared secret now!\n"
     ]
    }
   ],
   "source": [
    "res = request(\"B0A30000\"+data.hex())\n",
    "if res == shared_hash:\n",
    "    print(\"Yey! We have a shared secret now!\")\n",
    "else:\n",
    "    print(\"Meh... Something didn't work? Card returned %s, we have %s\" % (res.hex(), shared_hash.hex()))"
   ]
  },
  {
   "cell_type": "code",
   "execution_count": null,
   "metadata": {},
   "outputs": [],
   "source": [
    "# get random data\n",
    "rand = request(\"B0A2000000\")\n",
    "rand.hex()"
   ]
  },
  {
   "cell_type": "code",
   "execution_count": null,
   "metadata": {},
   "outputs": [],
   "source": [
    "# static data for any other APDU\n",
    "data = request(\"B000000000\")\n",
    "data"
   ]
  },
  {
   "cell_type": "code",
   "execution_count": 38,
   "metadata": {},
   "outputs": [],
   "source": [
    "connection.disconnect()"
   ]
  },
  {
   "cell_type": "code",
   "execution_count": null,
   "metadata": {},
   "outputs": [],
   "source": []
  }
 ],
 "metadata": {
  "kernelspec": {
   "display_name": "Python 3",
   "language": "python",
   "name": "python3"
  },
  "language_info": {
   "codemirror_mode": {
    "name": "ipython",
    "version": 3
   },
   "file_extension": ".py",
   "mimetype": "text/x-python",
   "name": "python",
   "nbconvert_exporter": "python",
   "pygments_lexer": "ipython3",
   "version": "3.7.6"
  }
 },
 "nbformat": 4,
 "nbformat_minor": 2
}
