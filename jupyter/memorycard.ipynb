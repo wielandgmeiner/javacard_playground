{
 "cells": [
  {
   "cell_type": "markdown",
   "metadata": {},
   "source": [
    "# 1. Establish communication with the card\n",
    "\n",
    "## 1.1. Find the smartcard reader"
   ]
  },
  {
   "cell_type": "code",
   "execution_count": 135,
   "metadata": {},
   "outputs": [],
   "source": [
    "from smartcard import ATR\n",
    "from smartcard.System import readers\n",
    "from smartcard.CardConnection import CardConnection"
   ]
  },
  {
   "cell_type": "code",
   "execution_count": 136,
   "metadata": {},
   "outputs": [
    {
     "name": "stdout",
     "output_type": "stream",
     "text": [
      "Generic Smart Card Reader Interface\n"
     ]
    }
   ],
   "source": [
    "rarr=readers()\n",
    "if len(rarr) == 0:\n",
    "    print(\"No readers detected\")\n",
    "else:\n",
    "    reader = rarr[0]\n",
    "    print(reader)"
   ]
  },
  {
   "cell_type": "markdown",
   "metadata": {},
   "source": [
    "## 1.2. Power on the card and get `ATR`\n",
    "`ATR` - Answer To Reset, bytes retured by the card when it is powered on.<br>\n",
    "It helps to determine communication protocol and frequency we should choose."
   ]
  },
  {
   "cell_type": "code",
   "execution_count": 137,
   "metadata": {},
   "outputs": [],
   "source": [
    "# We know that j3h145-jcop3 card supports T1 protocol, so we use that ignoring ATR\n",
    "protocol = CardConnection.T1_protocol\n",
    "connection = reader.createConnection()\n",
    "connection.connect(protocol)"
   ]
  },
  {
   "cell_type": "code",
   "execution_count": 138,
   "metadata": {},
   "outputs": [
    {
     "data": {
      "text/plain": [
       "'3bdc18ff8191fe1fc38073c821136605036351000250'"
      ]
     },
     "execution_count": 138,
     "metadata": {},
     "output_type": "execute_result"
    }
   ],
   "source": [
    "atr=bytes(connection.getATR())\n",
    "atr.hex()"
   ]
  },
  {
   "cell_type": "markdown",
   "metadata": {},
   "source": [
    "## 1.3. Select the applet by AID\n",
    "JavaCard can have multiple applets installed. They are like very isolated \"apps\".<br>\n",
    "They can't talk to each other and only one can be active at any time."
   ]
  },
  {
   "cell_type": "code",
   "execution_count": 139,
   "metadata": {},
   "outputs": [],
   "source": [
    "def select(appletID):\n",
    "    \"\"\"\n",
    "    Selects an applet by AppletID (should be hex-encoded string).\n",
    "    Throws an error with the error code if it failed selecting the applet.\n",
    "    Useful link for error codes: https://www.eftlab.com/knowledge-base/complete-list-of-apdu-responses/\n",
    "    \"\"\"\n",
    "    data = list(bytes.fromhex(appletID))\n",
    "    # Select:\n",
    "    # CLA = 0x00\n",
    "    # INS = 0xA4\n",
    "    # P1 = 0x04\n",
    "    # P2 = 0x00\n",
    "    # Data = the instance AID\n",
    "    cmd = [0x00, # CLA\n",
    "              0xA4, # INS\n",
    "              0x04, # P1\n",
    "              0x00, # P2\n",
    "              len(data), # Lc (content length)\n",
    "          ] + data + [0x00]\n",
    "    print(\"Sent command:\", bytes(cmd).hex().upper())\n",
    "    data, *sw = connection.transmit(cmd,protocol)\n",
    "    data = bytes(data)\n",
    "    sw = bytes(sw)\n",
    "    if sw == b\"\\x90\\x00\":\n",
    "        return data\n",
    "    else:\n",
    "        raise RuntimeError(\"Card responded with code %s and data \\\"%s\\\"\" % (sw.hex(), data.hex()))"
   ]
  },
  {
   "cell_type": "code",
   "execution_count": 140,
   "metadata": {},
   "outputs": [
    {
     "name": "stdout",
     "output_type": "stream",
     "text": [
      "Sent command: 00A4040006B00B5111CB0100\n"
     ]
    },
    {
     "data": {
      "text/plain": [
       "b''"
      ]
     },
     "execution_count": 140,
     "metadata": {},
     "output_type": "execute_result"
    }
   ],
   "source": [
    "# MemoryCardApplet has AID of `B00B5111CB01`\n",
    "select(\"B00B5111CB01\")"
   ]
  },
  {
   "cell_type": "code",
   "execution_count": 141,
   "metadata": {},
   "outputs": [],
   "source": [
    "def request(APDU):\n",
    "    \"\"\"\n",
    "    Sends APDU command to the card and returns data.\n",
    "    APDU should be hex-encoded.\n",
    "    Throws an error with the error code if it failed selecting the applet.\n",
    "    Useful link for error codes: https://www.eftlab.com/knowledge-base/complete-list-of-apdu-responses/\n",
    "    \"\"\"\n",
    "    cmd = list(bytes.fromhex(APDU))\n",
    "    data, *sw = connection.transmit(cmd,protocol)\n",
    "    data = bytes(data)\n",
    "    sw = bytes(sw)\n",
    "    if sw == b\"\\x90\\x00\":\n",
    "        return data\n",
    "    else:\n",
    "        raise RuntimeError(\"Card responded with code %s and data \\\"%s\\\"\" % (sw.hex(), data.hex()))"
   ]
  },
  {
   "cell_type": "markdown",
   "metadata": {},
   "source": [
    "# 2. Establish secure communication\n",
    "This part is required to establish a shared secret between the card and the host.<br>\n",
    "Because we want encrypted and authenticated communication.<br>\n",
    "\n",
    "For key agreement we use ECDH - get card's pubkey, multiply by our secret, use x-coord of the resulting point as shared secret. Maybe sha256 of it?\n",
    "\n",
    "## 2.1. Get public key from the card"
   ]
  },
  {
   "cell_type": "code",
   "execution_count": 142,
   "metadata": {},
   "outputs": [],
   "source": [
    "# embit library: https://github.com/diybitcoinhardware/embit\n",
    "# works with python3 and micropython\n",
    "from embit.ec import PrivateKey, PublicKey, secp256k1"
   ]
  },
  {
   "cell_type": "code",
   "execution_count": 143,
   "metadata": {},
   "outputs": [
    {
     "data": {
      "text/plain": [
       "PublicKey(042418faf5f140c6d2707fb1cb21d1ab7cbd94224dbdfd6fdb7fbb0891cddefa89ae2ab4fee4e673075c34ef472945f78a1c3125a725ad6a6024319bea5042fc20)"
      ]
     },
     "execution_count": 143,
     "metadata": {},
     "output_type": "execute_result"
    }
   ],
   "source": [
    "# get pubkey - private key is generated when applet is installed\n",
    "sec = request(\"B0A1000000\")\n",
    "card_pubkey = PublicKey.parse(sec)\n",
    "card_pubkey"
   ]
  },
  {
   "cell_type": "markdown",
   "metadata": {},
   "source": [
    "## 2.2. Select a random secret on the host"
   ]
  },
  {
   "cell_type": "code",
   "execution_count": 144,
   "metadata": {},
   "outputs": [
    {
     "name": "stdout",
     "output_type": "stream",
     "text": [
      "Shared secret: 82666dd66ae73849e7ae54a759c60f6a23d1e2b6fb02e4dca6a8c368c8b55c74\n",
      "Sha256 of the secret: 46a426b8bfe6fa4ac199cf375e4a5289e174f80cc144678163bbf2786e75e9c2\n"
     ]
    }
   ],
   "source": [
    "import os\n",
    "import hashlib\n",
    "secret = os.urandom(32)\n",
    "# ugly copy...\n",
    "pub = PublicKey.parse(card_pubkey.sec())\n",
    "secp256k1.ec_pubkey_tweak_mul(pub._point, secret)\n",
    "shared_secret = pub.sec()[1:33]\n",
    "shared_hash = hashlib.sha256(shared_secret).digest()\n",
    "print(\"Shared secret:\", shared_secret.hex())\n",
    "print(\"Sha256 of the secret:\", shared_hash.hex())"
   ]
  },
  {
   "cell_type": "code",
   "execution_count": 145,
   "metadata": {},
   "outputs": [
    {
     "data": {
      "text/plain": [
       "'4104c7ec69b9e7ac7523d4dfaabbbfc74fd27de8e42ea28020164f4f20e37829b6af0afba4f9fe7438634d8ecc2f4e75a7be086ff113623e4c01ef5484f0493e3e41'"
      ]
     },
     "execution_count": 145,
     "metadata": {},
     "output_type": "execute_result"
    }
   ],
   "source": [
    "host_prv = PrivateKey(secret)\n",
    "host_pub = host_prv.get_public_key()\n",
    "host_pub.compressed = False\n",
    "data = bytes([65])+host_pub.sec()\n",
    "data.hex()"
   ]
  },
  {
   "cell_type": "code",
   "execution_count": 146,
   "metadata": {},
   "outputs": [
    {
     "name": "stdout",
     "output_type": "stream",
     "text": [
      "Yey! We have a shared secret now!\n"
     ]
    }
   ],
   "source": [
    "res = request(\"B0A30000\"+data.hex())\n",
    "if res == shared_hash:\n",
    "    print(\"Yey! We have a shared secret now!\")\n",
    "else:\n",
    "    print(\"Meh... Something didn't work? Card returned %s, we have %s\" % (res.hex(), shared_hash.hex()))"
   ]
  },
  {
   "cell_type": "code",
   "execution_count": 147,
   "metadata": {},
   "outputs": [
    {
     "data": {
      "text/plain": [
       "'ed15ba2389a21d40ebd3102d3ba03d7bc5bbfbc8a588ad0fc9d1efe6a28e10c7'"
      ]
     },
     "execution_count": 147,
     "metadata": {},
     "output_type": "execute_result"
    }
   ],
   "source": [
    "# get random data\n",
    "rand = request(\"B0A2000000\")\n",
    "rand.hex()"
   ]
  },
  {
   "cell_type": "code",
   "execution_count": 148,
   "metadata": {},
   "outputs": [
    {
     "data": {
      "text/plain": [
       "b'Memory cards are not safu so what?'"
      ]
     },
     "execution_count": 148,
     "metadata": {},
     "output_type": "execute_result"
    }
   ],
   "source": [
    "# static data for any other APDU\n",
    "data = request(\"B000000000\")\n",
    "data"
   ]
  },
  {
   "cell_type": "code",
   "execution_count": 149,
   "metadata": {},
   "outputs": [
    {
     "data": {
      "text/plain": [
       "'224d656d6f727920636172647320617265206e6f74207361667520736f20776861743f'"
      ]
     },
     "execution_count": 149,
     "metadata": {},
     "output_type": "execute_result"
    }
   ],
   "source": [
    "(bytes([len(data)])+data).hex()"
   ]
  },
  {
   "cell_type": "code",
   "execution_count": 150,
   "metadata": {},
   "outputs": [
    {
     "data": {
      "text/plain": [
       "b'a\\xa1[\\x03 \\x8d\\xa8\\xa8\\x9e_\\xe1\\xe3\\xb7qB\\x90\\x9e\\xdc\\x84>\\xe6\\x99\\xac\\xda\\tY\\x9c\\xd4\"\\x13H\\xc2=\\xf84\\xe7\\xbc\\xfc1k\\x80l<\\xa5\\x00X\\xa4{I\\xcf$\\xbd\"xZ\\xbc1\\x01\\xb3\\xb0\\x9fL\\xb9\\xb9\\xecB)\\x9c\\xd5\\x96\\x02\\x1c\\xc3\\x94\\x0f\\xfb\\x11\\'\\x06ec};\\xec0=\\xe0\\xa9\\x81m^TI\\x96\\xc10'"
      ]
     },
     "execution_count": 150,
     "metadata": {},
     "output_type": "execute_result"
    }
   ],
   "source": [
    "# static data for any other APDU\n",
    "c = request(\"B0A40000\"+(bytes([len(data)])+data).hex())\n",
    "c"
   ]
  },
  {
   "cell_type": "code",
   "execution_count": 134,
   "metadata": {},
   "outputs": [
    {
     "data": {
      "text/plain": [
       "b'Memory cards are not safu so what?'"
      ]
     },
     "execution_count": 134,
     "metadata": {},
     "output_type": "execute_result"
    }
   ],
   "source": [
    "from cryptography.hazmat.primitives.ciphers import Cipher, algorithms, modes\n",
    "from cryptography.hazmat.backends import default_backend\n",
    "\n",
    "def decrypt(c,secret):\n",
    "    hmac = c[-32:]\n",
    "    iv = c[:16]\n",
    "    ct = c[16:-32]\n",
    "    h = hashlib.sha256(shared_secret)\n",
    "    h.update(iv)\n",
    "    h.update(ct)\n",
    "    h.update(shared_secret)\n",
    "    expected_hmac = h.digest()\n",
    "    if expected_hmac != hmac:\n",
    "        raise RuntimeError(\"Failed\")\n",
    "    backend = default_backend()\n",
    "    cipher = Cipher(algorithms.AES(secret), modes.CBC(iv), backend=backend)\n",
    "    decryptor = cipher.decryptor()\n",
    "    # remove \\x80... padding\n",
    "    plain = decryptor.update(ct)+decryptor.finalize()\n",
    "    return b\"\".join(plain.split(b\"\\x80\")[:-1])\n",
    "\n",
    "decrypt(c, shared_secret)"
   ]
  },
  {
   "cell_type": "code",
   "execution_count": null,
   "metadata": {},
   "outputs": [],
   "source": []
  },
  {
   "cell_type": "code",
   "execution_count": 125,
   "metadata": {},
   "outputs": [
    {
     "data": {
      "text/plain": [
       "4.0"
      ]
     },
     "execution_count": 125,
     "metadata": {},
     "output_type": "execute_result"
    }
   ],
   "source": [
    "len(c)/16"
   ]
  },
  {
   "cell_type": "code",
   "execution_count": 38,
   "metadata": {},
   "outputs": [],
   "source": [
    "connection.disconnect()"
   ]
  },
  {
   "cell_type": "code",
   "execution_count": null,
   "metadata": {},
   "outputs": [],
   "source": []
  }
 ],
 "metadata": {
  "kernelspec": {
   "display_name": "Python 3",
   "language": "python",
   "name": "python3"
  },
  "language_info": {
   "codemirror_mode": {
    "name": "ipython",
    "version": 3
   },
   "file_extension": ".py",
   "mimetype": "text/x-python",
   "name": "python",
   "nbconvert_exporter": "python",
   "pygments_lexer": "ipython3",
   "version": "3.7.6"
  }
 },
 "nbformat": 4,
 "nbformat_minor": 2
}
