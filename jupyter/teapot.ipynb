{
 "cells": [
  {
   "cell_type": "code",
   "execution_count": 1,
   "metadata": {},
   "outputs": [],
   "source": [
    "from smartcard import ATR\n",
    "from smartcard.System import readers\n",
    "from smartcard.CardConnection import CardConnection"
   ]
  },
  {
   "cell_type": "code",
   "execution_count": 2,
   "metadata": {},
   "outputs": [
    {
     "name": "stdout",
     "output_type": "stream",
     "text": [
      "Generic Smart Card Reader Interface\n"
     ]
    }
   ],
   "source": [
    "rarr=readers()\n",
    "if len(rarr) == 0:\n",
    "    print(\"No readers detected\")\n",
    "else:\n",
    "    reader = rarr[0]\n",
    "    print(reader)"
   ]
  },
  {
   "cell_type": "code",
   "execution_count": 3,
   "metadata": {},
   "outputs": [],
   "source": [
    "protocol = CardConnection.T1_protocol\n",
    "connection = reader.createConnection()\n",
    "connection.connect(protocol)"
   ]
  },
  {
   "cell_type": "code",
   "execution_count": 4,
   "metadata": {},
   "outputs": [
    {
     "data": {
      "text/plain": [
       "'3bdc18ff8191fe1fc38073c821136605036351000250'"
      ]
     },
     "execution_count": 4,
     "metadata": {},
     "output_type": "execute_result"
    }
   ],
   "source": [
    "atr=bytes(connection.getATR())\n",
    "atr.hex()"
   ]
  },
  {
   "cell_type": "code",
   "execution_count": 5,
   "metadata": {},
   "outputs": [],
   "source": [
    "def select(appletID):\n",
    "    data = list(bytes.fromhex(appletID))\n",
    "    # Select:\n",
    "    # CLA = 0x00\n",
    "    # INS = 0xA4\n",
    "    # P1 = 0x04\n",
    "    # P2 = 0x00\n",
    "    # Data = the instance AID\n",
    "    cmd = [0x00, # CLA\n",
    "              0xA4, # INS\n",
    "              0x04, # P1\n",
    "              0x00, # P2\n",
    "              len(data), # Lc (content length)\n",
    "          ] + data + [0x00]\n",
    "    print(bytes(cmd).hex().upper())\n",
    "    data, *sw = connection.transmit(cmd,protocol)\n",
    "    data = bytes(data)\n",
    "    sw = bytes(sw)\n",
    "    if sw == b\"\\x90\\x00\":\n",
    "        return data\n",
    "    else:\n",
    "        raise RuntimeError(\"Card responded with code %s and data \\\"%s\\\"\" % (sw.hex(), data.hex()))"
   ]
  },
  {
   "cell_type": "code",
   "execution_count": 10,
   "metadata": {},
   "outputs": [
    {
     "name": "stdout",
     "output_type": "stream",
     "text": [
      "00A4040006B00B5111CA0100\n"
     ]
    },
    {
     "data": {
      "text/plain": [
       "b''"
      ]
     },
     "execution_count": 10,
     "metadata": {},
     "output_type": "execute_result"
    }
   ],
   "source": [
    "select(\"B00B5111CA01\")"
   ]
  },
  {
   "cell_type": "code",
   "execution_count": 11,
   "metadata": {},
   "outputs": [],
   "source": [
    "def request(APDU):\n",
    "    cmd = list(bytes.fromhex(APDU))\n",
    "    data, *sw = connection.transmit(cmd,protocol)\n",
    "    data = bytes(data)\n",
    "    sw = bytes(sw)\n",
    "    if sw == b\"\\x90\\x00\":\n",
    "        return data\n",
    "    else:\n",
    "        raise RuntimeError(\"Card responded with code %s and data \\\"%s\\\"\" % (sw.hex(), data.hex()))"
   ]
  },
  {
   "cell_type": "code",
   "execution_count": 12,
   "metadata": {},
   "outputs": [
    {
     "data": {
      "text/plain": [
       "b'I am a teapot gimme some tea plz'"
      ]
     },
     "execution_count": 12,
     "metadata": {},
     "output_type": "execute_result"
    }
   ],
   "source": [
    "# get secret\n",
    "request(\"B0A1000000\")"
   ]
  },
  {
   "cell_type": "code",
   "execution_count": 13,
   "metadata": {},
   "outputs": [
    {
     "name": "stdout",
     "output_type": "stream",
     "text": [
      "160\n"
     ]
    },
    {
     "data": {
      "text/plain": [
       "'a06b69746368656e20737469636b207661756c74207261696e20636f617374206e657068657720636f7079206166666f7264206d6f6e69746f7220646563616465206368616c6b207365676d656e742063617061626c6520666f727761726420636c696666207468616e6b2070617665207468756e646572206469616d6f6e6420626568617665206472616674206469616c2066726f7a656e20657373656e6365'"
      ]
     },
     "execution_count": 13,
     "metadata": {},
     "output_type": "execute_result"
    }
   ],
   "source": [
    "secret = \"kitchen stick vault rain coast nephew copy afford monitor decade chalk segment capable forward cliff thank pave thunder diamond behave draft dial frozen essence\"\n",
    "print(len(secret))\n",
    "data = bytes([len(secret)])+secret.encode()\n",
    "data.hex()"
   ]
  },
  {
   "cell_type": "code",
   "execution_count": 14,
   "metadata": {},
   "outputs": [
    {
     "data": {
      "text/plain": [
       "b'kitchen stick vault rain coast nephew copy afford monitor decade chalk segment capable forward cliff thank pave thunder diamond behave draft dial frozen essence'"
      ]
     },
     "execution_count": 14,
     "metadata": {},
     "output_type": "execute_result"
    }
   ],
   "source": [
    "# put secret\n",
    "request(\"B0A20000\"+data.hex())"
   ]
  },
  {
   "cell_type": "code",
   "execution_count": 15,
   "metadata": {},
   "outputs": [
    {
     "data": {
      "text/plain": [
       "b'kitchen stick vault rain coast nephew copy afford monitor decade chalk segment capable forward cliff thank pave thunder diamond behave draft dial frozen essence'"
      ]
     },
     "execution_count": 15,
     "metadata": {},
     "output_type": "execute_result"
    }
   ],
   "source": [
    "# get secret again\n",
    "request(\"B0A10000\")"
   ]
  },
  {
   "cell_type": "code",
   "execution_count": 16,
   "metadata": {},
   "outputs": [],
   "source": [
    "connection.disconnect()"
   ]
  },
  {
   "cell_type": "code",
   "execution_count": null,
   "metadata": {},
   "outputs": [],
   "source": []
  }
 ],
 "metadata": {
  "kernelspec": {
   "display_name": "Python 3",
   "language": "python",
   "name": "python3"
  },
  "language_info": {
   "codemirror_mode": {
    "name": "ipython",
    "version": 3
   },
   "file_extension": ".py",
   "mimetype": "text/x-python",
   "name": "python",
   "nbconvert_exporter": "python",
   "pygments_lexer": "ipython3",
   "version": "3.7.6"
  }
 },
 "nbformat": 4,
 "nbformat_minor": 2
}
