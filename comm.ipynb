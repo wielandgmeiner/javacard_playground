{
 "cells": [
  {
   "cell_type": "code",
   "execution_count": 122,
   "metadata": {},
   "outputs": [],
   "source": [
    "from smartcard import ATR\n",
    "from smartcard.System import readers\n",
    "from smartcard.CardConnection import CardConnection"
   ]
  },
  {
   "cell_type": "code",
   "execution_count": 159,
   "metadata": {},
   "outputs": [
    {
     "name": "stdout",
     "output_type": "stream",
     "text": [
      "Generic Smart Card Reader Interface\n"
     ]
    }
   ],
   "source": [
    "rarr=readers()\n",
    "if len(rarr) == 0:\n",
    "    print(\"No readers detected\")\n",
    "else:\n",
    "    reader = rarr[0]\n",
    "    print(reader)"
   ]
  },
  {
   "cell_type": "code",
   "execution_count": 160,
   "metadata": {},
   "outputs": [],
   "source": [
    "protocol = CardConnection.T1_protocol\n",
    "connection = reader.createConnection()\n",
    "connection.connect(protocol)"
   ]
  },
  {
   "cell_type": "code",
   "execution_count": 161,
   "metadata": {},
   "outputs": [
    {
     "data": {
      "text/plain": [
       "'3bfe1800008031fe45803180664090a5102e1083019000f2'"
      ]
     },
     "execution_count": 161,
     "metadata": {},
     "output_type": "execute_result"
    }
   ],
   "source": [
    "atr=bytes(connection.getATR())\n",
    "atr.hex()"
   ]
  },
  {
   "cell_type": "code",
   "execution_count": 162,
   "metadata": {},
   "outputs": [],
   "source": [
    "def select(appletID):\n",
    "    data = list(bytes.fromhex(appletID))\n",
    "    # Select:\n",
    "    # CLA = 0x00\n",
    "    # INS = 0xA4\n",
    "    # P1 = 0x04\n",
    "    # P2 = 0x00\n",
    "    # Data = the instance AID\n",
    "    cmd = [0x00, # CLA\n",
    "              0xA4, # INS\n",
    "              0x04, # P1\n",
    "              0x00, # P2\n",
    "              len(data), # Lc (content length)\n",
    "          ] + data + [0x00]\n",
    "    print(bytes(cmd).hex().upper())\n",
    "    data, *sw = connection.transmit(cmd,protocol)\n",
    "    data = bytes(data)\n",
    "    sw = bytes(sw)\n",
    "    if sw == b\"\\x90\\x00\":\n",
    "        return data\n",
    "    else:\n",
    "        raise RuntimeError(\"Card responded with code %s and data \\\"%s\\\"\" % (sw.hex(), data.hex()))"
   ]
  },
  {
   "cell_type": "code",
   "execution_count": 163,
   "metadata": {},
   "outputs": [
    {
     "name": "stdout",
     "output_type": "stream",
     "text": [
      "00A4040006B00B5111CA0100\n"
     ]
    },
    {
     "data": {
      "text/plain": [
       "b''"
      ]
     },
     "execution_count": 163,
     "metadata": {},
     "output_type": "execute_result"
    }
   ],
   "source": [
    "select(\"B00B5111CA01\")"
   ]
  },
  {
   "cell_type": "code",
   "execution_count": 164,
   "metadata": {},
   "outputs": [
    {
     "data": {
      "text/plain": [
       "6"
      ]
     },
     "execution_count": 164,
     "metadata": {},
     "output_type": "execute_result"
    }
   ],
   "source": [
    "len(bytes.fromhex(\"B00B5111CA01\"))"
   ]
  },
  {
   "cell_type": "code",
   "execution_count": 165,
   "metadata": {},
   "outputs": [],
   "source": [
    "def request(APDU):\n",
    "    cmd = list(bytes.fromhex(APDU))\n",
    "    data, *sw = connection.transmit(cmd,protocol)\n",
    "    data = bytes(data)\n",
    "    sw = bytes(sw)\n",
    "    if sw == b\"\\x90\\x00\":\n",
    "        return data\n",
    "    else:\n",
    "        raise RuntimeError(\"Card responded with code %s and data \\\"%s\\\"\" % (sw.hex(), data.hex()))"
   ]
  },
  {
   "cell_type": "code",
   "execution_count": 166,
   "metadata": {},
   "outputs": [
    {
     "data": {
      "text/plain": [
       "b'I am a teapot gimme some tea plz'"
      ]
     },
     "execution_count": 166,
     "metadata": {},
     "output_type": "execute_result"
    }
   ],
   "source": [
    "# get secret\n",
    "request(\"B0A100000000\")"
   ]
  },
  {
   "cell_type": "code",
   "execution_count": 167,
   "metadata": {},
   "outputs": [],
   "source": [
    "# get more data...\n",
    "# request(\"00C0000028\")"
   ]
  },
  {
   "cell_type": "code",
   "execution_count": 170,
   "metadata": {},
   "outputs": [
    {
     "name": "stdout",
     "output_type": "stream",
     "text": [
      "160\n"
     ]
    },
    {
     "data": {
      "text/plain": [
       "'a06b69746368656e20737469636b207661756c74207261696e20636f617374206e657068657720636f7079206166666f7264206d6f6e69746f7220646563616465206368616c6b207365676d656e742063617061626c6520666f727761726420636c696666207468616e6b2070617665207468756e646572206469616d6f6e6420626568617665206472616674206469616c2066726f7a656e20657373656e6365'"
      ]
     },
     "execution_count": 170,
     "metadata": {},
     "output_type": "execute_result"
    }
   ],
   "source": [
    "secret = \"kitchen stick vault rain coast nephew copy afford monitor decade chalk segment capable forward cliff thank pave thunder diamond behave draft dial frozen essence\"\n",
    "print(len(secret))\n",
    "data = bytes([len(secret)])+secret.encode()\n",
    "data.hex()"
   ]
  },
  {
   "cell_type": "code",
   "execution_count": 171,
   "metadata": {},
   "outputs": [
    {
     "data": {
      "text/plain": [
       "b'\\xb0\\xa2\\x00\\x00\\xa0kitchen stick vault rain coast nephew copy afford monitor decade chalk segment capable forward cliff thank pave thunder diamond behave draft dial frozen es'"
      ]
     },
     "execution_count": 171,
     "metadata": {},
     "output_type": "execute_result"
    }
   ],
   "source": [
    "# put secret\n",
    "request(\"B0A20000\"+data.hex()+\"00\")"
   ]
  },
  {
   "cell_type": "code",
   "execution_count": 172,
   "metadata": {},
   "outputs": [
    {
     "data": {
      "text/plain": [
       "b'\\xb0\\xa2\\x00\\x00\\xa0kitchen stick vault rain coast nephew copy afford monitor decade chalk segment capable forward cliff thank pave thunder diamond behave draft dial frozen es'"
      ]
     },
     "execution_count": 172,
     "metadata": {},
     "output_type": "execute_result"
    }
   ],
   "source": [
    "# get secret again\n",
    "request(\"B0A10000\")"
   ]
  },
  {
   "cell_type": "code",
   "execution_count": 135,
   "metadata": {},
   "outputs": [],
   "source": [
    "connection.disconnect()"
   ]
  },
  {
   "cell_type": "code",
   "execution_count": null,
   "metadata": {},
   "outputs": [],
   "source": []
  }
 ],
 "metadata": {
  "kernelspec": {
   "display_name": "Python 3",
   "language": "python",
   "name": "python3"
  },
  "language_info": {
   "codemirror_mode": {
    "name": "ipython",
    "version": 3
   },
   "file_extension": ".py",
   "mimetype": "text/x-python",
   "name": "python",
   "nbconvert_exporter": "python",
   "pygments_lexer": "ipython3",
   "version": "3.7.6"
  }
 },
 "nbformat": 4,
 "nbformat_minor": 2
}
