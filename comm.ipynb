{
 "cells": [
  {
   "cell_type": "code",
   "execution_count": 1,
   "metadata": {},
   "outputs": [],
   "source": [
    "from smartcard import ATR\n",
    "from smartcard.System import readers"
   ]
  },
  {
   "cell_type": "code",
   "execution_count": 2,
   "metadata": {},
   "outputs": [
    {
     "name": "stdout",
     "output_type": "stream",
     "text": [
      "Generic Smart Card Reader Interface\n"
     ]
    }
   ],
   "source": [
    "rarr=readers()\n",
    "if len(rarr) == 0:\n",
    "    print(\"No readers detected\")\n",
    "else:\n",
    "    reader = rarr[0]\n",
    "    print(reader)"
   ]
  },
  {
   "cell_type": "code",
   "execution_count": 12,
   "metadata": {},
   "outputs": [],
   "source": [
    "connection = reader.createConnection()\n",
    "connection.connect()"
   ]
  },
  {
   "cell_type": "code",
   "execution_count": 4,
   "metadata": {},
   "outputs": [
    {
     "data": {
      "text/plain": [
       "'3bfe1800008031fe45803180664090a5102e1083019000f2'"
      ]
     },
     "execution_count": 4,
     "metadata": {},
     "output_type": "execute_result"
    }
   ],
   "source": [
    "atr=bytes(connection.getATR())\n",
    "atr.hex()"
   ]
  },
  {
   "cell_type": "code",
   "execution_count": 5,
   "metadata": {},
   "outputs": [],
   "source": [
    "def select(appletID):\n",
    "    data = list(bytes.fromhex(appletID))\n",
    "    # Select:\n",
    "    # CLA = 0x00\n",
    "    # INS = 0xA4\n",
    "    # P1 = 0x04\n",
    "    # P2 = 0x00\n",
    "    # Data = the instance AID\n",
    "    cmd = [0x00, # CLA\n",
    "              0xA4, # INS\n",
    "              0x04, # P1\n",
    "              0x00, # P2\n",
    "              len(data), # Lc (content length)\n",
    "          ] + data + [0x00]\n",
    "    data, *sw = connection.transmit(cmd)\n",
    "    data = bytes(data)\n",
    "    sw = bytes(sw)\n",
    "    if sw == b\"\\x90\\x00\":\n",
    "        return data\n",
    "    else:\n",
    "        raise RuntimeError(\"Card responded with code %s and data \\\"%s\\\"\" % (sw.hex(), data.hex()))"
   ]
  },
  {
   "cell_type": "code",
   "execution_count": 14,
   "metadata": {},
   "outputs": [
    {
     "data": {
      "text/plain": [
       "b''"
      ]
     },
     "execution_count": 14,
     "metadata": {},
     "output_type": "execute_result"
    }
   ],
   "source": [
    "select(\"B00B5111CA01\")"
   ]
  },
  {
   "cell_type": "code",
   "execution_count": 7,
   "metadata": {},
   "outputs": [],
   "source": [
    "def request(APDU):\n",
    "    cmd = list(bytes.fromhex(APDU))\n",
    "    data, *sw = connection.transmit(cmd)\n",
    "    data = bytes(data)\n",
    "    sw = bytes(sw)\n",
    "    if sw == b\"\\x90\\x00\":\n",
    "        return data\n",
    "    else:\n",
    "        raise RuntimeError(\"Card responded with code %s and data \\\"%s\\\"\" % (sw.hex(), data.hex()))"
   ]
  },
  {
   "cell_type": "code",
   "execution_count": 8,
   "metadata": {},
   "outputs": [
    {
     "data": {
      "text/plain": [
       "b'I am a teapot gimme some tea plz'"
      ]
     },
     "execution_count": 8,
     "metadata": {},
     "output_type": "execute_result"
    }
   ],
   "source": [
    "# get secret\n",
    "request(\"B0A100000000\")"
   ]
  },
  {
   "cell_type": "code",
   "execution_count": 9,
   "metadata": {},
   "outputs": [
    {
     "name": "stdout",
     "output_type": "stream",
     "text": [
      "46\n"
     ]
    },
    {
     "data": {
      "text/plain": [
       "'2e6f6d6667206920616d206a61766120646576206e6f772120546869732063616e6e6f7420626520747275652e2e2e'"
      ]
     },
     "execution_count": 9,
     "metadata": {},
     "output_type": "execute_result"
    }
   ],
   "source": [
    "secret = \"omfg i am java dev now! This cannot be true...\"\n",
    "print(len(secret))\n",
    "data = bytes([len(secret)])+secret.encode()\n",
    "data.hex()"
   ]
  },
  {
   "cell_type": "code",
   "execution_count": 10,
   "metadata": {},
   "outputs": [
    {
     "data": {
      "text/plain": [
       "b'omfg i am java dev now! This cannot be true...'"
      ]
     },
     "execution_count": 10,
     "metadata": {},
     "output_type": "execute_result"
    }
   ],
   "source": [
    "# put secret\n",
    "request(\"B0A20000\"+data.hex()+\"00\")"
   ]
  },
  {
   "cell_type": "code",
   "execution_count": 15,
   "metadata": {},
   "outputs": [
    {
     "data": {
      "text/plain": [
       "b'omfg i am java dev now! This cannot be true...'"
      ]
     },
     "execution_count": 15,
     "metadata": {},
     "output_type": "execute_result"
    }
   ],
   "source": [
    "# get secret again\n",
    "request(\"B0A100000000\")"
   ]
  },
  {
   "cell_type": "code",
   "execution_count": 16,
   "metadata": {},
   "outputs": [],
   "source": [
    "connection.disconnect()"
   ]
  },
  {
   "cell_type": "code",
   "execution_count": null,
   "metadata": {},
   "outputs": [],
   "source": []
  }
 ],
 "metadata": {
  "kernelspec": {
   "display_name": "Python 3",
   "language": "python",
   "name": "python3"
  },
  "language_info": {
   "codemirror_mode": {
    "name": "ipython",
    "version": 3
   },
   "file_extension": ".py",
   "mimetype": "text/x-python",
   "name": "python",
   "nbconvert_exporter": "python",
   "pygments_lexer": "ipython3",
   "version": "3.7.6"
  }
 },
 "nbformat": 4,
 "nbformat_minor": 2
}
