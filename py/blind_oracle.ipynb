{
 "cells": [
  {
   "cell_type": "code",
   "execution_count": 3,
   "metadata": {},
   "outputs": [],
   "source": [
    "from embit import bip39, bip32\n",
    "import os, hashlib"
   ]
  },
  {
   "cell_type": "code",
   "execution_count": 4,
   "metadata": {},
   "outputs": [
    {
     "data": {
      "text/plain": [
       "'carry decide decline search grant chest demand cram crane creek confirm ill limb text bar almost donor club prefer hand future hair endless proof'"
      ]
     },
     "execution_count": 4,
     "metadata": {},
     "output_type": "execute_result"
    }
   ],
   "source": [
    "mnemonic = bip39.mnemonic_from_bytes(hashlib.sha256(b\"random stuff\").digest())\n",
    "mnemonic"
   ]
  },
  {
   "cell_type": "code",
   "execution_count": 5,
   "metadata": {},
   "outputs": [
    {
     "data": {
      "text/plain": [
       "'f7718b42e345f991289e3db39ca0f64ed8c25a2481d8bbd31cd972b96ea902dbca30c2c00fe631f279371343c1cbd0e71d6c1cde944ab62b26d058cd9b8e79bc'"
      ]
     },
     "execution_count": 5,
     "metadata": {},
     "output_type": "execute_result"
    }
   ],
   "source": [
    "seed = bip39.mnemonic_to_seed(mnemonic, '')\n",
    "seed.hex()"
   ]
  },
  {
   "cell_type": "code",
   "execution_count": 6,
   "metadata": {},
   "outputs": [
    {
     "data": {
      "text/plain": [
       "'xprv9s21ZrQH143K3vWs32LN8d3nPPWywCw6DRtPZdb6qpZHQtuT1iDogKWcqT9EpRuEn5ivoTe7B8iNUza4A8527crvTKGhexMaG54494QjEaF'"
      ]
     },
     "execution_count": 6,
     "metadata": {},
     "output_type": "execute_result"
    }
   ],
   "source": [
    "root = bip32.HDKey.from_seed(seed)\n",
    "root.to_base58()"
   ]
  },
  {
   "cell_type": "code",
   "execution_count": 7,
   "metadata": {},
   "outputs": [
    {
     "data": {
      "text/plain": [
       "'000000000000000000bb4dc15b22e4c399c49458bc45581d64133796673f3c4adfbda24a12d58bf6f500a971004c8f2e179bb31a2af499c39bc180e94bac65eee46ba0439632f14cc060'"
      ]
     },
     "execution_count": 7,
     "metadata": {},
     "output_type": "execute_result"
    }
   ],
   "source": [
    "root.serialize()[4:].hex()"
   ]
  },
  {
   "cell_type": "code",
   "execution_count": 9,
   "metadata": {},
   "outputs": [],
   "source": [
    "from applets.core import get_connection, SecureAppletBase\n",
    "\n",
    "class BlindOracle(SecureAppletBase):\n",
    "    def __init__(self, connection=None):\n",
    "        super().__init__(\"B00B5111CE01\", connection)\n",
    "\n",
    "    def set_seed(self, seed):\n",
    "        return self.secure_request(b'\\x10\\x02'+seed)\n",
    "\n",
    "    def derive_seed(self, password=b''):\n",
    "        return self.secure_request(b'\\x10\\x04'+password)\n",
    "\n",
    "    def get_xpub(self, derivation=b''):\n",
    "        return self.secure_request(b'\\x11\\x01'+derivation)"
   ]
  },
  {
   "cell_type": "code",
   "execution_count": 10,
   "metadata": {},
   "outputs": [],
   "source": [
    "connection = get_connection()\n",
    "if connection is None:\n",
    "    print(\"Failed to open a connection. No cardreaders?\")"
   ]
  },
  {
   "cell_type": "code",
   "execution_count": 11,
   "metadata": {},
   "outputs": [
    {
     "data": {
      "text/plain": [
       "b''"
      ]
     },
     "execution_count": 11,
     "metadata": {},
     "output_type": "execute_result"
    }
   ],
   "source": [
    "app = BlindOracle(connection)\n",
    "app.select()"
   ]
  },
  {
   "cell_type": "code",
   "execution_count": 12,
   "metadata": {},
   "outputs": [
    {
     "data": {
      "text/plain": [
       "True"
      ]
     },
     "execution_count": 12,
     "metadata": {},
     "output_type": "execute_result"
    }
   ],
   "source": [
    "app.establish_secure_channel()\n",
    "app.is_secure_channel_open"
   ]
  },
  {
   "cell_type": "code",
   "execution_count": 15,
   "metadata": {},
   "outputs": [
    {
     "data": {
      "text/plain": [
       "b''"
      ]
     },
     "execution_count": 15,
     "metadata": {},
     "output_type": "execute_result"
    }
   ],
   "source": [
    "app.set_seed(seed)"
   ]
  },
  {
   "cell_type": "code",
   "execution_count": 16,
   "metadata": {},
   "outputs": [
    {
     "data": {
      "text/plain": [
       "b''"
      ]
     },
     "execution_count": 16,
     "metadata": {},
     "output_type": "execute_result"
    }
   ],
   "source": [
    "app.derive_seed()"
   ]
  },
  {
   "cell_type": "code",
   "execution_count": 17,
   "metadata": {},
   "outputs": [
    {
     "ename": "RuntimeError",
     "evalue": "Card returned secure error with code '0000' and data b'\\x00\\x00\\x00\\x00\\x00\\x00\\x00\\xbbM\\xc1[\"\\xe4\\xc3\\x99\\xc4\\x94X\\xbcEX\\x1dd\\x137\\x96g?<J\\xdf\\xbd\\xa2J\\x12\\xd5\\x8b\\xf6\\xf5\\x03\\xdb\\x1afe\\xe5\\xbc\\xca\\xaaqT<\\x18T\\x9d\\x87\\xbb\\xac~\\x9a\\x10\\xd8\\x0f\\x0e\\xf0\\xc9\\x92L\\x8c\\x08>\\xc3R\\x00\\x00'",
     "output_type": "error",
     "traceback": [
      "\u001b[0;31m---------------------------------------------------------------------------\u001b[0m",
      "\u001b[0;31mRuntimeError\u001b[0m                              Traceback (most recent call last)",
      "\u001b[0;32m<ipython-input-17-ad0744e50169>\u001b[0m in \u001b[0;36m<module>\u001b[0;34m\u001b[0m\n\u001b[0;32m----> 1\u001b[0;31m \u001b[0mapp\u001b[0m\u001b[0;34m.\u001b[0m\u001b[0mget_xpub\u001b[0m\u001b[0;34m(\u001b[0m\u001b[0;34m)\u001b[0m\u001b[0;34m.\u001b[0m\u001b[0mhex\u001b[0m\u001b[0;34m(\u001b[0m\u001b[0;34m)\u001b[0m\u001b[0;34m\u001b[0m\u001b[0;34m\u001b[0m\u001b[0m\n\u001b[0m",
      "\u001b[0;32m<ipython-input-9-4f2b6ad2e701>\u001b[0m in \u001b[0;36mget_xpub\u001b[0;34m(self, derivation)\u001b[0m\n\u001b[1;32m     12\u001b[0m \u001b[0;34m\u001b[0m\u001b[0m\n\u001b[1;32m     13\u001b[0m     \u001b[0;32mdef\u001b[0m \u001b[0mget_xpub\u001b[0m\u001b[0;34m(\u001b[0m\u001b[0mself\u001b[0m\u001b[0;34m,\u001b[0m \u001b[0mderivation\u001b[0m\u001b[0;34m=\u001b[0m\u001b[0;34mb''\u001b[0m\u001b[0;34m)\u001b[0m\u001b[0;34m:\u001b[0m\u001b[0;34m\u001b[0m\u001b[0;34m\u001b[0m\u001b[0m\n\u001b[0;32m---> 14\u001b[0;31m         \u001b[0;32mreturn\u001b[0m \u001b[0mself\u001b[0m\u001b[0;34m.\u001b[0m\u001b[0msecure_request\u001b[0m\u001b[0;34m(\u001b[0m\u001b[0;34mb'\\x11\\x01'\u001b[0m\u001b[0;34m+\u001b[0m\u001b[0mderivation\u001b[0m\u001b[0;34m)\u001b[0m\u001b[0;34m\u001b[0m\u001b[0;34m\u001b[0m\u001b[0m\n\u001b[0m",
      "\u001b[0;32m~/dev/se/applet/javacard_playground/py/applets/core.py\u001b[0m in \u001b[0;36msecure_request\u001b[0;34m(self, data)\u001b[0m\n\u001b[1;32m    217\u001b[0m             \u001b[0;32mreturn\u001b[0m \u001b[0mplaintext\u001b[0m\u001b[0;34m[\u001b[0m\u001b[0;36m2\u001b[0m\u001b[0;34m:\u001b[0m\u001b[0;34m]\u001b[0m\u001b[0;34m\u001b[0m\u001b[0;34m\u001b[0m\u001b[0m\n\u001b[1;32m    218\u001b[0m         \u001b[0;32melse\u001b[0m\u001b[0;34m:\u001b[0m\u001b[0;34m\u001b[0m\u001b[0;34m\u001b[0m\u001b[0m\n\u001b[0;32m--> 219\u001b[0;31m             \u001b[0;32mraise\u001b[0m \u001b[0mRuntimeError\u001b[0m\u001b[0;34m(\u001b[0m\u001b[0;34m\"Card returned secure error with code %r and data %r\"\u001b[0m \u001b[0;34m%\u001b[0m \u001b[0;34m(\u001b[0m\u001b[0mplaintext\u001b[0m\u001b[0;34m[\u001b[0m\u001b[0;34m:\u001b[0m\u001b[0;36m2\u001b[0m\u001b[0;34m]\u001b[0m\u001b[0;34m.\u001b[0m\u001b[0mhex\u001b[0m\u001b[0;34m(\u001b[0m\u001b[0;34m)\u001b[0m\u001b[0;34m,\u001b[0m \u001b[0mplaintext\u001b[0m\u001b[0;34m[\u001b[0m\u001b[0;36m2\u001b[0m\u001b[0;34m:\u001b[0m\u001b[0;34m]\u001b[0m\u001b[0;34m)\u001b[0m\u001b[0;34m)\u001b[0m\u001b[0;34m\u001b[0m\u001b[0;34m\u001b[0m\u001b[0m\n\u001b[0m\u001b[1;32m    220\u001b[0m \u001b[0;34m\u001b[0m\u001b[0m\n\u001b[1;32m    221\u001b[0m     \u001b[0;32mdef\u001b[0m \u001b[0mclose_secure_channel\u001b[0m\u001b[0;34m(\u001b[0m\u001b[0mself\u001b[0m\u001b[0;34m)\u001b[0m\u001b[0;34m:\u001b[0m\u001b[0;34m\u001b[0m\u001b[0;34m\u001b[0m\u001b[0m\n",
      "\u001b[0;31mRuntimeError\u001b[0m: Card returned secure error with code '0000' and data b'\\x00\\x00\\x00\\x00\\x00\\x00\\x00\\xbbM\\xc1[\"\\xe4\\xc3\\x99\\xc4\\x94X\\xbcEX\\x1dd\\x137\\x96g?<J\\xdf\\xbd\\xa2J\\x12\\xd5\\x8b\\xf6\\xf5\\x03\\xdb\\x1afe\\xe5\\xbc\\xca\\xaaqT<\\x18T\\x9d\\x87\\xbb\\xac~\\x9a\\x10\\xd8\\x0f\\x0e\\xf0\\xc9\\x92L\\x8c\\x08>\\xc3R\\x00\\x00'"
     ]
    }
   ],
   "source": [
    "app.get_xpub().hex()"
   ]
  },
  {
   "cell_type": "code",
   "execution_count": 19,
   "metadata": {},
   "outputs": [
    {
     "data": {
      "text/plain": [
       "'000000000000000000bb4dc15b22e4c399c49458bc45581d64133796673f3c4adfbda24a12d58bf6f503db1a6665e5bccaaa71543c18549d87bbac7e9a10d80f0ef0c9924c8c083ec352'"
      ]
     },
     "execution_count": 19,
     "metadata": {},
     "output_type": "execute_result"
    }
   ],
   "source": [
    "b'\\x00\\x00\\x00\\x00\\x00\\x00\\x00\\x00\\x00\\xbbM\\xc1[\"\\xe4\\xc3\\x99\\xc4\\x94X\\xbcEX\\x1dd\\x137\\x96g?<J\\xdf\\xbd\\xa2J\\x12\\xd5\\x8b\\xf6\\xf5\\x03\\xdb\\x1afe\\xe5\\xbc\\xca\\xaaqT<\\x18T\\x9d\\x87\\xbb\\xac~\\x9a\\x10\\xd8\\x0f\\x0e\\xf0\\xc9\\x92L\\x8c\\x08>\\xc3R'.hex()"
   ]
  },
  {
   "cell_type": "code",
   "execution_count": 21,
   "metadata": {},
   "outputs": [
    {
     "data": {
      "text/plain": [
       "'000000000000000000bb4dc15b22e4c399c49458bc45581d64133796673f3c4adfbda24a12d58bf6f503db1a6665e5bccaaa71543c18549d87bbac7e9a10d80f0ef0c9924c8c083ec352'"
      ]
     },
     "execution_count": 21,
     "metadata": {},
     "output_type": "execute_result"
    }
   ],
   "source": [
    "root.to_public().serialize()[4:].hex()"
   ]
  },
  {
   "cell_type": "code",
   "execution_count": 23,
   "metadata": {},
   "outputs": [],
   "source": [
    "connection.disconnect()"
   ]
  },
  {
   "cell_type": "code",
   "execution_count": null,
   "metadata": {},
   "outputs": [],
   "source": []
  }
 ],
 "metadata": {
  "kernelspec": {
   "display_name": "Python 3",
   "language": "python",
   "name": "python3"
  },
  "language_info": {
   "codemirror_mode": {
    "name": "ipython",
    "version": 3
   },
   "file_extension": ".py",
   "mimetype": "text/x-python",
   "name": "python",
   "nbconvert_exporter": "python",
   "pygments_lexer": "ipython3",
   "version": "3.7.6"
  }
 },
 "nbformat": 4,
 "nbformat_minor": 2
}
