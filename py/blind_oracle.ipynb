{
 "cells": [
  {
   "cell_type": "code",
   "execution_count": 1,
   "metadata": {},
   "outputs": [],
   "source": [
    "from embit import bip39, bip32\n",
    "import os, hashlib"
   ]
  },
  {
   "cell_type": "code",
   "execution_count": 2,
   "metadata": {},
   "outputs": [
    {
     "data": {
      "text/plain": [
       "'carry decide decline search grant chest demand cram crane creek confirm ill limb text bar almost donor club prefer hand future hair endless proof'"
      ]
     },
     "execution_count": 2,
     "metadata": {},
     "output_type": "execute_result"
    }
   ],
   "source": [
    "mnemonic = bip39.mnemonic_from_bytes(hashlib.sha256(b\"random stuff\").digest())\n",
    "mnemonic"
   ]
  },
  {
   "cell_type": "code",
   "execution_count": 3,
   "metadata": {},
   "outputs": [
    {
     "data": {
      "text/plain": [
       "'f7718b42e345f991289e3db39ca0f64ed8c25a2481d8bbd31cd972b96ea902dbca30c2c00fe631f279371343c1cbd0e71d6c1cde944ab62b26d058cd9b8e79bc'"
      ]
     },
     "execution_count": 3,
     "metadata": {},
     "output_type": "execute_result"
    }
   ],
   "source": [
    "seed = bip39.mnemonic_to_seed(mnemonic, '')\n",
    "seed.hex()"
   ]
  },
  {
   "cell_type": "code",
   "execution_count": 4,
   "metadata": {},
   "outputs": [
    {
     "data": {
      "text/plain": [
       "'xprv9s21ZrQH143K3vWs32LN8d3nPPWywCw6DRtPZdb6qpZHQtuT1iDogKWcqT9EpRuEn5ivoTe7B8iNUza4A8527crvTKGhexMaG54494QjEaF'"
      ]
     },
     "execution_count": 4,
     "metadata": {},
     "output_type": "execute_result"
    }
   ],
   "source": [
    "root = bip32.HDKey.from_seed(seed)\n",
    "root.to_base58()"
   ]
  },
  {
   "cell_type": "code",
   "execution_count": 5,
   "metadata": {},
   "outputs": [
    {
     "data": {
      "text/plain": [
       "'000000000000000000bb4dc15b22e4c399c49458bc45581d64133796673f3c4adfbda24a12d58bf6f500a971004c8f2e179bb31a2af499c39bc180e94bac65eee46ba0439632f14cc060'"
      ]
     },
     "execution_count": 5,
     "metadata": {},
     "output_type": "execute_result"
    }
   ],
   "source": [
    "root.serialize()[4:].hex()"
   ]
  },
  {
   "cell_type": "code",
   "execution_count": 6,
   "metadata": {},
   "outputs": [],
   "source": [
    "from applets.core import get_connection, SecureAppletBase\n",
    "\n",
    "class BlindOracle(SecureAppletBase):\n",
    "    def __init__(self, connection=None):\n",
    "        super().__init__(\"B00B5111CE01\", connection)\n",
    "\n",
    "    def set_seed(self, seed):\n",
    "        return self.secure_request(b'\\x10\\x02'+seed)\n",
    "\n",
    "    def derive_seed(self, password=b''):\n",
    "        return self.secure_request(b'\\x10\\x04'+password)\n",
    "\n",
    "    def get_xpub(self, derivation=b''):\n",
    "        return self.secure_request(b'\\x11\\x01'+derivation)\n",
    "    \n",
    "    def sign(self, msg):\n",
    "        return self.secure_request(b'\\x11\\x02'+msg)"
   ]
  },
  {
   "cell_type": "code",
   "execution_count": 7,
   "metadata": {},
   "outputs": [],
   "source": [
    "connection = get_connection()\n",
    "if connection is None:\n",
    "    print(\"Failed to open a connection. No cardreaders?\")"
   ]
  },
  {
   "cell_type": "code",
   "execution_count": 8,
   "metadata": {},
   "outputs": [
    {
     "data": {
      "text/plain": [
       "b''"
      ]
     },
     "execution_count": 8,
     "metadata": {},
     "output_type": "execute_result"
    }
   ],
   "source": [
    "app = BlindOracle(connection)\n",
    "app.select()"
   ]
  },
  {
   "cell_type": "code",
   "execution_count": 9,
   "metadata": {},
   "outputs": [
    {
     "data": {
      "text/plain": [
       "True"
      ]
     },
     "execution_count": 9,
     "metadata": {},
     "output_type": "execute_result"
    }
   ],
   "source": [
    "app.establish_secure_channel()\n",
    "app.is_secure_channel_open"
   ]
  },
  {
   "cell_type": "code",
   "execution_count": 10,
   "metadata": {},
   "outputs": [
    {
     "data": {
      "text/plain": [
       "b''"
      ]
     },
     "execution_count": 10,
     "metadata": {},
     "output_type": "execute_result"
    }
   ],
   "source": [
    "app.set_seed(seed)"
   ]
  },
  {
   "cell_type": "code",
   "execution_count": 11,
   "metadata": {},
   "outputs": [
    {
     "data": {
      "text/plain": [
       "b''"
      ]
     },
     "execution_count": 11,
     "metadata": {},
     "output_type": "execute_result"
    }
   ],
   "source": [
    "app.derive_seed()"
   ]
  },
  {
   "cell_type": "code",
   "execution_count": 12,
   "metadata": {},
   "outputs": [
    {
     "data": {
      "text/plain": [
       "'000000000000000000bb4dc15b22e4c399c49458bc45581d64133796673f3c4adfbda24a12d58bf6f503db1a6665e5bccaaa71543c18549d87bbac7e9a10d80f0ef0c9924c8c083ec352'"
      ]
     },
     "execution_count": 12,
     "metadata": {},
     "output_type": "execute_result"
    }
   ],
   "source": [
    "r = app.get_xpub()\n",
    "r.hex()"
   ]
  },
  {
   "cell_type": "code",
   "execution_count": 13,
   "metadata": {},
   "outputs": [
    {
     "data": {
      "text/plain": [
       "True"
      ]
     },
     "execution_count": 13,
     "metadata": {},
     "output_type": "execute_result"
    }
   ],
   "source": [
    "root.to_public().serialize()[4:] == r"
   ]
  },
  {
   "cell_type": "code",
   "execution_count": 14,
   "metadata": {},
   "outputs": [
    {
     "data": {
      "text/plain": [
       "[2147483692, 2147483649, 2147483648, 0, 1]"
      ]
     },
     "execution_count": 14,
     "metadata": {},
     "output_type": "execute_result"
    }
   ],
   "source": [
    "der = bip32.parse_path(\"m/44h/1h/0h/0/1\")\n",
    "der"
   ]
  },
  {
   "cell_type": "code",
   "execution_count": 15,
   "metadata": {},
   "outputs": [
    {
     "data": {
      "text/plain": [
       "'8000002c80000001800000000000000000000001'"
      ]
     },
     "execution_count": 15,
     "metadata": {},
     "output_type": "execute_result"
    }
   ],
   "source": [
    "derivation = b\"\".join([d.to_bytes(4,'big') for d in der])\n",
    "derivation.hex()"
   ]
  },
  {
   "cell_type": "code",
   "execution_count": 17,
   "metadata": {},
   "outputs": [
    {
     "data": {
      "text/plain": [
       "'05d609b81500000001d04ace55922a1b6f284ca52e0ffbfa6493d346b63886efe68ab256f14d9c7d95024dd8ed7b990476dbe7252e73f9eeb324b3020be841b0e5e1174262fb1f621e71'"
      ]
     },
     "execution_count": 17,
     "metadata": {},
     "output_type": "execute_result"
    }
   ],
   "source": [
    "res = app.get_xpub(derivation)\n",
    "res.hex()"
   ]
  },
  {
   "cell_type": "code",
   "execution_count": 18,
   "metadata": {},
   "outputs": [
    {
     "data": {
      "text/plain": [
       "True"
      ]
     },
     "execution_count": 18,
     "metadata": {},
     "output_type": "execute_result"
    }
   ],
   "source": [
    "root.derive(der).to_public().serialize()[4:] == res"
   ]
  },
  {
   "cell_type": "code",
   "execution_count": 19,
   "metadata": {},
   "outputs": [],
   "source": [
    "msg = b'5'*32"
   ]
  },
  {
   "cell_type": "code",
   "execution_count": 20,
   "metadata": {},
   "outputs": [],
   "source": [
    "pub = root.derive(der).to_public().key"
   ]
  },
  {
   "cell_type": "code",
   "execution_count": 21,
   "metadata": {},
   "outputs": [
    {
     "data": {
      "text/plain": [
       "'3045022100a1fe432130e972d4768a2368c01a0fc0bf4292c7226972ba0f2d72cd03c5dcb802201b52fab947c4815170c12ad3dc2655979a18fb189a527fa7c88266aa6dd12b08'"
      ]
     },
     "execution_count": 21,
     "metadata": {},
     "output_type": "execute_result"
    }
   ],
   "source": [
    "sig = app.sign(msg)\n",
    "sig.hex()"
   ]
  },
  {
   "cell_type": "code",
   "execution_count": 22,
   "metadata": {},
   "outputs": [],
   "source": [
    "from embit import ec\n",
    "s = ec.Signature.parse(sig)"
   ]
  },
  {
   "cell_type": "code",
   "execution_count": 23,
   "metadata": {},
   "outputs": [
    {
     "data": {
      "text/plain": [
       "True"
      ]
     },
     "execution_count": 23,
     "metadata": {},
     "output_type": "execute_result"
    }
   ],
   "source": [
    "pub.verify(s, msg)"
   ]
  },
  {
   "cell_type": "code",
   "execution_count": 24,
   "metadata": {},
   "outputs": [],
   "source": [
    "connection.disconnect()"
   ]
  },
  {
   "cell_type": "code",
   "execution_count": null,
   "metadata": {},
   "outputs": [],
   "source": []
  }
 ],
 "metadata": {
  "kernelspec": {
   "display_name": "Python 3",
   "language": "python",
   "name": "python3"
  },
  "language_info": {
   "codemirror_mode": {
    "name": "ipython",
    "version": 3
   },
   "file_extension": ".py",
   "mimetype": "text/x-python",
   "name": "python",
   "nbconvert_exporter": "python",
   "pygments_lexer": "ipython3",
   "version": "3.7.6"
  }
 },
 "nbformat": 4,
 "nbformat_minor": 2
}
