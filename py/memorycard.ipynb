{
 "cells": [
  {
   "cell_type": "markdown",
   "metadata": {},
   "source": [
    "# 1. Establish communication with the card\n",
    "\n",
    "## 1.1. Find the smartcard reader"
   ]
  },
  {
   "cell_type": "code",
   "execution_count": 64,
   "metadata": {},
   "outputs": [],
   "source": [
    "from applets.helpers import get_connection, AppletBase"
   ]
  },
  {
   "cell_type": "code",
   "execution_count": 65,
   "metadata": {},
   "outputs": [],
   "source": [
    "connection = get_connection()\n",
    "if connection is None:\n",
    "    print(\"Failed to open a connection. No cardreaders?\")"
   ]
  },
  {
   "cell_type": "markdown",
   "metadata": {},
   "source": [
    "## 1.2. Power on the card and get `ATR`\n",
    "`ATR` - Answer To Reset, bytes retured by the card when it is powered on.<br>\n",
    "It helps to determine communication protocol and frequency we should choose."
   ]
  },
  {
   "cell_type": "code",
   "execution_count": 66,
   "metadata": {},
   "outputs": [
    {
     "name": "stdout",
     "output_type": "stream",
     "text": [
      "3bdc18ff8191fe1fc38073c821136605036351000250\n"
     ]
    }
   ],
   "source": [
    "atr=bytes(connection.getATR())\n",
    "print(atr.hex())"
   ]
  },
  {
   "cell_type": "markdown",
   "metadata": {},
   "source": [
    "## 1.3. Select the applet by AID\n",
    "JavaCard can have multiple applets installed. They are like very isolated \"apps\".<br>\n",
    "They can't talk to each other and only one can be active at any time."
   ]
  },
  {
   "cell_type": "code",
   "execution_count": 67,
   "metadata": {},
   "outputs": [],
   "source": [
    "from applets.teapot import Teapot\n",
    "\n",
    "class MemoryCard(Teapot):\n",
    "    def __init__(self, connection=None):\n",
    "        super().__init__(connection)\n",
    "        self.AID = \"B00B5111CB01\"\n",
    "\n",
    "    def get_random(self):\n",
    "        return self.request(\"B0B10000\")"
   ]
  },
  {
   "cell_type": "code",
   "execution_count": 68,
   "metadata": {},
   "outputs": [
    {
     "data": {
      "text/plain": [
       "b''"
      ]
     },
     "execution_count": 68,
     "metadata": {},
     "output_type": "execute_result"
    }
   ],
   "source": [
    "app = MemoryCard(connection)\n",
    "app.select()"
   ]
  },
  {
   "cell_type": "code",
   "execution_count": 69,
   "metadata": {},
   "outputs": [
    {
     "data": {
      "text/plain": [
       "'72a79b5445132c88e918cc6574427d1231b18ef0f7cc90953441662e1a3bf378'"
      ]
     },
     "execution_count": 69,
     "metadata": {},
     "output_type": "execute_result"
    }
   ],
   "source": [
    "app.get_random().hex()"
   ]
  },
  {
   "cell_type": "markdown",
   "metadata": {},
   "source": [
    "# 2. Establish secure communication\n",
    "\n",
    "At the moment we use a homebrew version, I need to understand and implement Noise in the near future.\n",
    "\n",
    "[Noise protocol](https://noiseprotocol.org/noise.html) should be with the following primitives:\n",
    "- secp256k1 as signature scheme\n",
    "- AES CBC with random IV as a symmetric cipher\n",
    "- SHA256 as a hash function, HMAC_SHA256 as authentication code\n",
    "\n",
    "AES CBC because we have hardware implementation on the card, so we can use the Key class that is more secure than byte array. HMAC sucks here though...\n",
    "\n",
    "Generally a shared secret is split to 2 different secrets for encryption and decryption. This allows us to use AES in counter mode where the counter is the same for both host and the card - they use different keys so it's ok.\n",
    "\n",
    "Description of the current protocol:\n",
    "1. Get the static public key from the card. If it is already known - proceed with step 2\n",
    "2. Generate a random key pair, calculate a shared secret `s = SHA512(ECDH(d,P))` and split it to two symmetric keys - `enc = s[:32]` for encryption and `dec = s[32:]` for decryption (second 32 bytes)\n",
    "3. Send your pubkey from keypair in step 2 as associated data to the card: `<data:pub_uncompressed><hmac(enc,data>`\n",
    "4. Card will return its fresh public key encrypted: `<ciphertext:iv|aes(dec,iv,pub_card)><hmac(dec,ciphertext)>`\n",
    "5. Verify the `hmac`, decrypt the `pub_card=decrypt(dec,ct)`\n",
    "6. Calculate new shared secret `s=SHA512(ECDH(d,pub_card))`, set counter to zero `iv=0`, use `dec = s[32:]` for decryption, `enc = s[32:]` for enctyption. Increase the counter on every request, reestablish communication if the counter reaches max value (16 bytes, shouldn't happen in most cases)\n",
    "7. All secure messages now should be in the form `<ct:aes(enc,iv,command|data)><hmac_sha256(enc,ct)>`, `iv` is not transmitted but increased for every new command. Returned data will be of the same form but using the `dec` key. `iv` will be the same.\n",
    "\n",
    "Maximum size of the APDU is 256 bytes. Maximum size of the mnemonic is `9*24-1=215` bytes plus length and command and rounding to `16` bytes, plus `32`-byte hmac - we are at `256` bytes... We can send at max `255` bytes.\n",
    "\n",
    "So to store and retrieve large mnemonic we need to split it to two pieces, and provide a function to set part of the data array. Therefore for secret storage we have to make an API: \n",
    "- `set_data<data>` / `get_data` - for short mnemonics\n",
    "- `set_data_length<len>` - should be called first, erases existing data, \n",
    "- `set_data_part <start><data>` - stores part of the data with an offset\n",
    "- `get_data_length`\n",
    "- `get_data_part <start><len>` - gets part of the data from `start` with `len`\n",
    "\n",
    "\n",
    "## 2.1. Get public key from the card"
   ]
  },
  {
   "cell_type": "code",
   "execution_count": 70,
   "metadata": {},
   "outputs": [],
   "source": [
    "# embit library: https://github.com/diybitcoinhardware/embit\n",
    "# works with python3 and micropython\n",
    "from embit.ec import PrivateKey, PublicKey, secp256k1"
   ]
  },
  {
   "cell_type": "code",
   "execution_count": 71,
   "metadata": {},
   "outputs": [
    {
     "data": {
      "text/plain": [
       "PublicKey(045fdd66bff43c2e0a4c85099729a7154e767e0416a9f20f2fb6d3f1cf4bdeaf0c8f633c493dac541a3be2a5ac49ae009f19a1176d401d00c1c1d67d935c14aaa1)"
      ]
     },
     "execution_count": 71,
     "metadata": {},
     "output_type": "execute_result"
    }
   ],
   "source": [
    "# get pubkey - private key is generated when applet is installed\n",
    "sec = app.request(\"B0B2000000\")\n",
    "card_pubkey = PublicKey.parse(sec)\n",
    "card_pubkey"
   ]
  },
  {
   "cell_type": "markdown",
   "metadata": {},
   "source": [
    "## 2.2. Select a random secret on the host"
   ]
  },
  {
   "cell_type": "code",
   "execution_count": 72,
   "metadata": {},
   "outputs": [
    {
     "name": "stdout",
     "output_type": "stream",
     "text": [
      "Shared secret: 32d8f1510d536bfdf120261c0609325c31f3ecbe465db9c5513c53bd4631621a\n",
      "Sha256 of the secret: bee15708c2d76f11c7243175a8be2cec63b73c68ac40fe9cbfb3ff4a4c1634dd\n"
     ]
    }
   ],
   "source": [
    "import os\n",
    "import hashlib\n",
    "secret = os.urandom(32)\n",
    "# ugly copy...\n",
    "pub = PublicKey.parse(card_pubkey.sec())\n",
    "secp256k1.ec_pubkey_tweak_mul(pub._point, secret)\n",
    "shared_secret = pub.sec()[1:33]\n",
    "shared_hash = hashlib.sha256(shared_secret).digest()\n",
    "print(\"Shared secret:\", shared_secret.hex())\n",
    "print(\"Sha256 of the secret:\", shared_hash.hex())"
   ]
  },
  {
   "cell_type": "code",
   "execution_count": 73,
   "metadata": {},
   "outputs": [
    {
     "data": {
      "text/plain": [
       "'410403f60c7cd532a851db6529544608037be95ca8674a0dfb56ffa795235005d785c17ba5f24d92dbffac79e6cacf6b44bfdd62de69951506afb87d193f1c3c38b1'"
      ]
     },
     "execution_count": 73,
     "metadata": {},
     "output_type": "execute_result"
    }
   ],
   "source": [
    "host_prv = PrivateKey(secret)\n",
    "host_pub = host_prv.get_public_key()\n",
    "host_pub.compressed = False\n",
    "data = bytes([65])+host_pub.sec()\n",
    "data.hex()"
   ]
  },
  {
   "cell_type": "code",
   "execution_count": 74,
   "metadata": {},
   "outputs": [
    {
     "name": "stdout",
     "output_type": "stream",
     "text": [
      "Yey! We have a shared secret now!\n"
     ]
    }
   ],
   "source": [
    "res = app.request(\"B0B30000\"+data.hex())\n",
    "if res == shared_hash:\n",
    "    print(\"Yey! We have a shared secret now!\")\n",
    "else:\n",
    "    print(\"Meh... Something didn't work? Card returned %s, we have %s\" % (res.hex(), shared_hash.hex()))"
   ]
  },
  {
   "cell_type": "code",
   "execution_count": 75,
   "metadata": {},
   "outputs": [
    {
     "data": {
      "text/plain": [
       "'045fdd66bff43c2e0a4c85099729a7154e767e0416a9f20f2fb6d3f1cf4bdeaf0c8f633c493dac541a3be2a5ac49ae009f19a1176d401d00c1c1d67d935c14aaa1'"
      ]
     },
     "execution_count": 75,
     "metadata": {},
     "output_type": "execute_result"
    }
   ],
   "source": [
    "# get random data\n",
    "rand = app.request(\"B0B2000000\")\n",
    "rand.hex()"
   ]
  },
  {
   "cell_type": "code",
   "execution_count": 76,
   "metadata": {},
   "outputs": [
    {
     "data": {
      "text/plain": [
       "b'I am a teapot gimme some tea plz'"
      ]
     },
     "execution_count": 76,
     "metadata": {},
     "output_type": "execute_result"
    }
   ],
   "source": [
    "# static data for any other APDU\n",
    "data = app.request(\"B0A1000000\")\n",
    "data"
   ]
  },
  {
   "cell_type": "code",
   "execution_count": 77,
   "metadata": {},
   "outputs": [
    {
     "data": {
      "text/plain": [
       "'204920616d206120746561706f742067696d6d6520736f6d652074656120706c7a'"
      ]
     },
     "execution_count": 77,
     "metadata": {},
     "output_type": "execute_result"
    }
   ],
   "source": [
    "(bytes([len(data)])+data).hex()"
   ]
  },
  {
   "cell_type": "code",
   "execution_count": 78,
   "metadata": {},
   "outputs": [
    {
     "data": {
      "text/plain": [
       "b'TnQ\\x93\\xa9L=\\xba\\x85d\\xbf\\x11\\xc1C\\xc9,/-54=\\xa0\\x9b\\x8e\\\\)\\xe6\\xc8u\\xc9q\\x0e\\x8e:+\\xd7\\x9d\\xfdp\\xa2\\x1c\\x9e\\xa8\\xf1\\x14\\x13\\x92\\x91\\xe49\\x93M\\x08.\\x16\\xf3],\\x91\\xeb\\x80\\xeeToi0\\x956&\\xbb\\xe3oG\\xab\\xed\\x06\\xc9\\xf3N\\xac_\\xf5\\xd5G\\x1d\\x1a\\x98n!\\xdc\\xd6\\xa3\\xdf\\xbc8\\x1c'"
      ]
     },
     "execution_count": 78,
     "metadata": {},
     "output_type": "execute_result"
    }
   ],
   "source": [
    "# static data for any other APDU\n",
    "c = app.request(\"B0A40000\"+(bytes([len(data)])+data).hex())\n",
    "c"
   ]
  },
  {
   "cell_type": "code",
   "execution_count": 79,
   "metadata": {},
   "outputs": [
    {
     "data": {
      "text/plain": [
       "b'I am a teapot gimme some tea plz'"
      ]
     },
     "execution_count": 79,
     "metadata": {},
     "output_type": "execute_result"
    }
   ],
   "source": [
    "from cryptography.hazmat.primitives.ciphers import Cipher, algorithms, modes\n",
    "from cryptography.hazmat.backends import default_backend\n",
    "import hmac\n",
    "\n",
    "def decrypt(c,secret):\n",
    "    recv_hmac = c[-32:]\n",
    "    iv = c[:16]\n",
    "    ct = c[16:-32]\n",
    "    h = hmac.new(shared_secret, digestmod='sha256')\n",
    "    h.update(iv)\n",
    "    h.update(ct)\n",
    "    expected_hmac = h.digest()\n",
    "    if expected_hmac != recv_hmac:\n",
    "        raise RuntimeError(\"Wrong HMAC. Got %s, expected %s\"%(recv_hmac.hex(),expected_hmac.hex()))\n",
    "    backend = default_backend()\n",
    "    cipher = Cipher(algorithms.AES(secret), modes.CBC(iv), backend=backend)\n",
    "    decryptor = cipher.decryptor()\n",
    "    # remove \\x80... padding\n",
    "    plain = decryptor.update(ct)+decryptor.finalize()\n",
    "    return b\"\".join(plain.split(b\"\\x80\")[:-1])\n",
    "\n",
    "decrypt(c, shared_secret)"
   ]
  },
  {
   "cell_type": "code",
   "execution_count": 80,
   "metadata": {},
   "outputs": [],
   "source": [
    "connection.disconnect()"
   ]
  },
  {
   "cell_type": "code",
   "execution_count": null,
   "metadata": {},
   "outputs": [],
   "source": []
  }
 ],
 "metadata": {
  "kernelspec": {
   "display_name": "Python 3",
   "language": "python",
   "name": "python3"
  },
  "language_info": {
   "codemirror_mode": {
    "name": "ipython",
    "version": 3
   },
   "file_extension": ".py",
   "mimetype": "text/x-python",
   "name": "python",
   "nbconvert_exporter": "python",
   "pygments_lexer": "ipython3",
   "version": "3.7.6"
  }
 },
 "nbformat": 4,
 "nbformat_minor": 2
}
