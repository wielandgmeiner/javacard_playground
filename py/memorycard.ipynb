{
 "cells": [
  {
   "cell_type": "markdown",
   "metadata": {},
   "source": [
    "# 1. Establish communication with the card\n",
    "\n",
    "## 1.1. Find the smartcard reader"
   ]
  },
  {
   "cell_type": "code",
   "execution_count": 1,
   "metadata": {},
   "outputs": [],
   "source": [
    "from applets.helpers import get_connection, AppletBase"
   ]
  },
  {
   "cell_type": "code",
   "execution_count": 2,
   "metadata": {},
   "outputs": [],
   "source": [
    "connection = get_connection()\n",
    "if connection is None:\n",
    "    print(\"Failed to open a connection. No cardreaders?\")"
   ]
  },
  {
   "cell_type": "markdown",
   "metadata": {},
   "source": [
    "## 1.2. Power on the card and get `ATR`\n",
    "`ATR` - Answer To Reset, bytes retured by the card when it is powered on.<br>\n",
    "It helps to determine communication protocol and frequency we should choose."
   ]
  },
  {
   "cell_type": "code",
   "execution_count": 3,
   "metadata": {},
   "outputs": [
    {
     "name": "stdout",
     "output_type": "stream",
     "text": [
      "3bdc18ff8191fe1fc38073c821136605036351000250\n"
     ]
    }
   ],
   "source": [
    "atr=bytes(connection.getATR())\n",
    "print(atr.hex())"
   ]
  },
  {
   "cell_type": "markdown",
   "metadata": {},
   "source": [
    "## 1.3. Select the applet by AID\n",
    "JavaCard can have multiple applets installed. They are like very isolated \"apps\".<br>\n",
    "They can't talk to each other and only one can be active at any time."
   ]
  },
  {
   "cell_type": "code",
   "execution_count": 4,
   "metadata": {},
   "outputs": [],
   "source": [
    "from applets.teapot import Teapot\n",
    "\n",
    "# embit library: https://github.com/diybitcoinhardware/embit\n",
    "# works with python3 and micropython\n",
    "from embit.ec import PrivateKey, PublicKey, secp256k1, Signature\n",
    "\n",
    "import os, hashlib, hmac\n",
    "from cryptography.hazmat.primitives.ciphers import Cipher, algorithms, modes\n",
    "from cryptography.hazmat.backends import default_backend\n",
    "\n",
    "class MemoryCard(Teapot):\n",
    "    def __init__(self, connection=None):\n",
    "        super().__init__(connection)\n",
    "        self.AID = \"B00B5111CB01\"\n",
    "        self.iv = 0\n",
    "        self.card_pubkey = None\n",
    "        self.card_key = None\n",
    "        self.host_key = None\n",
    "        self.mode = \"es\"\n",
    "\n",
    "    def get_random(self):\n",
    "        return self.request(\"B0B10000\")\n",
    "    \n",
    "    def get_card_pubkey(self):\n",
    "        sec = self.request(\"B0B2000000\")\n",
    "        self.card_pubkey = PublicKey.parse(sec)\n",
    "        return self.card_pubkey\n",
    "\n",
    "    def establish_secure_channel(self, mode=None):\n",
    "        # save mode for later - i.e. reestablish secure channel\n",
    "        if mode is None:\n",
    "            mode = self.mode\n",
    "        else:\n",
    "            self.mode = mode\n",
    "        # check if we know pubkey already\n",
    "        if self.card_pubkey is None:\n",
    "            self.get_card_pubkey()\n",
    "        # generate ephimerial key\n",
    "        secret = os.urandom(32)\n",
    "        host_prv = PrivateKey(secret)\n",
    "        host_pub = host_prv.get_public_key()\n",
    "        host_pub.compressed = False\n",
    "        data = bytes([65])+host_pub.sec()\n",
    "        # ee mode - ask card to create ephimerial key and send it to us\n",
    "        if mode==\"ee\":\n",
    "            # get ephimerial pubkey from the card\n",
    "            res = app.request(\"B0B40000\"+data.hex())\n",
    "            pub = PublicKey.parse(res[:65])\n",
    "            secp256k1.ec_pubkey_tweak_mul(pub._point, secret)\n",
    "            shared_secret = pub.sec()[1:33]\n",
    "            self.host_key = hashlib.sha256(b'host'+shared_secret).digest()\n",
    "            self.card_key = hashlib.sha256(b'card'+shared_secret).digest()\n",
    "            shared_hash = hashlib.sha256(self.host_key+self.card_key).digest()\n",
    "            recv_hmac = res[65:97]\n",
    "            h = hmac.new(self.card_key, digestmod='sha256')\n",
    "            h.update(res[:65])\n",
    "            expected_hmac = h.digest()\n",
    "            if expected_hmac != recv_hmac:\n",
    "                raise RuntimeError(\"Wrong HMAC. Got %s, expected %s\"%(recv_hmac.hex(),expected_hmac.hex()))\n",
    "            sig = Signature.parse(res[97:])\n",
    "            # card doesn't follow low s rule, so we need to normalize\n",
    "            sig._sig = secp256k1.ecdsa_signature_normalize(sig._sig)\n",
    "            if not self.card_pubkey.verify(sig, hashlib.sha256(res[:97]).digest()):\n",
    "                raise RuntimeError(\"Signature is invalid: %r\", res[97:].hex())\n",
    "        # se mode - use our ephimerial key with card's static key\n",
    "        else:\n",
    "            pub = PublicKey.parse(self.card_pubkey.sec())\n",
    "            secp256k1.ec_pubkey_tweak_mul(pub._point, secret)\n",
    "            shared_secret = pub.sec()[1:33]\n",
    "            self.host_key = hashlib.sha256(b'host'+shared_secret).digest()\n",
    "            self.card_key = hashlib.sha256(b'card'+shared_secret).digest()\n",
    "            shared_hash = hashlib.sha256(self.host_key+self.card_key).digest()\n",
    "            res = self.request(\"B0B30000\"+data.hex())\n",
    "            recv_hmac = res[32:64]\n",
    "            h = hmac.new(self.card_key, digestmod='sha256')\n",
    "            h.update(res[:32])\n",
    "            expected_hmac = h.digest()\n",
    "            if expected_hmac != recv_hmac:\n",
    "                raise RuntimeError(\"Wrong HMAC. Got %s, expected %s\"%(recv_hmac.hex(),expected_hmac.hex()))\n",
    "            sig = Signature.parse(res[64:])\n",
    "            # card doesn't follow low s rule, so we need to normalize\n",
    "            sig._sig = secp256k1.ecdsa_signature_normalize(sig._sig)\n",
    "            if not self.card_pubkey.verify(sig, hashlib.sha256(res[:64]).digest()):\n",
    "                raise RuntimeError(\"Signature is invalid\")\n",
    "            if res[:32] != shared_hash:\n",
    "                raise RuntimeError(\"Meh... Something didn't work? Card returned %s, we have %s\" % (res[:32].hex(), shared_hash.hex()))\n",
    "        # reset iv\n",
    "        self.iv = 0\n",
    "    \n",
    "    def encrypt(self, data):\n",
    "        # add padding\n",
    "        d = data+b'\\x80'\n",
    "        if len(d)%16 != 0:\n",
    "            d += b'\\x00'*(16 - (len(d)%16))\n",
    "        iv = self.iv.to_bytes(16, 'big')\n",
    "        backend = default_backend()\n",
    "        cipher = Cipher(algorithms.AES(self.host_key), modes.CBC(iv), backend=backend)\n",
    "        encryptor = cipher.encryptor()\n",
    "        ct = encryptor.update(d)+encryptor.finalize()\n",
    "        h = hmac.new(self.host_key, digestmod='sha256')\n",
    "        h.update(iv)\n",
    "        h.update(ct)\n",
    "        ct += h.digest()\n",
    "        return ct\n",
    "    \n",
    "    def decrypt(self, ct):\n",
    "        recv_hmac = ct[-32:]\n",
    "        ct = ct[:-32]\n",
    "        iv = self.iv.to_bytes(16, 'big')\n",
    "        h = hmac.new(self.card_key, digestmod='sha256')\n",
    "        h.update(iv)\n",
    "        h.update(ct)\n",
    "        expected_hmac = h.digest()\n",
    "        if expected_hmac != recv_hmac:\n",
    "            raise RuntimeError(\"Wrong HMAC. Got %s, expected %s\"%(recv_hmac.hex(),expected_hmac.hex()))\n",
    "        backend = default_backend()\n",
    "        cipher = Cipher(algorithms.AES(self.card_key), modes.CBC(iv), backend=backend)\n",
    "        decryptor = cipher.decryptor()\n",
    "        # check and remove \\x80... padding\n",
    "        plain = decryptor.update(ct)+decryptor.finalize()\n",
    "        arr = plain.split(b\"\\x80\")\n",
    "        if len(arr)==1 or len(arr[-1].replace(b'\\x00',b''))>0:\n",
    "            raise RuntimeError(\"Wrong padding\")\n",
    "        return (b\"\".join(arr[:-1]))\n",
    "    \n",
    "    def secure_request(self, data):\n",
    "        # if counter reached maximum - reestablish channel\n",
    "        if self.iv >= 2**16:\n",
    "            self.establish_secure_channel()\n",
    "        ct = self.encrypt(data)\n",
    "        res = app.request(\"B0B50000\"+(bytes([len(ct)])+ct).hex())\n",
    "        plaintext = self.decrypt(res)\n",
    "        self.iv += 1\n",
    "        return plaintext"
   ]
  },
  {
   "cell_type": "code",
   "execution_count": 5,
   "metadata": {},
   "outputs": [
    {
     "data": {
      "text/plain": [
       "b''"
      ]
     },
     "execution_count": 5,
     "metadata": {},
     "output_type": "execute_result"
    }
   ],
   "source": [
    "app = MemoryCard(connection)\n",
    "app.select()"
   ]
  },
  {
   "cell_type": "code",
   "execution_count": 6,
   "metadata": {},
   "outputs": [
    {
     "data": {
      "text/plain": [
       "'8663107fb2b6ef01b727f76cdf879001ba9d47362f1b422977321e46caa660ea'"
      ]
     },
     "execution_count": 6,
     "metadata": {},
     "output_type": "execute_result"
    }
   ],
   "source": [
    "app.get_random().hex()"
   ]
  },
  {
   "cell_type": "markdown",
   "metadata": {},
   "source": [
    "# 2. Establish secure communication\n",
    "\n",
    "At the moment we use a homebrew version, I need to understand and implement Noise in the near future.\n",
    "\n",
    "[Noise protocol](https://noiseprotocol.org/noise.html) should be with the following primitives:\n",
    "- secp256k1 as signature scheme\n",
    "- AES CBC with random IV as a symmetric cipher\n",
    "- SHA256 as a hash function, HMAC_SHA256 as authentication code\n",
    "\n",
    "AES CBC because we have hardware implementation on the card, so we can use the Key class that is more secure than byte array. HMAC sucks here though...\n",
    "\n",
    "Generally a shared secret is split to 2 different secrets for encryption and decryption. This allows us to use AES in counter mode where the counter is the same for both host and the card - they use different keys so it's ok.\n",
    "\n",
    "Description of the current protocol:\n",
    "1. Get the static public key from the card. If it is already known - proceed with step 2\n",
    "2. Generate a random key pair and send corresponding pubkey in uncompressed form to the card: `<data:pub_uncompressed>`\n",
    "3. Card will return its fresh session public key, hmac of this public key using shared secret and signature: `<data:session_pubkey_card><hmac(dec,data)><sig(static_pubkey_card,data|hmac)>`\n",
    "4. Verify the signature against card's pubkey\n",
    "5. Calculate a pair of shared secrets from `enc=SHA256('host'|ECDH(d,session_pubkey_card))`, `dec=SHA256('card'|ECDH(d,session_pubkey_card)`\n",
    "6. Verify that `hmac==HMAC_SHA256(dec,session_pubkey_card)`\n",
    "7. Set counter to zero `iv=0`, use `dec` for decryption, `enc` for enctyption. Increase the counter on every request, reestablish communication if the counter reaches max value (16 bytes, shouldn't happen in most cases)\n",
    "8. All secure messages now should be in the form `<ct:aes(enc,iv,command|data)><hmac_sha256(enc,iv|ct)>`, `iv` is not transmitted but increased for every new command and used in HMAC. Returned data will be of the same form but using the `dec` key. `iv` will be the same.\n",
    "\n",
    "Maximum size of the APDU is 256 bytes. Maximum size of the mnemonic is `9*24-1=215` bytes plus length and command and rounding to `16` bytes, plus `32`-byte hmac - we are at `256` bytes... We can send at max `255` bytes.\n",
    "\n",
    "So to store and retrieve large mnemonic we need to split it to two pieces, and provide a function to set part of the data array. Therefore for secret storage we have to make an API: \n",
    "- `set_data<data>` / `get_data` - for short mnemonics\n",
    "- `set_data_length<len>` - should be called first, erases existing data, \n",
    "- `set_data_part <start><data>` - stores part of the data with an offset\n",
    "- `get_data_length`\n",
    "- `get_data_part <start><len>` - gets part of the data from `start` with `len`\n"
   ]
  },
  {
   "cell_type": "code",
   "execution_count": 7,
   "metadata": {},
   "outputs": [],
   "source": [
    "app.establish_secure_channel() # mode=\"se\" and mode=\"ee\" available, \"se\" by default"
   ]
  },
  {
   "cell_type": "code",
   "execution_count": 8,
   "metadata": {},
   "outputs": [
    {
     "data": {
      "text/plain": [
       "b'qjoh'"
      ]
     },
     "execution_count": 8,
     "metadata": {},
     "output_type": "execute_result"
    }
   ],
   "source": [
    "app.secure_request(b'ping')"
   ]
  },
  {
   "cell_type": "code",
   "execution_count": 9,
   "metadata": {},
   "outputs": [],
   "source": [
    "connection.disconnect()"
   ]
  },
  {
   "cell_type": "code",
   "execution_count": null,
   "metadata": {},
   "outputs": [],
   "source": []
  }
 ],
 "metadata": {
  "kernelspec": {
   "display_name": "Python 3",
   "language": "python",
   "name": "python3"
  },
  "language_info": {
   "codemirror_mode": {
    "name": "ipython",
    "version": 3
   },
   "file_extension": ".py",
   "mimetype": "text/x-python",
   "name": "python",
   "nbconvert_exporter": "python",
   "pygments_lexer": "ipython3",
   "version": "3.7.6"
  }
 },
 "nbformat": 4,
 "nbformat_minor": 2
}
