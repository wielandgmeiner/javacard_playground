{
 "cells": [
  {
   "cell_type": "markdown",
   "metadata": {},
   "source": [
    "# 1. Establish communication with the card\n",
    "\n",
    "## 1.1. Find the smartcard reader"
   ]
  },
  {
   "cell_type": "code",
   "execution_count": 1,
   "metadata": {},
   "outputs": [],
   "source": [
    "from smartcard import ATR\n",
    "from smartcard.System import readers\n",
    "from smartcard.CardConnection import CardConnection"
   ]
  },
  {
   "cell_type": "code",
   "execution_count": 2,
   "metadata": {},
   "outputs": [
    {
     "name": "stdout",
     "output_type": "stream",
     "text": [
      "Generic Smart Card Reader Interface\n"
     ]
    }
   ],
   "source": [
    "rarr=readers()\n",
    "if len(rarr) == 0:\n",
    "    print(\"No readers detected\")\n",
    "else:\n",
    "    reader = rarr[0]\n",
    "    print(reader)"
   ]
  },
  {
   "cell_type": "markdown",
   "metadata": {},
   "source": [
    "## 1.2. Power on the card and get `ATR`\n",
    "`ATR` - Answer To Reset, bytes retured by the card when it is powered on.<br>\n",
    "It helps to determine communication protocol and frequency we should choose."
   ]
  },
  {
   "cell_type": "code",
   "execution_count": 3,
   "metadata": {},
   "outputs": [],
   "source": [
    "# We know that j3h145-jcop3 card supports T1 protocol, so we use that ignoring ATR\n",
    "protocol = CardConnection.T1_protocol\n",
    "connection = reader.createConnection()\n",
    "connection.connect(protocol)"
   ]
  },
  {
   "cell_type": "code",
   "execution_count": 4,
   "metadata": {},
   "outputs": [
    {
     "data": {
      "text/plain": [
       "'3bff1300ff8131fe454a434f5033315632322031392d303758'"
      ]
     },
     "execution_count": 4,
     "metadata": {},
     "output_type": "execute_result"
    }
   ],
   "source": [
    "atr=bytes(connection.getATR())\n",
    "atr.hex()"
   ]
  },
  {
   "cell_type": "markdown",
   "metadata": {},
   "source": [
    "## 1.3. Select the applet by AID\n",
    "JavaCard can have multiple applets installed. They are like very isolated \"apps\".<br>\n",
    "They can't talk to each other and only one can be active at any time."
   ]
  },
  {
   "cell_type": "code",
   "execution_count": 199,
   "metadata": {},
   "outputs": [],
   "source": [
    "def select(appletID):\n",
    "    \"\"\"\n",
    "    Selects an applet by AppletID (should be hex-encoded string).\n",
    "    Throws an error with the error code if it failed selecting the applet.\n",
    "    Useful link for error codes: https://www.eftlab.com/knowledge-base/complete-list-of-apdu-responses/\n",
    "    \"\"\"\n",
    "    data = list(bytes.fromhex(appletID))\n",
    "    # Select:\n",
    "    # CLA = 0x00\n",
    "    # INS = 0xA4\n",
    "    # P1 = 0x04\n",
    "    # P2 = 0x00\n",
    "    # Data = the instance AID\n",
    "    cmd = [0x00, # CLA\n",
    "              0xA4, # INS\n",
    "              0x04, # P1\n",
    "              0x00, # P2\n",
    "              len(data), # Lc (content length)\n",
    "          ] + data + [0x00]\n",
    "    print(\"Sent command:\", bytes(cmd).hex().upper())\n",
    "    data, *sw = connection.transmit(cmd,protocol)\n",
    "    data = bytes(data)\n",
    "    sw = bytes(sw)\n",
    "    if sw == b\"\\x90\\x00\":\n",
    "        return data\n",
    "    else:\n",
    "        raise RuntimeError(\"Card responded with code %s and data \\\"%s\\\"\" % (sw.hex(), data.hex()))"
   ]
  },
  {
   "cell_type": "code",
   "execution_count": 200,
   "metadata": {},
   "outputs": [
    {
     "name": "stdout",
     "output_type": "stream",
     "text": [
      "Sent command: 00A4040006B00B5111CB0100\n"
     ]
    },
    {
     "data": {
      "text/plain": [
       "b''"
      ]
     },
     "execution_count": 200,
     "metadata": {},
     "output_type": "execute_result"
    }
   ],
   "source": [
    "# MemoryCardApplet has AID of `B00B5111CB01`\n",
    "select(\"B00B5111CB01\")"
   ]
  },
  {
   "cell_type": "code",
   "execution_count": 201,
   "metadata": {},
   "outputs": [],
   "source": [
    "def request(APDU):\n",
    "    \"\"\"\n",
    "    Sends APDU command to the card and returns data.\n",
    "    APDU should be hex-encoded.\n",
    "    Throws an error with the error code if it failed selecting the applet.\n",
    "    Useful link for error codes: https://www.eftlab.com/knowledge-base/complete-list-of-apdu-responses/\n",
    "    \"\"\"\n",
    "    cmd = list(bytes.fromhex(APDU))\n",
    "    data, *sw = connection.transmit(cmd,protocol)\n",
    "    data = bytes(data)\n",
    "    sw = bytes(sw)\n",
    "    if sw == b\"\\x90\\x00\":\n",
    "        return data\n",
    "    else:\n",
    "        raise RuntimeError(\"Card responded with code %s and data \\\"%s\\\"\" % (sw.hex(), data.hex()))"
   ]
  },
  {
   "cell_type": "markdown",
   "metadata": {},
   "source": [
    "# 2. Establish secure communication\n",
    "\n",
    "At the moment we use a homebrew version, I need to understand and implement Noise in the near future.\n",
    "\n",
    "[Noise protocol](https://noiseprotocol.org/noise.html) should be with the following primitives:\n",
    "- secp256k1 as signature scheme\n",
    "- AES CBC with random IV as a symmetric cipher\n",
    "- SHA256 as a hash function, HMAC_SHA256 as authentication code\n",
    "\n",
    "AES CBC because we have hardware implementation on the card, so we can use the Key class that is more secure than byte array. HMAC sucks here though...\n",
    "\n",
    "Description of the current protocol:\n",
    "1. Get the static public key from the card. If it is already known - proceed with step 2\n",
    "2. Generate a random key pair, calculate a shared secret `s = SHA512(ECDH(d,P))` and split it to two symmetric keys - `enc = s[:32]` for encryption and `dec = s[32:]` for decryption (second 32 bytes)\n",
    "3. Send your pubkey from keypair in step 2 as associated data to the card: `<data:pub_uncompressed><hmac(enc,data>`\n",
    "4. Card will return its fresh public key encrypted: `<ciphertext:iv|aes(iv,dec,pub_card)><hmac(dec,ciphertext)>`\n",
    "5. Verify the `hmac`, decrypt the `pub_card=decrypt(dec,ct)`\n",
    "6. Calculate new shared secret `s=SHA512(ECDH(d,pub_card))`, set counter to `iv=0`, use `dec = s[32:]` for decryption, `enc = s[32:]` for enctyption. Increase the counter on every request, reestablish communication if the counter reaches max value (16 bytes, shouldn't happen in most cases)\n",
    "\n",
    "## 2.1. Get public key from the card"
   ]
  },
  {
   "cell_type": "code",
   "execution_count": 202,
   "metadata": {},
   "outputs": [],
   "source": [
    "# embit library: https://github.com/diybitcoinhardware/embit\n",
    "# works with python3 and micropython\n",
    "from embit.ec import PrivateKey, PublicKey, secp256k1"
   ]
  },
  {
   "cell_type": "code",
   "execution_count": 203,
   "metadata": {},
   "outputs": [
    {
     "data": {
      "text/plain": [
       "PublicKey(0423ce0eab9ec07806d16174d9496f1e02470a4a3abbc57c1961f3ab3aff7e08f08dd4cb8139eccf3349b5c82930cae129b6800937bbc83dd054416fddf56388c0)"
      ]
     },
     "execution_count": 203,
     "metadata": {},
     "output_type": "execute_result"
    }
   ],
   "source": [
    "# get pubkey - private key is generated when applet is installed\n",
    "sec = request(\"B0A1000000\")\n",
    "card_pubkey = PublicKey.parse(sec)\n",
    "card_pubkey"
   ]
  },
  {
   "cell_type": "markdown",
   "metadata": {},
   "source": [
    "## 2.2. Select a random secret on the host"
   ]
  },
  {
   "cell_type": "code",
   "execution_count": 204,
   "metadata": {},
   "outputs": [
    {
     "name": "stdout",
     "output_type": "stream",
     "text": [
      "Shared secret: 4a70fe653300a7f9ff06ed6ed916f680c54431f46d8a05b02b6c80fec0a2346e\n",
      "Sha256 of the secret: ac00f324c7c8159aa66195c74063f7140402a8a1dd2b0437a4612caa2493c314\n"
     ]
    }
   ],
   "source": [
    "import os\n",
    "import hashlib\n",
    "secret = os.urandom(32)\n",
    "# ugly copy...\n",
    "pub = PublicKey.parse(card_pubkey.sec())\n",
    "secp256k1.ec_pubkey_tweak_mul(pub._point, secret)\n",
    "shared_secret = pub.sec()[1:33]\n",
    "shared_hash = hashlib.sha256(shared_secret).digest()\n",
    "print(\"Shared secret:\", shared_secret.hex())\n",
    "print(\"Sha256 of the secret:\", shared_hash.hex())"
   ]
  },
  {
   "cell_type": "code",
   "execution_count": 205,
   "metadata": {},
   "outputs": [
    {
     "data": {
      "text/plain": [
       "'410499d16589ce59a86f6fa89508056b1b38ae4f108301879b5db0b31b28f56b046798e3307c6d76e0838d5c7e4b050249b2fbbd0481899035e277cd339904ce21ba'"
      ]
     },
     "execution_count": 205,
     "metadata": {},
     "output_type": "execute_result"
    }
   ],
   "source": [
    "host_prv = PrivateKey(secret)\n",
    "host_pub = host_prv.get_public_key()\n",
    "host_pub.compressed = False\n",
    "data = bytes([65])+host_pub.sec()\n",
    "data.hex()"
   ]
  },
  {
   "cell_type": "code",
   "execution_count": 206,
   "metadata": {},
   "outputs": [
    {
     "name": "stdout",
     "output_type": "stream",
     "text": [
      "Yey! We have a shared secret now!\n"
     ]
    }
   ],
   "source": [
    "res = request(\"B0A30000\"+data.hex())\n",
    "if res == shared_hash:\n",
    "    print(\"Yey! We have a shared secret now!\")\n",
    "else:\n",
    "    print(\"Meh... Something didn't work? Card returned %s, we have %s\" % (res.hex(), shared_hash.hex()))"
   ]
  },
  {
   "cell_type": "code",
   "execution_count": 207,
   "metadata": {},
   "outputs": [
    {
     "data": {
      "text/plain": [
       "'18be2f8b6abcf7470059822b7e0fe45c316be36422367882c450f190cf6cc185'"
      ]
     },
     "execution_count": 207,
     "metadata": {},
     "output_type": "execute_result"
    }
   ],
   "source": [
    "# get random data\n",
    "rand = request(\"B0A2000000\")\n",
    "rand.hex()"
   ]
  },
  {
   "cell_type": "code",
   "execution_count": 208,
   "metadata": {},
   "outputs": [
    {
     "data": {
      "text/plain": [
       "b'Memory cards are not safu so what?'"
      ]
     },
     "execution_count": 208,
     "metadata": {},
     "output_type": "execute_result"
    }
   ],
   "source": [
    "# static data for any other APDU\n",
    "data = request(\"B000000000\")\n",
    "data"
   ]
  },
  {
   "cell_type": "code",
   "execution_count": 209,
   "metadata": {},
   "outputs": [
    {
     "data": {
      "text/plain": [
       "'224d656d6f727920636172647320617265206e6f74207361667520736f20776861743f'"
      ]
     },
     "execution_count": 209,
     "metadata": {},
     "output_type": "execute_result"
    }
   ],
   "source": [
    "(bytes([len(data)])+data).hex()"
   ]
  },
  {
   "cell_type": "code",
   "execution_count": 213,
   "metadata": {},
   "outputs": [
    {
     "data": {
      "text/plain": [
       "b\"\\xf9W\\xdc\\x0b&\\x7f\\x05\\xe0\\xa3\\t\\x19\\xe3\\xb74\\xdaW\\xac\\xf3\\xf8\\xfa\\xf5\\x18\\xd72\\xa7\\x8b\\x1bq\\xf3^%\\xd3\\x1d\\xf9[\\x02\\xd4\\x8ae\\xb9'\\x02\\xe6Zu\\xb1\\xdc\\xb9(\\x96\\xefU/\\xf3\\xbc\\xdb\\x86\\xe6\\x05\\x848x\\x9b\\xd0\\xf1G\\xf0\\xf94\\xbf\\x92\\xf3*\\xd4\\xda5\\xec\\x15<<\\x8a\\xca\\xc7\\n2J\\xf6\\x95l\\xefh8\\x87`mX\""
      ]
     },
     "execution_count": 213,
     "metadata": {},
     "output_type": "execute_result"
    }
   ],
   "source": [
    "# static data for any other APDU\n",
    "c = request(\"B0A40000\"+(bytes([len(data)])+data).hex())\n",
    "c"
   ]
  },
  {
   "cell_type": "code",
   "execution_count": 214,
   "metadata": {},
   "outputs": [
    {
     "data": {
      "text/plain": [
       "b'Memory cards are not safu so what?'"
      ]
     },
     "execution_count": 214,
     "metadata": {},
     "output_type": "execute_result"
    }
   ],
   "source": [
    "from cryptography.hazmat.primitives.ciphers import Cipher, algorithms, modes\n",
    "from cryptography.hazmat.backends import default_backend\n",
    "import hmac\n",
    "\n",
    "def decrypt(c,secret):\n",
    "    recv_hmac = c[-32:]\n",
    "    iv = c[:16]\n",
    "    ct = c[16:-32]\n",
    "    h = hmac.new(shared_secret, digestmod='sha256')\n",
    "    h.update(iv)\n",
    "    h.update(ct)\n",
    "    expected_hmac = h.digest()\n",
    "    if expected_hmac != recv_hmac:\n",
    "        raise RuntimeError(\"Wrong HMAC. Got %s, expected %s\"%(recv_hmac.hex(),expected_hmac.hex()))\n",
    "    backend = default_backend()\n",
    "    cipher = Cipher(algorithms.AES(secret), modes.CBC(iv), backend=backend)\n",
    "    decryptor = cipher.decryptor()\n",
    "    # remove \\x80... padding\n",
    "    plain = decryptor.update(ct)+decryptor.finalize()\n",
    "    return b\"\".join(plain.split(b\"\\x80\")[:-1])\n",
    "\n",
    "decrypt(c, shared_secret)"
   ]
  },
  {
   "cell_type": "code",
   "execution_count": 215,
   "metadata": {},
   "outputs": [],
   "source": [
    "connection.disconnect()"
   ]
  },
  {
   "cell_type": "code",
   "execution_count": null,
   "metadata": {},
   "outputs": [],
   "source": []
  }
 ],
 "metadata": {
  "kernelspec": {
   "display_name": "Python 3",
   "language": "python",
   "name": "python3"
  },
  "language_info": {
   "codemirror_mode": {
    "name": "ipython",
    "version": 3
   },
   "file_extension": ".py",
   "mimetype": "text/x-python",
   "name": "python",
   "nbconvert_exporter": "python",
   "pygments_lexer": "ipython3",
   "version": "3.7.6"
  }
 },
 "nbformat": 4,
 "nbformat_minor": 2
}
