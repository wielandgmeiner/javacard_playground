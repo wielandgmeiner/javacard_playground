{
 "cells": [
  {
   "cell_type": "markdown",
   "metadata": {},
   "source": [
    "# 1. Establish communication with the card\n",
    "\n",
    "## 1.1. Find the smartcard reader"
   ]
  },
  {
   "cell_type": "code",
   "execution_count": 50,
   "metadata": {},
   "outputs": [],
   "source": [
    "from applets.helpers import get_connection, AppletBase"
   ]
  },
  {
   "cell_type": "code",
   "execution_count": 51,
   "metadata": {},
   "outputs": [],
   "source": [
    "connection = get_connection()\n",
    "if connection is None:\n",
    "    print(\"Failed to open a connection. No cardreaders?\")"
   ]
  },
  {
   "cell_type": "markdown",
   "metadata": {},
   "source": [
    "## 1.2. Power on the card and get `ATR`\n",
    "`ATR` - Answer To Reset, bytes retured by the card when it is powered on.<br>\n",
    "It helps to determine communication protocol and frequency we should choose."
   ]
  },
  {
   "cell_type": "code",
   "execution_count": 52,
   "metadata": {},
   "outputs": [
    {
     "name": "stdout",
     "output_type": "stream",
     "text": [
      "3bdc18ff8191fe1fc38073c821136605036351000250\n"
     ]
    }
   ],
   "source": [
    "atr=bytes(connection.getATR())\n",
    "print(atr.hex())"
   ]
  },
  {
   "cell_type": "markdown",
   "metadata": {},
   "source": [
    "## 1.3. Select the applet by AID\n",
    "JavaCard can have multiple applets installed. They are like very isolated \"apps\".<br>\n",
    "They can't talk to each other and only one can be active at any time."
   ]
  },
  {
   "cell_type": "code",
   "execution_count": 53,
   "metadata": {},
   "outputs": [],
   "source": [
    "from applets.teapot import Teapot\n",
    "\n",
    "class MemoryCard(Teapot):\n",
    "    def __init__(self, connection=None):\n",
    "        super().__init__(connection)\n",
    "        self.AID = \"B00B5111CB01\"\n",
    "\n",
    "    def get_random(self):\n",
    "        return self.request(\"B0B10000\")"
   ]
  },
  {
   "cell_type": "code",
   "execution_count": 54,
   "metadata": {},
   "outputs": [
    {
     "data": {
      "text/plain": [
       "b''"
      ]
     },
     "execution_count": 54,
     "metadata": {},
     "output_type": "execute_result"
    }
   ],
   "source": [
    "app = MemoryCard(connection)\n",
    "app.select()"
   ]
  },
  {
   "cell_type": "code",
   "execution_count": 55,
   "metadata": {},
   "outputs": [
    {
     "data": {
      "text/plain": [
       "'054c29537358ed7c42c8277749381c4a6220460ee93634523a0a6e43fbef9b76'"
      ]
     },
     "execution_count": 55,
     "metadata": {},
     "output_type": "execute_result"
    }
   ],
   "source": [
    "app.get_random().hex()"
   ]
  },
  {
   "cell_type": "markdown",
   "metadata": {},
   "source": [
    "# 2. Establish secure communication\n",
    "\n",
    "At the moment we use a homebrew version, I need to understand and implement Noise in the near future.\n",
    "\n",
    "[Noise protocol](https://noiseprotocol.org/noise.html) should be with the following primitives:\n",
    "- secp256k1 as signature scheme\n",
    "- AES CBC with random IV as a symmetric cipher\n",
    "- SHA256 as a hash function, HMAC_SHA256 as authentication code\n",
    "\n",
    "AES CBC because we have hardware implementation on the card, so we can use the Key class that is more secure than byte array. HMAC sucks here though...\n",
    "\n",
    "Generally a shared secret is split to 2 different secrets for encryption and decryption. This allows us to use AES in counter mode where the counter is the same for both host and the card - they use different keys so it's ok.\n",
    "\n",
    "Description of the current protocol:\n",
    "1. Get the static public key from the card. If it is already known - proceed with step 2\n",
    "2. Generate a random key pair and send corresponding pubkey in uncompressed form to the card: `<data:pub_uncompressed>`\n",
    "3. Card will return its fresh session public key, hmac of this public key using shared secret and signature: `<data:session_pubkey_card><hmac(dec,data)><sig(static_pubkey_card,data|hmac)>`\n",
    "4. Verify the signature against card's pubkey\n",
    "5. Calculate a pair of shared secrets from `enc=SHA256('host'|ECDH(d,session_pubkey_card))`, `dec=SHA256('card'|ECDH(d,session_pubkey_card)`\n",
    "6. Verify that `hmac==HMAC_SHA256(dec,session_pubkey_card)`\n",
    "7. Set counter to zero `iv=0`, use `dec` for decryption, `enc` for enctyption. Increase the counter on every request, reestablish communication if the counter reaches max value (16 bytes, shouldn't happen in most cases)\n",
    "8. All secure messages now should be in the form `<ct:aes(enc,iv,command|data)><hmac_sha256(enc,ct)>`, `iv` is not transmitted but increased for every new command. Returned data will be of the same form but using the `dec` key. `iv` will be the same.\n",
    "\n",
    "Maximum size of the APDU is 256 bytes. Maximum size of the mnemonic is `9*24-1=215` bytes plus length and command and rounding to `16` bytes, plus `32`-byte hmac - we are at `256` bytes... We can send at max `255` bytes.\n",
    "\n",
    "So to store and retrieve large mnemonic we need to split it to two pieces, and provide a function to set part of the data array. Therefore for secret storage we have to make an API: \n",
    "- `set_data<data>` / `get_data` - for short mnemonics\n",
    "- `set_data_length<len>` - should be called first, erases existing data, \n",
    "- `set_data_part <start><data>` - stores part of the data with an offset\n",
    "- `get_data_length`\n",
    "- `get_data_part <start><len>` - gets part of the data from `start` with `len`\n",
    "\n",
    "\n",
    "## 2.1. Get public key from the card"
   ]
  },
  {
   "cell_type": "code",
   "execution_count": 56,
   "metadata": {},
   "outputs": [],
   "source": [
    "# embit library: https://github.com/diybitcoinhardware/embit\n",
    "# works with python3 and micropython\n",
    "from embit.ec import PrivateKey, PublicKey, secp256k1, Signature"
   ]
  },
  {
   "cell_type": "code",
   "execution_count": 57,
   "metadata": {},
   "outputs": [
    {
     "data": {
      "text/plain": [
       "PublicKey(04456bfaaa634704ed87223b6d6d0476e2ffb3112a005d2fd742782f8e535a392957466d7a7bed35a7f377be5a1417a1c9a6e7c1eb9285e5551bf0ff2473822c42)"
      ]
     },
     "execution_count": 57,
     "metadata": {},
     "output_type": "execute_result"
    }
   ],
   "source": [
    "# get pubkey - private key is generated when applet is installed\n",
    "sec = app.request(\"B0B2000000\")\n",
    "card_pubkey = PublicKey.parse(sec)\n",
    "card_pubkey"
   ]
  },
  {
   "cell_type": "markdown",
   "metadata": {},
   "source": [
    "## 2.2. Select a random secret on the host"
   ]
  },
  {
   "cell_type": "code",
   "execution_count": 58,
   "metadata": {},
   "outputs": [],
   "source": [
    "import os\n",
    "import hashlib\n",
    "secret = os.urandom(32)"
   ]
  },
  {
   "cell_type": "code",
   "execution_count": 59,
   "metadata": {},
   "outputs": [
    {
     "data": {
      "text/plain": [
       "'4104a90903701a56a18cc6a029dfee1c77b28c2fff21ff08fba6e55ac0dfb790d06dffc5878c2bca05637bc5ed84a2b9a07369be01e34702c1245391925a86aa2b17'"
      ]
     },
     "execution_count": 59,
     "metadata": {},
     "output_type": "execute_result"
    }
   ],
   "source": [
    "host_prv = PrivateKey(secret)\n",
    "host_pub = host_prv.get_public_key()\n",
    "host_pub.compressed = False\n",
    "data = bytes([65])+host_pub.sec()\n",
    "data.hex()"
   ]
  },
  {
   "cell_type": "code",
   "execution_count": 65,
   "metadata": {},
   "outputs": [
    {
     "name": "stdout",
     "output_type": "stream",
     "text": [
      "Shared secret: b74943449e788c519fcb494844fcbb0359a94fc36d34d02d77829740d7a0b072\n",
      "Sha256 of the secrets: e23b2486a4dced89ac09a46bec75a1a1d2b0ff3ca8c90c138535b095905c5404\n"
     ]
    }
   ],
   "source": [
    "# ugly copy...\n",
    "pub = PublicKey.parse(card_pubkey.sec())\n",
    "secp256k1.ec_pubkey_tweak_mul(pub._point, secret)\n",
    "shared_secret = pub.sec()[1:33]\n",
    "host_key = hashlib.sha256(b'host'+shared_secret).digest()\n",
    "card_key = hashlib.sha256(b'card'+shared_secret).digest()\n",
    "shared_hash = hashlib.sha256(host_key+card_key).digest()\n",
    "print(\"Shared secret:\", shared_secret.hex())\n",
    "print(\"Sha256 of the secrets:\", shared_hash.hex())"
   ]
  },
  {
   "cell_type": "code",
   "execution_count": 61,
   "metadata": {},
   "outputs": [
    {
     "name": "stdout",
     "output_type": "stream",
     "text": [
      "e23b2486a4dced89ac09a46bec75a1a1d2b0ff3ca8c90c138535b095905c5404fae9360257f43bbaf29eb20c9362e6d147bc9c640a700e1741f714ed81ff14883046022100f878b0ec3eaf7ded141e6d695cac572ba00172462a5fc54de68f2e7700d52296022100b7714b28d8fefad5d6ee1ce425ba3eacf4ec186d274c1f6869374c5b93face3b\n"
     ]
    }
   ],
   "source": [
    "res = app.request(\"B0B30000\"+data.hex())\n",
    "print(res.hex())"
   ]
  },
  {
   "cell_type": "code",
   "execution_count": 66,
   "metadata": {},
   "outputs": [
    {
     "name": "stdout",
     "output_type": "stream",
     "text": [
      "Yey! We have a shared secret now!\n"
     ]
    }
   ],
   "source": [
    "import hmac\n",
    "recv_hmac = res[32:64]\n",
    "h = hmac.new(card_key, digestmod='sha256')\n",
    "h.update(res[:32])\n",
    "expected_hmac = h.digest()\n",
    "if expected_hmac != recv_hmac:\n",
    "    raise RuntimeError(\"Wrong HMAC. Got %s, expected %s\"%(recv_hmac.hex(),expected_hmac.hex()))\n",
    "sig = Signature.parse(res[64:])\n",
    "# card doesn't follow low s rule, so we need to normalize\n",
    "sig._sig = secp256k1.ecdsa_signature_normalize(sig._sig)\n",
    "if not card_pubkey.verify(sig, hashlib.sha256(res[:64]).digest()):\n",
    "    raise RuntimeError(\"Signature is invalid\")\n",
    "if res[:32] == shared_hash:\n",
    "    print(\"Yey! We have shared secrets now!\")\n",
    "else:\n",
    "    print(\"Meh... Something didn't work? Card returned %s, we have %s\" % (res[:32].hex(), shared_hash.hex()))"
   ]
  },
  {
   "cell_type": "code",
   "execution_count": null,
   "metadata": {},
   "outputs": [],
   "source": []
  },
  {
   "cell_type": "code",
   "execution_count": 67,
   "metadata": {},
   "outputs": [
    {
     "name": "stdout",
     "output_type": "stream",
     "text": [
      "043495f0087eaf759639948dd17db552dbd55c2163dcc62008f0e87d176ba84cb3151fabc183f6b37b4e6d4abf5f73e36d6ff127edde2e5a190cec7bbec030a8e5023944648c67e21729155691e4dac7bc078e789a84069e276c37ff1cf465a4dd30440220433cc3bb1cc3a7e428eb0046e61ff15ff3c2ab838104adb71b996495a65ac63d022078e5914fbd1839d4aa4bd3fe7e69604775fa7bb2208b92584e5524b93374cb22\n"
     ]
    }
   ],
   "source": [
    "# alternative ecdh:\n",
    "res = app.request(\"B0B40000\"+data.hex())\n",
    "print(res.hex())"
   ]
  },
  {
   "cell_type": "code",
   "execution_count": 68,
   "metadata": {},
   "outputs": [
    {
     "name": "stdout",
     "output_type": "stream",
     "text": [
      "Shared secret: e0026ed304a0f282786e977fc446c906c570b6b1dd12d6ac443ccc8bb37f152a\n",
      "Sha256 of the secret: 8e1ff73c49ed9dd184f37aff88e35cc71cbe663344998d00b37515ddd53132ff\n"
     ]
    }
   ],
   "source": [
    "pub = PublicKey.parse(res[:65])\n",
    "secp256k1.ec_pubkey_tweak_mul(pub._point, secret)\n",
    "shared_secret = pub.sec()[1:33]\n",
    "host_key = hashlib.sha256(b'host'+shared_secret).digest()\n",
    "card_key = hashlib.sha256(b'card'+shared_secret).digest()\n",
    "shared_hash = hashlib.sha256(host_key+card_key).digest()\n",
    "print(\"Shared secret:\", shared_secret.hex())\n",
    "print(\"Sha256 of the secret:\", shared_hash.hex())"
   ]
  },
  {
   "cell_type": "code",
   "execution_count": 69,
   "metadata": {},
   "outputs": [
    {
     "name": "stdout",
     "output_type": "stream",
     "text": [
      "Yey! We have a shared secret now!\n"
     ]
    }
   ],
   "source": [
    "recv_hmac = res[65:97]\n",
    "h = hmac.new(card_key, digestmod='sha256')\n",
    "h.update(res[:65])\n",
    "expected_hmac = h.digest()\n",
    "if expected_hmac != recv_hmac:\n",
    "    raise RuntimeError(\"Wrong HMAC. Got %s, expected %s\"%(recv_hmac.hex(),expected_hmac.hex()))\n",
    "sig = Signature.parse(res[97:])\n",
    "# card doesn't follow low s rule, so we need to normalize\n",
    "sig._sig = secp256k1.ecdsa_signature_normalize(sig._sig)\n",
    "if not card_pubkey.verify(sig, hashlib.sha256(res[:97]).digest()):\n",
    "    raise RuntimeError(\"Signature is invalid\")\n",
    "print(\"Yey! We have a shared secret now!\")"
   ]
  },
  {
   "cell_type": "code",
   "execution_count": null,
   "metadata": {},
   "outputs": [],
   "source": []
  },
  {
   "cell_type": "code",
   "execution_count": 44,
   "metadata": {},
   "outputs": [
    {
     "data": {
      "text/plain": [
       "'04d380946cfa081f4e3fc48f9adc540c9959c016a291145b537747cceb33a497e593803a1399bcd3a0ff62a78fbd378294d1c7c167a1573904bcd40c018dc1124a'"
      ]
     },
     "execution_count": 44,
     "metadata": {},
     "output_type": "execute_result"
    }
   ],
   "source": [
    "# get random data\n",
    "rand = app.request(\"B0B2000000\")\n",
    "rand.hex()"
   ]
  },
  {
   "cell_type": "code",
   "execution_count": null,
   "metadata": {},
   "outputs": [],
   "source": [
    "# static data for any other APDU\n",
    "data = app.request(\"B0A1000000\")\n",
    "data"
   ]
  },
  {
   "cell_type": "code",
   "execution_count": null,
   "metadata": {},
   "outputs": [],
   "source": [
    "(bytes([len(data)])+data).hex()"
   ]
  },
  {
   "cell_type": "code",
   "execution_count": null,
   "metadata": {},
   "outputs": [],
   "source": [
    "# static data for any other APDU\n",
    "c = app.request(\"B0A40000\"+(bytes([len(data)])+data).hex())\n",
    "c"
   ]
  },
  {
   "cell_type": "code",
   "execution_count": null,
   "metadata": {},
   "outputs": [],
   "source": [
    "from cryptography.hazmat.primitives.ciphers import Cipher, algorithms, modes\n",
    "from cryptography.hazmat.backends import default_backend\n",
    "import hmac\n",
    "\n",
    "def decrypt(c,secret):\n",
    "    recv_hmac = c[-32:]\n",
    "    iv = c[:16]\n",
    "    ct = c[16:-32]\n",
    "    h = hmac.new(shared_secret, digestmod='sha256')\n",
    "    h.update(iv)\n",
    "    h.update(ct)\n",
    "    expected_hmac = h.digest()\n",
    "    if expected_hmac != recv_hmac:\n",
    "        raise RuntimeError(\"Wrong HMAC. Got %s, expected %s\"%(recv_hmac.hex(),expected_hmac.hex()))\n",
    "    backend = default_backend()\n",
    "    cipher = Cipher(algorithms.AES(secret), modes.CBC(iv), backend=backend)\n",
    "    decryptor = cipher.decryptor()\n",
    "    # remove \\x80... padding\n",
    "    plain = decryptor.update(ct)+decryptor.finalize()\n",
    "    return b\"\".join(plain.split(b\"\\x80\")[:-1])\n",
    "\n",
    "decrypt(c, shared_secret)"
   ]
  },
  {
   "cell_type": "code",
   "execution_count": 70,
   "metadata": {},
   "outputs": [],
   "source": [
    "connection.disconnect()"
   ]
  },
  {
   "cell_type": "code",
   "execution_count": null,
   "metadata": {},
   "outputs": [],
   "source": []
  }
 ],
 "metadata": {
  "kernelspec": {
   "display_name": "Python 3",
   "language": "python",
   "name": "python3"
  },
  "language_info": {
   "codemirror_mode": {
    "name": "ipython",
    "version": 3
   },
   "file_extension": ".py",
   "mimetype": "text/x-python",
   "name": "python",
   "nbconvert_exporter": "python",
   "pygments_lexer": "ipython3",
   "version": "3.7.6"
  }
 },
 "nbformat": 4,
 "nbformat_minor": 2
}
