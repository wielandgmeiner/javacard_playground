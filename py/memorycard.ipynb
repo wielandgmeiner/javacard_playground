{
 "cells": [
  {
   "cell_type": "markdown",
   "metadata": {},
   "source": [
    "# 1. Establish communication with the card\n",
    "\n",
    "## 1.1. Find the smartcard reader"
   ]
  },
  {
   "cell_type": "code",
   "execution_count": 1,
   "metadata": {},
   "outputs": [],
   "source": [
    "from applets.helpers import get_connection, AppletBase"
   ]
  },
  {
   "cell_type": "code",
   "execution_count": 2,
   "metadata": {},
   "outputs": [],
   "source": [
    "connection = get_connection()\n",
    "if connection is None:\n",
    "    print(\"Failed to open a connection. No cardreaders?\")"
   ]
  },
  {
   "cell_type": "markdown",
   "metadata": {},
   "source": [
    "## 1.2. Power on the card and get `ATR`\n",
    "`ATR` - Answer To Reset, bytes retured by the card when it is powered on.<br>\n",
    "It helps to determine communication protocol and frequency we should choose."
   ]
  },
  {
   "cell_type": "code",
   "execution_count": 3,
   "metadata": {},
   "outputs": [
    {
     "name": "stdout",
     "output_type": "stream",
     "text": [
      "3bdc18ff8191fe1fc38073c821136605036351000250\n"
     ]
    }
   ],
   "source": [
    "atr=bytes(connection.getATR())\n",
    "print(atr.hex())"
   ]
  },
  {
   "cell_type": "markdown",
   "metadata": {},
   "source": [
    "## 1.3. Select the applet by AID\n",
    "JavaCard can have multiple applets installed. They are like very isolated \"apps\".<br>\n",
    "They can't talk to each other and only one can be active at any time."
   ]
  },
  {
   "cell_type": "code",
   "execution_count": 4,
   "metadata": {},
   "outputs": [],
   "source": [
    "from applets.teapot import Teapot\n",
    "\n",
    "class MemoryCard(Teapot):\n",
    "    def __init__(self, connection=None):\n",
    "        super().__init__(connection)\n",
    "        self.AID = \"B00B5111CB01\"\n",
    "\n",
    "    def get_random(self):\n",
    "        return self.request(\"B0B10000\")"
   ]
  },
  {
   "cell_type": "code",
   "execution_count": 5,
   "metadata": {},
   "outputs": [
    {
     "data": {
      "text/plain": [
       "b''"
      ]
     },
     "execution_count": 5,
     "metadata": {},
     "output_type": "execute_result"
    }
   ],
   "source": [
    "app = MemoryCard(connection)\n",
    "app.select()"
   ]
  },
  {
   "cell_type": "code",
   "execution_count": 6,
   "metadata": {},
   "outputs": [
    {
     "data": {
      "text/plain": [
       "'39bbacb11b2f1485b155be66f2272780c667353fc98bdb6ae678ec205801b7fc'"
      ]
     },
     "execution_count": 6,
     "metadata": {},
     "output_type": "execute_result"
    }
   ],
   "source": [
    "app.get_random().hex()"
   ]
  },
  {
   "cell_type": "markdown",
   "metadata": {},
   "source": [
    "# 2. Establish secure communication\n",
    "\n",
    "At the moment we use a homebrew version, I need to understand and implement Noise in the near future.\n",
    "\n",
    "[Noise protocol](https://noiseprotocol.org/noise.html) should be with the following primitives:\n",
    "- secp256k1 as signature scheme\n",
    "- AES CBC with random IV as a symmetric cipher\n",
    "- SHA256 as a hash function, HMAC_SHA256 as authentication code\n",
    "\n",
    "AES CBC because we have hardware implementation on the card, so we can use the Key class that is more secure than byte array. HMAC sucks here though...\n",
    "\n",
    "Generally a shared secret is split to 2 different secrets for encryption and decryption. This allows us to use AES in counter mode where the counter is the same for both host and the card - they use different keys so it's ok.\n",
    "\n",
    "Description of the current protocol:\n",
    "1. Get the static public key from the card. If it is already known - proceed with step 2\n",
    "2. Generate a random key pair and send corresponding pubkey in uncompressed form to the card: `<data:pub_uncompressed>`\n",
    "3. Card will return its fresh session public key, hmac of this public key using shared secret and signature: `<data:session_pubkey_card><hmac(dec,data)><sig(static_pubkey_card,data|hmac)>`\n",
    "4. Verify the signature against card's pubkey\n",
    "5. Calculate a pair of shared secrets from `enc=SHA256('host'|ECDH(d,session_pubkey_card))`, `dec=SHA256('card'|ECDH(d,session_pubkey_card)`\n",
    "6. Verify that `hmac==HMAC_SHA256(dec,session_pubkey_card)`\n",
    "7. Set counter to zero `iv=0`, use `dec` for decryption, `enc` for enctyption. Increase the counter on every request, reestablish communication if the counter reaches max value (16 bytes, shouldn't happen in most cases)\n",
    "8. All secure messages now should be in the form `<ct:aes(enc,iv,command|data)><hmac_sha256(enc,ct)>`, `iv` is not transmitted but increased for every new command. Returned data will be of the same form but using the `dec` key. `iv` will be the same.\n",
    "\n",
    "Maximum size of the APDU is 256 bytes. Maximum size of the mnemonic is `9*24-1=215` bytes plus length and command and rounding to `16` bytes, plus `32`-byte hmac - we are at `256` bytes... We can send at max `255` bytes.\n",
    "\n",
    "So to store and retrieve large mnemonic we need to split it to two pieces, and provide a function to set part of the data array. Therefore for secret storage we have to make an API: \n",
    "- `set_data<data>` / `get_data` - for short mnemonics\n",
    "- `set_data_length<len>` - should be called first, erases existing data, \n",
    "- `set_data_part <start><data>` - stores part of the data with an offset\n",
    "- `get_data_length`\n",
    "- `get_data_part <start><len>` - gets part of the data from `start` with `len`\n",
    "\n",
    "\n",
    "## 2.1. Get public key from the card"
   ]
  },
  {
   "cell_type": "code",
   "execution_count": 7,
   "metadata": {},
   "outputs": [],
   "source": [
    "# embit library: https://github.com/diybitcoinhardware/embit\n",
    "# works with python3 and micropython\n",
    "from embit.ec import PrivateKey, PublicKey, secp256k1, Signature"
   ]
  },
  {
   "cell_type": "code",
   "execution_count": 8,
   "metadata": {},
   "outputs": [
    {
     "data": {
      "text/plain": [
       "PublicKey(04d380946cfa081f4e3fc48f9adc540c9959c016a291145b537747cceb33a497e593803a1399bcd3a0ff62a78fbd378294d1c7c167a1573904bcd40c018dc1124a)"
      ]
     },
     "execution_count": 8,
     "metadata": {},
     "output_type": "execute_result"
    }
   ],
   "source": [
    "# get pubkey - private key is generated when applet is installed\n",
    "sec = app.request(\"B0B2000000\")\n",
    "card_pubkey = PublicKey.parse(sec)\n",
    "card_pubkey"
   ]
  },
  {
   "cell_type": "markdown",
   "metadata": {},
   "source": [
    "## 2.2. Select a random secret on the host"
   ]
  },
  {
   "cell_type": "code",
   "execution_count": 33,
   "metadata": {},
   "outputs": [],
   "source": [
    "import os\n",
    "import hashlib\n",
    "secret = os.urandom(32)"
   ]
  },
  {
   "cell_type": "code",
   "execution_count": 34,
   "metadata": {},
   "outputs": [
    {
     "data": {
      "text/plain": [
       "'4104a47517d9832b074b742f3467e2b8f6abb2fe90280f3560398d1bcbec5a7e53342c81f59f37c45b7cc0f4d3bc5099f94966a8e43c877b509f6cd4e3408fe12219'"
      ]
     },
     "execution_count": 34,
     "metadata": {},
     "output_type": "execute_result"
    }
   ],
   "source": [
    "host_prv = PrivateKey(secret)\n",
    "host_pub = host_prv.get_public_key()\n",
    "host_pub.compressed = False\n",
    "data = bytes([65])+host_pub.sec()\n",
    "data.hex()"
   ]
  },
  {
   "cell_type": "code",
   "execution_count": 35,
   "metadata": {},
   "outputs": [
    {
     "name": "stdout",
     "output_type": "stream",
     "text": [
      "Shared secret: 2c9e072a65b417d4c881f3a00d2ba05a623f1847a5ba7b988a6993d9fd61734d\n",
      "Sha256 of the secret: cfb12637e9c029a735b299f21e7797e42cdd3f6d2108ad7fa521a72ced6e6abf\n"
     ]
    }
   ],
   "source": [
    "# ugly copy...\n",
    "pub = PublicKey.parse(card_pubkey.sec())\n",
    "secp256k1.ec_pubkey_tweak_mul(pub._point, secret)\n",
    "shared_secret = pub.sec()[1:33]\n",
    "shared_hash = hashlib.sha256(shared_secret).digest()\n",
    "print(\"Shared secret:\", shared_secret.hex())\n",
    "print(\"Sha256 of the secret:\", shared_hash.hex())"
   ]
  },
  {
   "cell_type": "code",
   "execution_count": 36,
   "metadata": {},
   "outputs": [
    {
     "name": "stdout",
     "output_type": "stream",
     "text": [
      "cfb12637e9c029a735b299f21e7797e42cdd3f6d2108ad7fa521a72ced6e6abf5d690ac3fdef606a3231834e4126c2a6ee076a40a617fe4af7343aeeda70825d30460221008fd85d3fb8326cc0a2f267bcc17dd0d5e45d2138d57f4e19553e89b0155d8482022100909d32329d1e376f9746e6110502c2ad26d5ee3d0ba6683acffca62f8b0ef277\n"
     ]
    }
   ],
   "source": [
    "res = app.request(\"B0B30000\"+data.hex())\n",
    "print(res.hex())"
   ]
  },
  {
   "cell_type": "code",
   "execution_count": 43,
   "metadata": {},
   "outputs": [
    {
     "name": "stdout",
     "output_type": "stream",
     "text": [
      "Yey! We have a shared secret now!\n"
     ]
    }
   ],
   "source": [
    "import hmac\n",
    "recv_hmac = res[32:64]\n",
    "h = hmac.new(shared_secret, digestmod='sha256')\n",
    "h.update(res[:32])\n",
    "expected_hmac = h.digest()\n",
    "if expected_hmac != recv_hmac:\n",
    "    raise RuntimeError(\"Wrong HMAC. Got %s, expected %s\"%(recv_hmac.hex(),expected_hmac.hex()))\n",
    "sig = Signature.parse(res[64:])\n",
    "# card doesn't follow low s rule, so we need to normalize\n",
    "sig._sig = secp256k1.ecdsa_signature_normalize(sig._sig)\n",
    "if not card_pubkey.verify(sig, hashlib.sha256(res[:64]).digest()):\n",
    "    raise RuntimeError(\"Signature is invalid\")\n",
    "if res[:32] == shared_hash:\n",
    "    print(\"Yey! We have a shared secret now!\")\n",
    "else:\n",
    "    print(\"Meh... Something didn't work? Card returned %s, we have %s\" % (res.hex(), shared_hash.hex()))"
   ]
  },
  {
   "cell_type": "code",
   "execution_count": null,
   "metadata": {},
   "outputs": [],
   "source": []
  },
  {
   "cell_type": "code",
   "execution_count": 45,
   "metadata": {},
   "outputs": [
    {
     "name": "stdout",
     "output_type": "stream",
     "text": [
      "044542afd9776ee4fa5e4f81bbaebcdb0a7c23d296108734fdbb612c637ea7633481553071e31fed576ff181b0e2fbc9fba45161da12fbf9b58a1fe99457a0a9f264d58ac78b4a4d7eb51c8a26f190f586edc407f9f727b51de34cda830ac2aa10304402204cf24733b7cf4deeb27c097c66ddfbfc4f460e6b9cc8082389276ebfbac7a20b0220591d21400b359d693d8b8cc0102edaf5274fa53b55f0c97c4d61cd8dd37b2adf\n"
     ]
    }
   ],
   "source": [
    "# alternative ecdh:\n",
    "res = app.request(\"B0B40000\"+data.hex())\n",
    "print(res.hex())"
   ]
  },
  {
   "cell_type": "code",
   "execution_count": 46,
   "metadata": {},
   "outputs": [
    {
     "name": "stdout",
     "output_type": "stream",
     "text": [
      "Shared secret: 1383a679d9185c8f419586f1a1d572010c28d1c881248a03bb3d2d0386281480\n",
      "Sha256 of the secret: 1e9c5e870cac618b334124e0affeb065240e24b249f2ae5c7f0749284845fd79\n"
     ]
    }
   ],
   "source": [
    "pub = PublicKey.parse(res[:65])\n",
    "secp256k1.ec_pubkey_tweak_mul(pub._point, secret)\n",
    "shared_secret = pub.sec()[1:33]\n",
    "shared_hash = hashlib.sha256(shared_secret).digest()\n",
    "print(\"Shared secret:\", shared_secret.hex())\n",
    "print(\"Sha256 of the secret:\", shared_hash.hex())"
   ]
  },
  {
   "cell_type": "code",
   "execution_count": 48,
   "metadata": {},
   "outputs": [
    {
     "name": "stdout",
     "output_type": "stream",
     "text": [
      "Yey! We have a shared secret now!\n"
     ]
    }
   ],
   "source": [
    "recv_hmac = res[65:97]\n",
    "h = hmac.new(shared_secret, digestmod='sha256')\n",
    "h.update(res[:65])\n",
    "expected_hmac = h.digest()\n",
    "if expected_hmac != recv_hmac:\n",
    "    raise RuntimeError(\"Wrong HMAC. Got %s, expected %s\"%(recv_hmac.hex(),expected_hmac.hex()))\n",
    "sig = Signature.parse(res[97:])\n",
    "# card doesn't follow low s rule, so we need to normalize\n",
    "sig._sig = secp256k1.ecdsa_signature_normalize(sig._sig)\n",
    "if not card_pubkey.verify(sig, hashlib.sha256(res[:97]).digest()):\n",
    "    raise RuntimeError(\"Signature is invalid\")\n",
    "print(\"Yey! We have a shared secret now!\")"
   ]
  },
  {
   "cell_type": "code",
   "execution_count": null,
   "metadata": {},
   "outputs": [],
   "source": []
  },
  {
   "cell_type": "code",
   "execution_count": 44,
   "metadata": {},
   "outputs": [
    {
     "data": {
      "text/plain": [
       "'04d380946cfa081f4e3fc48f9adc540c9959c016a291145b537747cceb33a497e593803a1399bcd3a0ff62a78fbd378294d1c7c167a1573904bcd40c018dc1124a'"
      ]
     },
     "execution_count": 44,
     "metadata": {},
     "output_type": "execute_result"
    }
   ],
   "source": [
    "# get random data\n",
    "rand = app.request(\"B0B2000000\")\n",
    "rand.hex()"
   ]
  },
  {
   "cell_type": "code",
   "execution_count": null,
   "metadata": {},
   "outputs": [],
   "source": [
    "# static data for any other APDU\n",
    "data = app.request(\"B0A1000000\")\n",
    "data"
   ]
  },
  {
   "cell_type": "code",
   "execution_count": null,
   "metadata": {},
   "outputs": [],
   "source": [
    "(bytes([len(data)])+data).hex()"
   ]
  },
  {
   "cell_type": "code",
   "execution_count": null,
   "metadata": {},
   "outputs": [],
   "source": [
    "# static data for any other APDU\n",
    "c = app.request(\"B0A40000\"+(bytes([len(data)])+data).hex())\n",
    "c"
   ]
  },
  {
   "cell_type": "code",
   "execution_count": null,
   "metadata": {},
   "outputs": [],
   "source": [
    "from cryptography.hazmat.primitives.ciphers import Cipher, algorithms, modes\n",
    "from cryptography.hazmat.backends import default_backend\n",
    "import hmac\n",
    "\n",
    "def decrypt(c,secret):\n",
    "    recv_hmac = c[-32:]\n",
    "    iv = c[:16]\n",
    "    ct = c[16:-32]\n",
    "    h = hmac.new(shared_secret, digestmod='sha256')\n",
    "    h.update(iv)\n",
    "    h.update(ct)\n",
    "    expected_hmac = h.digest()\n",
    "    if expected_hmac != recv_hmac:\n",
    "        raise RuntimeError(\"Wrong HMAC. Got %s, expected %s\"%(recv_hmac.hex(),expected_hmac.hex()))\n",
    "    backend = default_backend()\n",
    "    cipher = Cipher(algorithms.AES(secret), modes.CBC(iv), backend=backend)\n",
    "    decryptor = cipher.decryptor()\n",
    "    # remove \\x80... padding\n",
    "    plain = decryptor.update(ct)+decryptor.finalize()\n",
    "    return b\"\".join(plain.split(b\"\\x80\")[:-1])\n",
    "\n",
    "decrypt(c, shared_secret)"
   ]
  },
  {
   "cell_type": "code",
   "execution_count": 49,
   "metadata": {},
   "outputs": [],
   "source": [
    "connection.disconnect()"
   ]
  },
  {
   "cell_type": "code",
   "execution_count": null,
   "metadata": {},
   "outputs": [],
   "source": []
  }
 ],
 "metadata": {
  "kernelspec": {
   "display_name": "Python 3",
   "language": "python",
   "name": "python3"
  },
  "language_info": {
   "codemirror_mode": {
    "name": "ipython",
    "version": 3
   },
   "file_extension": ".py",
   "mimetype": "text/x-python",
   "name": "python",
   "nbconvert_exporter": "python",
   "pygments_lexer": "ipython3",
   "version": "3.7.6"
  }
 },
 "nbformat": 4,
 "nbformat_minor": 2
}
