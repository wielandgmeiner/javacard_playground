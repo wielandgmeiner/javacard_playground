{
 "cells": [
  {
   "cell_type": "markdown",
   "metadata": {},
   "source": [
    "# 1. Establish communication with the card\n",
    "\n",
    "## 1.1. Find the smartcard reader"
   ]
  },
  {
   "cell_type": "code",
   "execution_count": 1,
   "metadata": {},
   "outputs": [],
   "source": [
    "from applets.helpers import get_connection\n",
    "from applets.memorycard import MemoryCard"
   ]
  },
  {
   "cell_type": "code",
   "execution_count": 2,
   "metadata": {},
   "outputs": [],
   "source": [
    "connection = get_connection()\n",
    "if connection is None:\n",
    "    print(\"Failed to open a connection. No cardreaders?\")"
   ]
  },
  {
   "cell_type": "markdown",
   "metadata": {},
   "source": [
    "## 1.2. Power on the card and get `ATR`\n",
    "`ATR` - Answer To Reset, bytes retured by the card when it is powered on.<br>\n",
    "It helps to determine communication protocol and frequency we should choose."
   ]
  },
  {
   "cell_type": "code",
   "execution_count": 3,
   "metadata": {},
   "outputs": [
    {
     "name": "stdout",
     "output_type": "stream",
     "text": [
      "3bdc18ff8191fe1fc38073c821136605036351000250\n"
     ]
    }
   ],
   "source": [
    "atr=bytes(connection.getATR())\n",
    "print(atr.hex())"
   ]
  },
  {
   "cell_type": "markdown",
   "metadata": {},
   "source": [
    "## 1.3. Select the applet by AID\n",
    "JavaCard can have multiple applets installed. They are like very isolated \"apps\".<br>\n",
    "They can't talk to each other and only one can be active at any time."
   ]
  },
  {
   "cell_type": "code",
   "execution_count": 4,
   "metadata": {},
   "outputs": [
    {
     "data": {
      "text/plain": [
       "b''"
      ]
     },
     "execution_count": 4,
     "metadata": {},
     "output_type": "execute_result"
    }
   ],
   "source": [
    "app = MemoryCard(connection)\n",
    "app.select()"
   ]
  },
  {
   "cell_type": "code",
   "execution_count": 5,
   "metadata": {},
   "outputs": [
    {
     "data": {
      "text/plain": [
       "'8fe6cc1a5b7129d458b17adb887453794606057ae1dc5af9141104fc205dc0c7'"
      ]
     },
     "execution_count": 5,
     "metadata": {},
     "output_type": "execute_result"
    }
   ],
   "source": [
    "# get random data without secure communication\n",
    "app.get_random().hex()"
   ]
  },
  {
   "cell_type": "markdown",
   "metadata": {},
   "source": [
    "# 2. Establish secure communication\n",
    "\n",
    "At the moment we use a homebrew version, I need to understand and implement Noise in the near future.\n",
    "\n",
    "[Noise protocol](https://noiseprotocol.org/noise.html) should be with the following primitives:\n",
    "- secp256k1 as signature scheme\n",
    "- AES CBC with random IV as a symmetric cipher\n",
    "- SHA256 as a hash function, HMAC_SHA256 as authentication code\n",
    "\n",
    "AES CBC because we have hardware implementation on the card, so we can use the Key class that is more secure than byte array. HMAC sucks here though...\n",
    "\n",
    "Generally a shared secret is split to 2 different secrets for encryption and decryption. This allows us to use AES in counter mode where the counter is the same for both host and the card - they use different keys so it's ok.\n",
    "\n",
    "Description of the current protocol:\n",
    "1. Get the static public key from the card. If it is already known - proceed with step 2\n",
    "2. Generate a random key pair and send corresponding pubkey in uncompressed form to the card: `<data:pub_uncompressed>`\n",
    "3. Card will return its fresh session public key, hmac of this public key using shared secret and signature: `<data:session_pubkey_card><hmac(dec,data)><sig(static_pubkey_card,data|hmac)>`\n",
    "4. Verify the signature against card's pubkey\n",
    "5. Calculate a pair of shared secrets from `enc=SHA256('host'|ECDH(d,session_pubkey_card))`, `dec=SHA256('card'|ECDH(d,session_pubkey_card)`\n",
    "6. Verify that `hmac==HMAC_SHA256(dec,session_pubkey_card)`\n",
    "7. Set counter to zero `iv=0`, use `dec` for decryption, `enc` for enctyption. Increase the counter on every request, reestablish communication if the counter reaches max value (16 bytes, shouldn't happen in most cases)\n",
    "8. All secure messages now should be in the form `<ct:aes(enc,iv,command|data)><hmac(enc,iv|ct)>`, `iv` is not transmitted but increased for every new command and used in HMAC. Returned data will be of the same form but using the `dec` key. `iv` will be the same.\n",
    "\n",
    "Length of the secure message is always mod 16 (AES blocks + 32-byte HMAC), except when it has maximal length - 255 bytes. This is a special case when we are hitting the limit of single-byte length, but it is still very usable for mnemonic storage, so we just drop the last byte of HMAC - doesn't decrease security much, but gives us 16 extra bytes of data!\n",
    "\n",
    "## Why we drop last byte of HMAC\n",
    "\n",
    "Maximum size of a simple APDU is 255 bytes. Extended can be larger though, but it makes everything complicated. Maximum size of the mnemonic is `9*24-1=215` bytes plus length and command and rounding to `16` bytes, plus `32`-byte hmac would mean `256` bytes length... We can send at max `255` bytes, so we decided to always drop last byte in HMAC.\n",
    "\n",
    "Later we should add support of extended APDU commands, but for now it's ok.\n"
   ]
  },
  {
   "cell_type": "code",
   "execution_count": 6,
   "metadata": {},
   "outputs": [],
   "source": [
    "app.establish_secure_channel() # mode=\"se\" and mode=\"ee\" available, \"se\" by default"
   ]
  },
  {
   "cell_type": "code",
   "execution_count": 7,
   "metadata": {},
   "outputs": [
    {
     "data": {
      "text/plain": [
       "b'qjoh'"
      ]
     },
     "execution_count": 7,
     "metadata": {},
     "output_type": "execute_result"
    }
   ],
   "source": [
    "app.secure_request(b'ping')"
   ]
  },
  {
   "cell_type": "code",
   "execution_count": 8,
   "metadata": {},
   "outputs": [
    {
     "data": {
      "text/plain": [
       "b'vojwfstf!vojwfstf!vojwfstf!vojwfstf!vojwfstf!vojwfstf!vojwfstf!vojwfstf!vojwfstf!vojwfstf!vojwfstf!vojwfstf!vojwfstf!vojwfstf!vojwfstf!vojwfstf!vojwfstf!vojwfstf!vojwfstf!vojwfstf!vojwfstf!vojwfstf!vojwfstf!vshf'"
      ]
     },
     "execution_count": 8,
     "metadata": {},
     "output_type": "execute_result"
    }
   ],
   "source": [
    "mnemonic = b'universe universe universe universe universe universe universe universe universe universe universe universe universe universe universe universe universe universe universe universe universe universe universe urge'\n",
    "app.secure_request(mnemonic)"
   ]
  },
  {
   "cell_type": "code",
   "execution_count": 9,
   "metadata": {},
   "outputs": [],
   "source": [
    "connection.disconnect()"
   ]
  },
  {
   "cell_type": "code",
   "execution_count": null,
   "metadata": {},
   "outputs": [],
   "source": []
  }
 ],
 "metadata": {
  "kernelspec": {
   "display_name": "Python 3",
   "language": "python",
   "name": "python3"
  },
  "language_info": {
   "codemirror_mode": {
    "name": "ipython",
    "version": 3
   },
   "file_extension": ".py",
   "mimetype": "text/x-python",
   "name": "python",
   "nbconvert_exporter": "python",
   "pygments_lexer": "ipython3",
   "version": "3.7.6"
  }
 },
 "nbformat": 4,
 "nbformat_minor": 2
}
