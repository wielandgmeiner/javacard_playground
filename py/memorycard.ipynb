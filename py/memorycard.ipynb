{
 "cells": [
  {
   "cell_type": "markdown",
   "metadata": {},
   "source": [
    "# 1. Establish communication with the card\n",
    "\n",
    "## 1.1. Find the smartcard reader"
   ]
  },
  {
   "cell_type": "code",
   "execution_count": 1,
   "metadata": {},
   "outputs": [],
   "source": [
    "from applets.helpers import get_connection\n",
    "from applets.memorycard import MemoryCard"
   ]
  },
  {
   "cell_type": "code",
   "execution_count": 2,
   "metadata": {},
   "outputs": [],
   "source": [
    "connection = get_connection()\n",
    "if connection is None:\n",
    "    print(\"Failed to open a connection. No cardreaders?\")"
   ]
  },
  {
   "cell_type": "markdown",
   "metadata": {},
   "source": [
    "## 1.2. Power on the card and get `ATR`\n",
    "`ATR` - Answer To Reset, bytes retured by the card when it is powered on.<br>\n",
    "It helps to determine communication protocol and frequency we should choose."
   ]
  },
  {
   "cell_type": "code",
   "execution_count": 3,
   "metadata": {},
   "outputs": [
    {
     "name": "stdout",
     "output_type": "stream",
     "text": [
      "3bdc18ff8191fe1fc38073c821136605036351000250\n"
     ]
    }
   ],
   "source": [
    "atr=bytes(connection.getATR())\n",
    "print(atr.hex())"
   ]
  },
  {
   "cell_type": "markdown",
   "metadata": {},
   "source": [
    "## 1.3. Select the applet by AID\n",
    "JavaCard can have multiple applets installed. They are like very isolated \"apps\".<br>\n",
    "They can't talk to each other and only one can be active at any time."
   ]
  },
  {
   "cell_type": "code",
   "execution_count": 4,
   "metadata": {},
   "outputs": [
    {
     "data": {
      "text/plain": [
       "b''"
      ]
     },
     "execution_count": 4,
     "metadata": {},
     "output_type": "execute_result"
    }
   ],
   "source": [
    "app = MemoryCard(connection)\n",
    "app.select()"
   ]
  },
  {
   "cell_type": "code",
   "execution_count": 5,
   "metadata": {},
   "outputs": [
    {
     "data": {
      "text/plain": [
       "'3003047eb1d0ad739001d26ebcd20bac551179ebb6b62c1b68cc3578332db383'"
      ]
     },
     "execution_count": 5,
     "metadata": {},
     "output_type": "execute_result"
    }
   ],
   "source": [
    "# get random data without secure communication\n",
    "app.get_random().hex()"
   ]
  },
  {
   "cell_type": "markdown",
   "metadata": {},
   "source": [
    "## 1.4. Establish secure communication"
   ]
  },
  {
   "cell_type": "code",
   "execution_count": 6,
   "metadata": {},
   "outputs": [],
   "source": [
    "app.establish_secure_channel() # mode=\"se\" and mode=\"ee\" available, \"se\" by default"
   ]
  },
  {
   "cell_type": "markdown",
   "metadata": {},
   "source": [
    "# 2. Start talking to the card securely"
   ]
  },
  {
   "cell_type": "code",
   "execution_count": 7,
   "metadata": {},
   "outputs": [
    {
     "data": {
      "text/plain": [
       "b'qjoh'"
      ]
     },
     "execution_count": 7,
     "metadata": {},
     "output_type": "execute_result"
    }
   ],
   "source": [
    "app.secure_request(b'ping')"
   ]
  },
  {
   "cell_type": "code",
   "execution_count": 8,
   "metadata": {},
   "outputs": [
    {
     "data": {
      "text/plain": [
       "b'vojwfstf!vojwfstf!vojwfstf!vojwfstf!vojwfstf!vojwfstf!vojwfstf!vojwfstf!vojwfstf!vojwfstf!vojwfstf!vojwfstf!vojwfstf!vojwfstf!vojwfstf!vojwfstf!vojwfstf!vojwfstf!vojwfstf!vojwfstf!vojwfstf!vojwfstf!vojwfstf!vshf'"
      ]
     },
     "execution_count": 8,
     "metadata": {},
     "output_type": "execute_result"
    }
   ],
   "source": [
    "mnemonic = b'universe universe universe universe universe universe universe universe universe universe universe universe universe universe universe universe universe universe universe universe universe universe universe urge'\n",
    "app.secure_request(mnemonic)"
   ]
  },
  {
   "cell_type": "code",
   "execution_count": 9,
   "metadata": {},
   "outputs": [],
   "source": [
    "app.close_secure_channel()"
   ]
  },
  {
   "cell_type": "code",
   "execution_count": 10,
   "metadata": {},
   "outputs": [],
   "source": [
    "connection.disconnect()"
   ]
  },
  {
   "cell_type": "code",
   "execution_count": null,
   "metadata": {},
   "outputs": [],
   "source": []
  }
 ],
 "metadata": {
  "kernelspec": {
   "display_name": "Python 3",
   "language": "python",
   "name": "python3"
  },
  "language_info": {
   "codemirror_mode": {
    "name": "ipython",
    "version": 3
   },
   "file_extension": ".py",
   "mimetype": "text/x-python",
   "name": "python",
   "nbconvert_exporter": "python",
   "pygments_lexer": "ipython3",
   "version": "3.7.6"
  }
 },
 "nbformat": 4,
 "nbformat_minor": 2
}
