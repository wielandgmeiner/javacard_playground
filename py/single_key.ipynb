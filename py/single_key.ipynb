{
 "cells": [
  {
   "cell_type": "code",
   "execution_count": 1,
   "metadata": {},
   "outputs": [],
   "source": [
    "# for some reason sometimes a few bytes are lost...\n",
    "# so double-check that you got a correct signature before broadcasting the funding tx\n",
    "\n",
    "from applets.core import get_connection, SecureAppletBase\n",
    "from applets.util import secp256k1\n",
    "\n",
    "class SingleUseKey(SecureAppletBase):\n",
    "    def __init__(self, connection=None):\n",
    "        super().__init__(\"B00B5111CD01\", connection)\n",
    "\n",
    "    def generate_fresh_key(self):\n",
    "        return self.secure_request(b'\\x20\\x00')\n",
    "        \n",
    "    def get_pubkey(self):\n",
    "        return self.secure_request(b'\\x20\\x01')\n",
    "\n",
    "    def sign(self, msg:bytes):\n",
    "        if len(msg)!=32:\n",
    "            raise ValueError(\"Message hash should be 32 bytes long\")\n",
    "        return self.secure_request(b'\\x20\\x02'+msg)"
   ]
  },
  {
   "cell_type": "code",
   "execution_count": 2,
   "metadata": {},
   "outputs": [],
   "source": [
    "connection = get_connection()\n",
    "if connection is None:\n",
    "    print(\"Failed to open a connection. No cardreaders?\")"
   ]
  },
  {
   "cell_type": "code",
   "execution_count": 3,
   "metadata": {},
   "outputs": [
    {
     "name": "stdout",
     "output_type": "stream",
     "text": [
      "3bdc18ff8191fe1fc38073c821136605036351000250\n"
     ]
    }
   ],
   "source": [
    "atr=bytes(connection.getATR())\n",
    "print(atr.hex())"
   ]
  },
  {
   "cell_type": "code",
   "execution_count": 4,
   "metadata": {},
   "outputs": [
    {
     "data": {
      "text/plain": [
       "True"
      ]
     },
     "execution_count": 4,
     "metadata": {},
     "output_type": "execute_result"
    }
   ],
   "source": [
    "app = SingleUseKey(connection)\n",
    "app.select()\n",
    "app.establish_secure_channel()\n",
    "app.is_secure_channel_open"
   ]
  },
  {
   "cell_type": "code",
   "execution_count": 5,
   "metadata": {},
   "outputs": [
    {
     "data": {
      "text/plain": [
       "'037f61ff8ffa418c44886d37a6cf33e96087ace40bd2ab3232b30d3160a0e07b58'"
      ]
     },
     "execution_count": 5,
     "metadata": {},
     "output_type": "execute_result"
    }
   ],
   "source": [
    "# generate a new random key\n",
    "pub = app.generate_fresh_key()\n",
    "pub.hex()"
   ]
  },
  {
   "cell_type": "code",
   "execution_count": 6,
   "metadata": {},
   "outputs": [
    {
     "data": {
      "text/plain": [
       "33"
      ]
     },
     "execution_count": 6,
     "metadata": {},
     "output_type": "execute_result"
    }
   ],
   "source": [
    "len(pub)"
   ]
  },
  {
   "cell_type": "code",
   "execution_count": 7,
   "metadata": {},
   "outputs": [
    {
     "data": {
      "text/plain": [
       "True"
      ]
     },
     "execution_count": 7,
     "metadata": {},
     "output_type": "execute_result"
    }
   ],
   "source": [
    "# you can get this pubkey if you didn't sign using this key\n",
    "app.get_pubkey() == pub"
   ]
  },
  {
   "cell_type": "code",
   "execution_count": 8,
   "metadata": {},
   "outputs": [
    {
     "name": "stdout",
     "output_type": "stream",
     "text": [
      "33 037f61ff8ffa418c44886d37a6cf33e96087ace40bd2ab3232b30d3160a0e07b58\n"
     ]
    }
   ],
   "source": [
    "pub = app.get_pubkey()\n",
    "print(len(pub), pub.hex())"
   ]
  },
  {
   "cell_type": "code",
   "execution_count": 9,
   "metadata": {},
   "outputs": [
    {
     "data": {
      "text/plain": [
       "'3045022100d984c017a76e62c43464378b49590d6b0e87e0b03e7d0f62bb5330adb67f71f602201dd2304bc2aea0da20b0754d2b7b8d22ed74e1e2c686b0470ed8c7620291e80b'"
      ]
     },
     "execution_count": 9,
     "metadata": {},
     "output_type": "execute_result"
    }
   ],
   "source": [
    "# sign message - only one message can be signed, then new key is generated\n",
    "msg = b'5'*32\n",
    "sig = app.sign(msg)\n",
    "sig.hex()"
   ]
  },
  {
   "cell_type": "code",
   "execution_count": 10,
   "metadata": {},
   "outputs": [
    {
     "data": {
      "text/plain": [
       "True"
      ]
     },
     "execution_count": 10,
     "metadata": {},
     "output_type": "execute_result"
    }
   ],
   "source": [
    "# verify it is valid:\n",
    "sig_raw = secp256k1.ecdsa_signature_parse_der(sig)\n",
    "pub_raw = secp256k1.ec_pubkey_parse(pub)\n",
    "secp256k1.ecdsa_verify(sig_raw, msg, pub_raw)"
   ]
  },
  {
   "cell_type": "code",
   "execution_count": 11,
   "metadata": {},
   "outputs": [],
   "source": [
    "connection.disconnect()"
   ]
  },
  {
   "cell_type": "code",
   "execution_count": null,
   "metadata": {},
   "outputs": [],
   "source": []
  }
 ],
 "metadata": {
  "kernelspec": {
   "display_name": "Python 3",
   "language": "python",
   "name": "python3"
  },
  "language_info": {
   "codemirror_mode": {
    "name": "ipython",
    "version": 3
   },
   "file_extension": ".py",
   "mimetype": "text/x-python",
   "name": "python",
   "nbconvert_exporter": "python",
   "pygments_lexer": "ipython3",
   "version": "3.7.6"
  }
 },
 "nbformat": 4,
 "nbformat_minor": 2
}
