{
 "cells": [
  {
   "cell_type": "markdown",
   "metadata": {},
   "source": [
    "# Single use key applet\n",
    "\n",
    "This applet generates a single-use private key on a secure element (JavaCard) and can sign only one message.\n",
    "\n",
    "The key is overwritten just before the signature is sent back to the host."
   ]
  },
  {
   "cell_type": "code",
   "execution_count": 1,
   "metadata": {},
   "outputs": [],
   "source": [
    "from applets.core import get_connection, SecureAppletBase\n",
    "from applets.util import secp256k1\n",
    "\n",
    "class SingleUseKey(SecureAppletBase):\n",
    "    def __init__(self, connection=None):\n",
    "        super().__init__(\"B00B5111CD01\", connection)\n",
    "\n",
    "    def generate_fresh_key(self):\n",
    "        return self.secure_request(b'\\x20\\x00')\n",
    "        \n",
    "    def get_pubkey(self):\n",
    "        return self.secure_request(b'\\x20\\x01')\n",
    "\n",
    "    def sign(self, msg:bytes):\n",
    "        if len(msg)!=32:\n",
    "            raise ValueError(\"Message hash should be 32 bytes long\")\n",
    "        return self.secure_request(b'\\x20\\x02'+msg)"
   ]
  },
  {
   "cell_type": "markdown",
   "metadata": {},
   "source": [
    "# 1. Establish communication with the card\n",
    "\n",
    "## 1.1. Find the smartcard reader"
   ]
  },
  {
   "cell_type": "code",
   "execution_count": 2,
   "metadata": {},
   "outputs": [],
   "source": [
    "connection = get_connection()\n",
    "if connection is None:\n",
    "    print(\"Failed to open a connection. No cardreaders?\")"
   ]
  },
  {
   "cell_type": "markdown",
   "metadata": {},
   "source": [
    "## 1.2. Power on the card and get `ATR`\n",
    "`ATR` - Answer To Reset, bytes retured by the card when it is powered on.<br>\n",
    "It helps to determine communication protocol and frequency we should choose."
   ]
  },
  {
   "cell_type": "code",
   "execution_count": 3,
   "metadata": {},
   "outputs": [
    {
     "name": "stdout",
     "output_type": "stream",
     "text": [
      "3bdc18ff8191fe1fc38073c821136605036351000250\n"
     ]
    }
   ],
   "source": [
    "atr=bytes(connection.getATR())\n",
    "print(atr.hex())"
   ]
  },
  {
   "cell_type": "markdown",
   "metadata": {},
   "source": [
    "## 1.3. Select the applet by AID\n",
    "JavaCard can have multiple applets installed. They are like very isolated \"apps\".<br>\n",
    "They can't talk to each other and only one can be active at any time."
   ]
  },
  {
   "cell_type": "code",
   "execution_count": 4,
   "metadata": {},
   "outputs": [
    {
     "data": {
      "text/plain": [
       "True"
      ]
     },
     "execution_count": 4,
     "metadata": {},
     "output_type": "execute_result"
    }
   ],
   "source": [
    "app = SingleUseKey(connection)\n",
    "app.select()\n",
    "\n",
    "# establish secure communication\n",
    "app.establish_secure_channel()\n",
    "app.is_secure_channel_open"
   ]
  },
  {
   "cell_type": "markdown",
   "metadata": {},
   "source": [
    "# 2. Start talking to the card securely\n",
    "## 2.1. Generate a new private key\n",
    "Card will return corresponding public key and will keep it until you sign something.<br>\n",
    "It will overwrite the key with a new one once signature is sent to the host."
   ]
  },
  {
   "cell_type": "code",
   "execution_count": 5,
   "metadata": {},
   "outputs": [
    {
     "data": {
      "text/plain": [
       "'026ea4a62f657f0ffa5deb7dfb30d039ea9e02809d9479fa9f7b364b983cf2b4f5'"
      ]
     },
     "execution_count": 5,
     "metadata": {},
     "output_type": "execute_result"
    }
   ],
   "source": [
    "# generate a new random key\n",
    "pub = app.generate_fresh_key()\n",
    "pub.hex()"
   ]
  },
  {
   "cell_type": "code",
   "execution_count": 6,
   "metadata": {},
   "outputs": [
    {
     "data": {
      "text/plain": [
       "True"
      ]
     },
     "execution_count": 6,
     "metadata": {},
     "output_type": "execute_result"
    }
   ],
   "source": [
    "# you can get this pubkey if you didn't sign using this key\n",
    "app.get_pubkey() == pub"
   ]
  },
  {
   "cell_type": "markdown",
   "metadata": {},
   "source": [
    "## 2.2. Sign a message with this key\n",
    "\n",
    "Key will be deleted when the signature is sent to the host."
   ]
  },
  {
   "cell_type": "code",
   "execution_count": 7,
   "metadata": {},
   "outputs": [
    {
     "data": {
      "text/plain": [
       "'3044022014893591426d2cf3b472dc93b2fc830b14edf7ed96ee116290eb6db29088d91502200384d89d907f7543ccef7d693f79f8cedec8ddf4ead912d847434a9ffe1c25b8'"
      ]
     },
     "execution_count": 7,
     "metadata": {},
     "output_type": "execute_result"
    }
   ],
   "source": [
    "# sign message - only one message can be signed, then new key is generated\n",
    "msg = b'5'*32 # some dummy message\n",
    "sig = app.sign(msg)\n",
    "sig.hex()"
   ]
  },
  {
   "cell_type": "code",
   "execution_count": 8,
   "metadata": {},
   "outputs": [
    {
     "data": {
      "text/plain": [
       "True"
      ]
     },
     "execution_count": 8,
     "metadata": {},
     "output_type": "execute_result"
    }
   ],
   "source": [
    "# verify it is valid:\n",
    "sig_raw = secp256k1.ecdsa_signature_parse_der(sig)\n",
    "pub_raw = secp256k1.ec_pubkey_parse(pub)\n",
    "secp256k1.ecdsa_verify(sig_raw, msg, pub_raw)"
   ]
  },
  {
   "cell_type": "markdown",
   "metadata": {},
   "source": [
    "# 3 Close connection with the card"
   ]
  },
  {
   "cell_type": "code",
   "execution_count": 9,
   "metadata": {},
   "outputs": [],
   "source": [
    "connection.disconnect()"
   ]
  },
  {
   "cell_type": "code",
   "execution_count": null,
   "metadata": {},
   "outputs": [],
   "source": []
  }
 ],
 "metadata": {
  "kernelspec": {
   "display_name": "Python 3",
   "language": "python",
   "name": "python3"
  },
  "language_info": {
   "codemirror_mode": {
    "name": "ipython",
    "version": 3
   },
   "file_extension": ".py",
   "mimetype": "text/x-python",
   "name": "python",
   "nbconvert_exporter": "python",
   "pygments_lexer": "ipython3",
   "version": "3.7.6"
  }
 },
 "nbformat": 4,
 "nbformat_minor": 2
}
