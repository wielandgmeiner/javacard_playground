{
 "cells": [
  {
   "cell_type": "markdown",
   "metadata": {},
   "source": [
    "# Calculator Applet\n",
    "\n",
    "Demo that does various calculations - sha, hmac, pbkdf, field math, elliptic curve math"
   ]
  },
  {
   "cell_type": "code",
   "execution_count": 1,
   "metadata": {},
   "outputs": [],
   "source": [
    "from applets.core import get_connection, AppletBase\n",
    "\n",
    "class Calculator(AppletBase):\n",
    "    def __init__(self, connection=None):\n",
    "        super().__init__(\"B00B5111CC01\", connection)\n",
    "\n",
    "    def sha256(self, d):\n",
    "        data = bytes([len(d)])+d\n",
    "        r = \"B0A10000\"+(bytes([len(data)])+data).hex().upper()\n",
    "        return self.request(r)\n",
    "    \n",
    "    def hmac_sha256(self, k, d):\n",
    "        data = bytes([len(k)])+k+bytes([len(d)])+d\n",
    "        r = \"B0A20000\"+(bytes([len(data)])+data).hex().upper()\n",
    "        return self.request(r)\n",
    "    \n",
    "    def sha512(self, d):\n",
    "        data = bytes([len(d)])+d\n",
    "        r = \"B0A30000\"+(bytes([len(data)])+data).hex().upper()\n",
    "        return self.request(r)\n",
    "    \n",
    "    def hmac_sha512(self, k, d):\n",
    "        data = bytes([len(k)])+k+bytes([len(d)])+d\n",
    "        r = \"B0A40000\"+(bytes([len(data)])+data).hex().upper()\n",
    "        return self.request(r)\n",
    "\n",
    "    def add_mod_FP(self, a, b):\n",
    "        data = bytes([len(a)])+a+bytes([len(b)])+b\n",
    "        r = \"B0A50000\"+(bytes([len(data)])+data).hex().upper()\n",
    "        return self.request(r)\n",
    "    \n",
    "    def add_mod_N(self, a, b):\n",
    "        data = bytes([len(a)])+a+bytes([len(b)])+b\n",
    "        r = \"B0A60000\"+(bytes([len(data)])+data).hex().upper()\n",
    "        return self.request(r)"
   ]
  },
  {
   "cell_type": "code",
   "execution_count": 2,
   "metadata": {},
   "outputs": [
    {
     "name": "stdout",
     "output_type": "stream",
     "text": [
      "3bdc18ff8191fe1fc38073c821136605036351000250\n"
     ]
    }
   ],
   "source": [
    "connection = get_connection()\n",
    "if connection is not None:\n",
    "    atr=bytes(connection.getATR())\n",
    "    print(atr.hex())\n",
    "else:\n",
    "    print(\"Failed to open a connection. No cardreaders?\")"
   ]
  },
  {
   "cell_type": "code",
   "execution_count": 3,
   "metadata": {},
   "outputs": [
    {
     "data": {
      "text/plain": [
       "b''"
      ]
     },
     "execution_count": 3,
     "metadata": {},
     "output_type": "execute_result"
    }
   ],
   "source": [
    "app = Calculator(connection)\n",
    "app.select()"
   ]
  },
  {
   "cell_type": "code",
   "execution_count": 4,
   "metadata": {},
   "outputs": [],
   "source": [
    "d = b'hello'\n",
    "k = b'key'"
   ]
  },
  {
   "cell_type": "code",
   "execution_count": 5,
   "metadata": {},
   "outputs": [
    {
     "name": "stdout",
     "output_type": "stream",
     "text": [
      "sha256:\t\t 2cf24dba5fb0a30e26e83b2ac5b9e29e1b161e5c1fa7425e73043362938b9824\n",
      "hmac-sha256:\t 9307b3b915efb5171ff14d8cb55fbcc798c6c0ef1456d66ded1a6aa723a58b7b\n",
      "sha512:\t\t 9b71d224bd62f3785d96d46ad3ea3d73319bfbc2890caadae2dff72519673ca72323c3d99ba5c11d7c7acc6e14b8c5da0c4663475c2e5c3adef46f73bcdec043\n",
      "hmac-sha512:\t ff06ab36757777815c008d32c8e14a705b4e7bf310351a06a23b612dc4c7433e7757d20525a5593b71020ea2ee162d2311b247e9855862b270122419652c0c92\n"
     ]
    }
   ],
   "source": [
    "# sha functions from the card\n",
    "print(\"sha256:\\t\\t\", app.sha256(d).hex())\n",
    "print(\"hmac-sha256:\\t\", app.hmac_sha256(k, d).hex())\n",
    "print(\"sha512:\\t\\t\", app.sha512(d).hex())\n",
    "print(\"hmac-sha512:\\t\", app.hmac_sha512(k, d).hex())"
   ]
  },
  {
   "cell_type": "code",
   "execution_count": null,
   "metadata": {},
   "outputs": [],
   "source": [
    "import hashlib, hmac\n",
    "# same using hashlib\n",
    "print(\"sha256:\\t\\t\",hashlib.sha256(d).digest().hex())\n",
    "print(\"hmac-sha256:\\t\",hmac.new(k, d, digestmod=hashlib.sha256).digest().hex())\n",
    "print(\"sha512:\\t\\t\",hashlib.sha512(d).digest().hex())\n",
    "print(\"hmac-sha512:\\t\",hmac.new(k, d, digestmod=hashlib.sha512).digest().hex())"
   ]
  },
  {
   "cell_type": "code",
   "execution_count": null,
   "metadata": {},
   "outputs": [],
   "source": []
  },
  {
   "cell_type": "code",
   "execution_count": null,
   "metadata": {},
   "outputs": [],
   "source": [
    "FP = 2**256 - 2**32 - 977\n",
    "N = 0xFFFFFFFFFFFFFFFFFFFFFFFFFFFFFFFEBAAEDCE6AF48A03BBFD25E8CD0364141"
   ]
  },
  {
   "cell_type": "code",
   "execution_count": null,
   "metadata": {},
   "outputs": [],
   "source": [
    "def to_bytes(n:int):\n",
    "    return n.to_bytes(32, 'big')"
   ]
  },
  {
   "cell_type": "code",
   "execution_count": null,
   "metadata": {},
   "outputs": [],
   "source": [
    "# random check\n",
    "import random\n",
    "for i in range(10):\n",
    "    a = random.randint(1,N)\n",
    "    b = random.randint(1,N)\n",
    "    r = (a+b) % FP\n",
    "    rr = r.to_bytes(32, 'big').hex()\n",
    "    rc = app.add_mod_FP(to_bytes(a),to_bytes(b)).hex()\n",
    "    print(i)\n",
    "    if (rr!=rc):\n",
    "        print(to_bytes(a).hex())\n",
    "        print(to_bytes(b).hex())\n",
    "        print(rr)\n",
    "        print(rc)\n",
    "        raise RuntimeError(\"Meh\")"
   ]
  },
  {
   "cell_type": "code",
   "execution_count": null,
   "metadata": {},
   "outputs": [],
   "source": [
    "# edge cases - slightly less than mod, slightly more, equal and overflow\n",
    "a = FP-20\n",
    "for i, b in enumerate([10,23,20,10500, 1020203124]):\n",
    "    r = (a+b) % FP\n",
    "    rr = r.to_bytes(32, 'big').hex()\n",
    "    rc = app.add_mod_FP(to_bytes(a),to_bytes(b)).hex()\n",
    "    print(i)\n",
    "    if (rr!=rc):\n",
    "        print(to_bytes(a).hex())\n",
    "        print(to_bytes(b).hex())\n",
    "        print(rr)\n",
    "        print(rc)\n",
    "        raise RuntimeError(\"Meh\")"
   ]
  },
  {
   "cell_type": "code",
   "execution_count": null,
   "metadata": {},
   "outputs": [],
   "source": []
  },
  {
   "cell_type": "code",
   "execution_count": null,
   "metadata": {},
   "outputs": [],
   "source": [
    "from embit import bip32, ec\n",
    "import os\n",
    "seed = os.urandom(64)\n",
    "root = bip32.HDKey.from_seed(seed)\n",
    "# without prefix, depth, root fingerprint and index\n",
    "root.serialize()[13:].hex()"
   ]
  },
  {
   "cell_type": "code",
   "execution_count": null,
   "metadata": {},
   "outputs": [],
   "source": [
    "res = root.child(10, hardened=False).serialize()[13:].hex()\n",
    "res"
   ]
  },
  {
   "cell_type": "code",
   "execution_count": null,
   "metadata": {},
   "outputs": [],
   "source": [
    "data = bytes([65])+root.serialize()[13:]+bytes([4,0x00,0,0,10])\n",
    "r = \"B0A90000\"+(bytes([len(data)])+data).hex().upper()\n",
    "res2 = app.request(r).hex()\n",
    "if res2!=res:\n",
    "    raise RuntimeError(\"Meh\")\n",
    "res2"
   ]
  },
  {
   "cell_type": "code",
   "execution_count": null,
   "metadata": {},
   "outputs": [],
   "source": [
    "# point addition\n",
    "p = root.to_public().key\n",
    "p.compressed = False\n",
    "print(p.sec().hex())\n",
    "pp = ec.PublicKey.parse(p.serialize())\n",
    "ec.secp256k1.ec_pubkey_tweak_add(pp._point, b'4'*32)\n",
    "res = pp.sec().hex()\n",
    "print(res)"
   ]
  },
  {
   "cell_type": "code",
   "execution_count": null,
   "metadata": {},
   "outputs": [],
   "source": [
    "data = bytes([32])+b'4'*32+bytes([65])+p.sec()\n",
    "r = \"B0A70000\"+(bytes([len(data)])+data).hex().upper()\n",
    "res2 = app.request(r).hex()\n",
    "if res2!=res:\n",
    "    raise RuntimeError(\"Meh\")\n",
    "res2"
   ]
  },
  {
   "cell_type": "code",
   "execution_count": null,
   "metadata": {},
   "outputs": [],
   "source": [
    "p3 = ec.PublicKey.parse(ec.secp256k1.ec_pubkey_serialize(ec.secp256k1.ec_pubkey_combine(p._point,pp._point)))\n",
    "p3.compressed = False\n",
    "res = p3.sec().hex()\n",
    "res"
   ]
  },
  {
   "cell_type": "code",
   "execution_count": null,
   "metadata": {},
   "outputs": [],
   "source": [
    "data = bytes([65])+pp.sec()+bytes([65])+p.sec()\n",
    "r = \"B0A80000\"+(bytes([len(data)])+data).hex().upper()\n",
    "res2 = app.request(r).hex()\n",
    "if res2!=res:\n",
    "    raise RuntimeError(\"Meh\")\n",
    "res2"
   ]
  },
  {
   "cell_type": "code",
   "execution_count": null,
   "metadata": {},
   "outputs": [],
   "source": [
    "xpub = root.to_public()\n",
    "xpub.serialize()[13:].hex()"
   ]
  },
  {
   "cell_type": "code",
   "execution_count": null,
   "metadata": {},
   "outputs": [],
   "source": [
    "res=xpub.child(10, hardened=False).serialize()[13:].hex()\n",
    "res"
   ]
  },
  {
   "cell_type": "code",
   "execution_count": null,
   "metadata": {},
   "outputs": [],
   "source": [
    "data = bytes([65])+xpub.serialize()[13:]+bytes([4,0x00,0,0,10])\n",
    "r = \"B0AA0000\"+(bytes([len(data)])+data).hex().upper()\n",
    "res2=app.request(r).hex()\n",
    "if res2!=res:\n",
    "    raise RuntimeError(\"Meh\",res2)\n",
    "res2"
   ]
  },
  {
   "cell_type": "code",
   "execution_count": null,
   "metadata": {},
   "outputs": [],
   "source": []
  },
  {
   "cell_type": "code",
   "execution_count": null,
   "metadata": {},
   "outputs": [],
   "source": [
    "import hashlib\n",
    "print(hashlib.pbkdf2_hmac('sha512', b'pwd', b'salt', 2048, 64).hex())\n",
    "print(hashlib.pbkdf2_hmac('sha512', b'pwd', b'salt', 100, 64).hex())"
   ]
  },
  {
   "cell_type": "code",
   "execution_count": null,
   "metadata": {},
   "outputs": [],
   "source": [
    "import time\n",
    "time.time()"
   ]
  },
  {
   "cell_type": "code",
   "execution_count": null,
   "metadata": {},
   "outputs": [],
   "source": [
    "t0 = time.time()\n",
    "# 2048 iterations -> 0x8000\n",
    "iterations = 100\n",
    "data = bytes([2])+iterations.to_bytes(2,'big')+bytes([3])+b'pwd'+bytes([4])+b'salt'\n",
    "r = \"B0A00000\"+(bytes([len(data)])+data).hex().upper()\n",
    "# print(r)\n",
    "print(app.request(r).hex())\n",
    "dt = time.time()-t0\n",
    "print(f\"{dt} seconds for {iterations} iterations.\\nFor 2048 iterations it will be {dt*2048/iterations} seconds\")"
   ]
  },
  {
   "cell_type": "code",
   "execution_count": null,
   "metadata": {},
   "outputs": [],
   "source": []
  },
  {
   "cell_type": "code",
   "execution_count": null,
   "metadata": {},
   "outputs": [],
   "source": [
    "import os\n",
    "a = os.urandom(32)\n",
    "pow(int.from_bytes(a,'big'),2,FP).to_bytes(32,'big').hex()"
   ]
  },
  {
   "cell_type": "code",
   "execution_count": null,
   "metadata": {},
   "outputs": [],
   "source": [
    "data = bytes([32])+a\n",
    "r = \"B0AB0000\"+(bytes([len(data)])+data).hex().upper()\n",
    "# print(r)\n",
    "print(app.request(r).hex())\n"
   ]
  },
  {
   "cell_type": "code",
   "execution_count": null,
   "metadata": {},
   "outputs": [],
   "source": [
    "pow(int.from_bytes(a,'big'),3,FP).to_bytes(32,'big').hex()"
   ]
  },
  {
   "cell_type": "code",
   "execution_count": null,
   "metadata": {},
   "outputs": [],
   "source": [
    "data = bytes([32])+a\n",
    "r = \"B0AC0000\"+(bytes([len(data)])+data).hex().upper()\n",
    "# print(r)\n",
    "print(app.request(r).hex())"
   ]
  },
  {
   "cell_type": "code",
   "execution_count": null,
   "metadata": {},
   "outputs": [],
   "source": [
    "pow(int.from_bytes(a,'big'),FP-2,FP).to_bytes(32,'big').hex()"
   ]
  },
  {
   "cell_type": "code",
   "execution_count": null,
   "metadata": {},
   "outputs": [],
   "source": [
    "data = bytes([32])+a\n",
    "r = \"B0AD0000\"+(bytes([len(data)])+data).hex().upper()\n",
    "# print(r)\n",
    "print(app.request(r).hex())"
   ]
  },
  {
   "cell_type": "code",
   "execution_count": null,
   "metadata": {},
   "outputs": [],
   "source": [
    "pow(int.from_bytes(a,'big'),2,N).to_bytes(32,'big').hex()"
   ]
  },
  {
   "cell_type": "code",
   "execution_count": null,
   "metadata": {},
   "outputs": [],
   "source": [
    "data = bytes([32])+a\n",
    "r = \"B0AE0000\"+(bytes([len(data)])+data).hex().upper()\n",
    "# print(r)\n",
    "print(app.request(r).hex())\n"
   ]
  },
  {
   "cell_type": "code",
   "execution_count": null,
   "metadata": {},
   "outputs": [],
   "source": [
    "pow(int.from_bytes(a,'big'),3,N).to_bytes(32,'big').hex()"
   ]
  },
  {
   "cell_type": "code",
   "execution_count": null,
   "metadata": {},
   "outputs": [],
   "source": [
    "data = bytes([32])+a\n",
    "r = \"B0AF0000\"+(bytes([len(data)])+data).hex().upper()\n",
    "# print(r)\n",
    "print(app.request(r).hex())\n"
   ]
  },
  {
   "cell_type": "code",
   "execution_count": null,
   "metadata": {},
   "outputs": [],
   "source": [
    "pow(int.from_bytes(a,'big'),N-2,N).to_bytes(32,'big').hex()"
   ]
  },
  {
   "cell_type": "code",
   "execution_count": null,
   "metadata": {},
   "outputs": [],
   "source": [
    "data = bytes([32])+a\n",
    "r = \"B0B00000\"+(bytes([len(data)])+data).hex().upper()\n",
    "# print(r)\n",
    "print(app.request(r).hex())\n"
   ]
  },
  {
   "cell_type": "code",
   "execution_count": null,
   "metadata": {},
   "outputs": [],
   "source": []
  },
  {
   "cell_type": "code",
   "execution_count": null,
   "metadata": {},
   "outputs": [],
   "source": [
    "pub = ec.PrivateKey(os.urandom(32)).get_public_key()\n",
    "sec = pub.sec()\n",
    "pub.compressed=False\n",
    "sec_unc = pub.sec()\n",
    "sec_unc.hex()"
   ]
  },
  {
   "cell_type": "code",
   "execution_count": null,
   "metadata": {},
   "outputs": [],
   "source": [
    "data = bytes([65])+sec_unc\n",
    "r = \"B0B10000\"+(bytes([len(data)])+data).hex().upper()\n",
    "# print(r)\n",
    "res = app.request(r)\n",
    "print(res.hex())\n",
    "res == sec"
   ]
  },
  {
   "cell_type": "code",
   "execution_count": null,
   "metadata": {},
   "outputs": [],
   "source": [
    "data = bytes([33])+sec\n",
    "r = \"B0B20000\"+(bytes([len(data)])+data).hex().upper()\n",
    "# print(r)\n",
    "res = app.request(r)\n",
    "print(res.hex())\n",
    "res == sec_unc"
   ]
  },
  {
   "cell_type": "code",
   "execution_count": 6,
   "metadata": {},
   "outputs": [],
   "source": [
    "# signature check\n",
    "from embit.ec import Signature, secp256k1"
   ]
  },
  {
   "cell_type": "code",
   "execution_count": 17,
   "metadata": {},
   "outputs": [
    {
     "name": "stdout",
     "output_type": "stream",
     "text": [
      "3046022100fafafafafafafafafafafafafafafafafafafafafafafafafafafafafafafafa022100ffffff1f1f1f1f1f1f1f1f1f1f1f1f1f1f1f1f1f1f1f1f1f1f1f1f1f1f1f1f1f\n",
      "3043022100fafafafafafafafafafafafafafafafafafafafafafafafafafafafafafafafa021e00e0e0e0e0e0e0e0e0e0e0e0e0df9b8fbdc79029811ca0b33f6db1172222\n"
     ]
    }
   ],
   "source": [
    "badsig = Signature(b'\\xFA'*32+b'\\x1F'*29+b'\\xFF\\xFF\\xFF')\n",
    "print(badsig.serialize().hex())\n",
    "sig = Signature(secp256k1.ecdsa_signature_normalize(badsig._sig))\n",
    "print(sig.serialize().hex())"
   ]
  },
  {
   "cell_type": "code",
   "execution_count": 18,
   "metadata": {},
   "outputs": [
    {
     "name": "stdout",
     "output_type": "stream",
     "text": [
      "3046022100fafafafafafafafafafafafafafafafafafafafafafafafafafafafafafafafa022100ffffff1f1f1f1f1f1f1f1f1f1f1f1f1f1f1f1f1f1f1f1f1f1f1f1f1f1f1f1f1f\n",
      "3043022100fafafafafafafafafafafafafafafafafafafafafafafafafafafafafafafafa021e00e0e0e0e0e0e0e0e0e0e0e0e0df9b8fbdc79029811ca0b33f6db1172222\n",
      "3043022100fafafafafafafafafafafafafafafafafafafafafafafafafafafafafafafafa021e00e0e0e0e0e0e0e0e0e0e0e0e0df9b8fbdc79029811ca0b33f6db1172222\n"
     ]
    },
    {
     "data": {
      "text/plain": [
       "True"
      ]
     },
     "execution_count": 18,
     "metadata": {},
     "output_type": "execute_result"
    }
   ],
   "source": [
    "der = badsig.serialize()\n",
    "data = bytes([len(der)])+der\n",
    "r = \"B0B30000\"+(bytes([len(data)])+data).hex().upper()\n",
    "print(der.hex())\n",
    "res = app.request(r)[6:]\n",
    "print(sig.serialize().hex())\n",
    "print(res.hex())\n",
    "res==sig.serialize()"
   ]
  },
  {
   "cell_type": "code",
   "execution_count": 19,
   "metadata": {},
   "outputs": [],
   "source": [
    "connection.disconnect()"
   ]
  },
  {
   "cell_type": "code",
   "execution_count": null,
   "metadata": {},
   "outputs": [],
   "source": []
  }
 ],
 "metadata": {
  "kernelspec": {
   "display_name": "Python 3",
   "language": "python",
   "name": "python3"
  },
  "language_info": {
   "codemirror_mode": {
    "name": "ipython",
    "version": 3
   },
   "file_extension": ".py",
   "mimetype": "text/x-python",
   "name": "python",
   "nbconvert_exporter": "python",
   "pygments_lexer": "ipython3",
   "version": "3.7.6"
  }
 },
 "nbformat": 4,
 "nbformat_minor": 2
}
