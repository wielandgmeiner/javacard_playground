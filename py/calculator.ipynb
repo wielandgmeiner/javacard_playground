{
 "cells": [
  {
   "cell_type": "markdown",
   "metadata": {},
   "source": [
    "# Calculator Applet\n",
    "\n",
    "Demo that does various calculations - sha, hmac, pbkdf, field math, elliptic curve math"
   ]
  },
  {
   "cell_type": "code",
   "execution_count": 1,
   "metadata": {},
   "outputs": [],
   "source": [
    "from applets.helpers import get_connection, AppletBase\n",
    "\n",
    "class Calculator(AppletBase):\n",
    "    def __init__(self, connection=None):\n",
    "        super().__init__(\"B00B5111CC01\", connection)\n",
    "\n",
    "    def sha256(self, d):\n",
    "        data = bytes([len(d)])+d\n",
    "        r = \"B0A10000\"+(bytes([len(data)])+data).hex().upper()\n",
    "        return self.request(r)\n",
    "    \n",
    "    def hmac_sha256(self, k, d):\n",
    "        data = bytes([len(k)])+k+bytes([len(d)])+d\n",
    "        r = \"B0A20000\"+(bytes([len(data)])+data).hex().upper()\n",
    "        return self.request(r)\n",
    "    \n",
    "    def sha512(self, d):\n",
    "        data = bytes([len(d)])+d\n",
    "        r = \"B0A30000\"+(bytes([len(data)])+data).hex().upper()\n",
    "        return self.request(r)\n",
    "    \n",
    "    def hmac_sha512(self, k, d):\n",
    "        data = bytes([len(k)])+k+bytes([len(d)])+d\n",
    "        r = \"B0A40000\"+(bytes([len(data)])+data).hex().upper()\n",
    "        return self.request(r)\n",
    "\n",
    "    def add_mod_FP(self, a, b):\n",
    "        data = bytes([len(a)])+a+bytes([len(b)])+b\n",
    "        r = \"B0A50000\"+(bytes([len(data)])+data).hex().upper()\n",
    "        return self.request(r)\n",
    "    \n",
    "    def add_mod_N(self, a, b):\n",
    "        data = bytes([len(a)])+a+bytes([len(b)])+b\n",
    "        r = \"B0A60000\"+(bytes([len(data)])+data).hex().upper()\n",
    "        return self.request(r)"
   ]
  },
  {
   "cell_type": "code",
   "execution_count": 2,
   "metadata": {},
   "outputs": [
    {
     "name": "stdout",
     "output_type": "stream",
     "text": [
      "3bdc18ff8191fe1fc38073c821136605036351000250\n"
     ]
    }
   ],
   "source": [
    "connection = get_connection()\n",
    "if connection is not None:\n",
    "    atr=bytes(connection.getATR())\n",
    "    print(atr.hex())\n",
    "else:\n",
    "    print(\"Failed to open a connection. No cardreaders?\")"
   ]
  },
  {
   "cell_type": "code",
   "execution_count": 3,
   "metadata": {},
   "outputs": [
    {
     "data": {
      "text/plain": [
       "b''"
      ]
     },
     "execution_count": 3,
     "metadata": {},
     "output_type": "execute_result"
    }
   ],
   "source": [
    "app = Calculator(connection)\n",
    "app.select()"
   ]
  },
  {
   "cell_type": "code",
   "execution_count": 4,
   "metadata": {},
   "outputs": [],
   "source": [
    "d = b'hello'\n",
    "k = b'key'"
   ]
  },
  {
   "cell_type": "code",
   "execution_count": 5,
   "metadata": {},
   "outputs": [
    {
     "name": "stdout",
     "output_type": "stream",
     "text": [
      "sha256:\t\t 2cf24dba5fb0a30e26e83b2ac5b9e29e1b161e5c1fa7425e73043362938b9824\n",
      "hmac-sha256:\t 9307b3b915efb5171ff14d8cb55fbcc798c6c0ef1456d66ded1a6aa723a58b7b\n",
      "sha512:\t\t 9b71d224bd62f3785d96d46ad3ea3d73319bfbc2890caadae2dff72519673ca72323c3d99ba5c11d7c7acc6e14b8c5da0c4663475c2e5c3adef46f73bcdec043\n",
      "hmac-sha512:\t ff06ab36757777815c008d32c8e14a705b4e7bf310351a06a23b612dc4c7433e7757d20525a5593b71020ea2ee162d2311b247e9855862b270122419652c0c92\n"
     ]
    }
   ],
   "source": [
    "# sha functions from the card\n",
    "print(\"sha256:\\t\\t\", app.sha256(d).hex())\n",
    "print(\"hmac-sha256:\\t\", app.hmac_sha256(k, d).hex())\n",
    "print(\"sha512:\\t\\t\", app.sha512(d).hex())\n",
    "print(\"hmac-sha512:\\t\", app.hmac_sha512(k, d).hex())"
   ]
  },
  {
   "cell_type": "code",
   "execution_count": 6,
   "metadata": {},
   "outputs": [
    {
     "name": "stdout",
     "output_type": "stream",
     "text": [
      "sha256:\t\t 2cf24dba5fb0a30e26e83b2ac5b9e29e1b161e5c1fa7425e73043362938b9824\n",
      "hmac-sha256:\t 9307b3b915efb5171ff14d8cb55fbcc798c6c0ef1456d66ded1a6aa723a58b7b\n",
      "sha512:\t\t 9b71d224bd62f3785d96d46ad3ea3d73319bfbc2890caadae2dff72519673ca72323c3d99ba5c11d7c7acc6e14b8c5da0c4663475c2e5c3adef46f73bcdec043\n",
      "hmac-sha512:\t ff06ab36757777815c008d32c8e14a705b4e7bf310351a06a23b612dc4c7433e7757d20525a5593b71020ea2ee162d2311b247e9855862b270122419652c0c92\n"
     ]
    }
   ],
   "source": [
    "import hashlib, hmac\n",
    "# same using hashlib\n",
    "print(\"sha256:\\t\\t\",hashlib.sha256(d).digest().hex())\n",
    "print(\"hmac-sha256:\\t\",hmac.new(k, d, digestmod=hashlib.sha256).digest().hex())\n",
    "print(\"sha512:\\t\\t\",hashlib.sha512(d).digest().hex())\n",
    "print(\"hmac-sha512:\\t\",hmac.new(k, d, digestmod=hashlib.sha512).digest().hex())"
   ]
  },
  {
   "cell_type": "code",
   "execution_count": null,
   "metadata": {},
   "outputs": [],
   "source": []
  },
  {
   "cell_type": "code",
   "execution_count": 7,
   "metadata": {},
   "outputs": [],
   "source": [
    "FP = 2**256 - 2**32 - 977\n",
    "N = 0xFFFFFFFFFFFFFFFFFFFFFFFFFFFFFFFEBAAEDCE6AF48A03BBFD25E8CD0364141"
   ]
  },
  {
   "cell_type": "code",
   "execution_count": 8,
   "metadata": {},
   "outputs": [],
   "source": [
    "def to_bytes(n:int):\n",
    "    return n.to_bytes(32, 'big')"
   ]
  },
  {
   "cell_type": "code",
   "execution_count": 9,
   "metadata": {},
   "outputs": [
    {
     "name": "stdout",
     "output_type": "stream",
     "text": [
      "0\n",
      "1\n",
      "2\n",
      "3\n",
      "4\n",
      "5\n",
      "6\n",
      "7\n",
      "8\n",
      "9\n"
     ]
    }
   ],
   "source": [
    "# random check\n",
    "import random\n",
    "for i in range(10):\n",
    "    a = random.randint(1,N)\n",
    "    b = random.randint(1,N)\n",
    "    r = (a+b) % FP\n",
    "    rr = r.to_bytes(32, 'big').hex()\n",
    "    rc = app.add_mod_FP(to_bytes(a),to_bytes(b)).hex()\n",
    "    print(i)\n",
    "    if (rr!=rc):\n",
    "        print(to_bytes(a).hex())\n",
    "        print(to_bytes(b).hex())\n",
    "        print(rr)\n",
    "        print(rc)\n",
    "        raise RuntimeError(\"Meh\")"
   ]
  },
  {
   "cell_type": "code",
   "execution_count": 10,
   "metadata": {},
   "outputs": [
    {
     "name": "stdout",
     "output_type": "stream",
     "text": [
      "0\n",
      "1\n",
      "2\n",
      "3\n",
      "4\n"
     ]
    }
   ],
   "source": [
    "# edge cases - slightly less than mod, slightly more, equal and overflow\n",
    "a = FP-20\n",
    "for i, b in enumerate([10,23,20,10500, 1020203124]):\n",
    "    r = (a+b) % FP\n",
    "    rr = r.to_bytes(32, 'big').hex()\n",
    "    rc = app.add_mod_FP(to_bytes(a),to_bytes(b)).hex()\n",
    "    print(i)\n",
    "    if (rr!=rc):\n",
    "        print(to_bytes(a).hex())\n",
    "        print(to_bytes(b).hex())\n",
    "        print(rr)\n",
    "        print(rc)\n",
    "        raise RuntimeError(\"Meh\")"
   ]
  },
  {
   "cell_type": "code",
   "execution_count": null,
   "metadata": {},
   "outputs": [],
   "source": []
  },
  {
   "cell_type": "code",
   "execution_count": 11,
   "metadata": {},
   "outputs": [
    {
     "data": {
      "text/plain": [
       "'c37f2c6a6fbf3fba8acc1a215c4a8c7be9344f9a2df66ac39fd3e0f61a76b2f0005fc6fc26f47947fcb4a0c8df669cf985970807e4fd42d33a788008af3a53346d'"
      ]
     },
     "execution_count": 11,
     "metadata": {},
     "output_type": "execute_result"
    }
   ],
   "source": [
    "from embit import bip32, ec\n",
    "import os\n",
    "seed = os.urandom(64)\n",
    "root = bip32.HDKey.from_seed(seed)\n",
    "# without prefix, depth, root fingerprint and index\n",
    "root.serialize()[13:].hex()"
   ]
  },
  {
   "cell_type": "code",
   "execution_count": 12,
   "metadata": {},
   "outputs": [
    {
     "data": {
      "text/plain": [
       "'2b62bda2f6ac2082ad00b44eac546a71973c005c42c19404c6cce603bb60d51000b7b61abcb39e34f300f7ad23646a9ebc2c13de13385ac84ea1f2672d5ffce6ca'"
      ]
     },
     "execution_count": 12,
     "metadata": {},
     "output_type": "execute_result"
    }
   ],
   "source": [
    "res = root.child(10, hardened=False).serialize()[13:].hex()\n",
    "res"
   ]
  },
  {
   "cell_type": "code",
   "execution_count": 13,
   "metadata": {},
   "outputs": [
    {
     "data": {
      "text/plain": [
       "'2b62bda2f6ac2082ad00b44eac546a71973c005c42c19404c6cce603bb60d51000b7b61abcb39e34f300f7ad23646a9ebc2c13de13385ac84ea1f2672d5ffce6ca'"
      ]
     },
     "execution_count": 13,
     "metadata": {},
     "output_type": "execute_result"
    }
   ],
   "source": [
    "data = bytes([65])+root.serialize()[13:]+bytes([4,0x00,0,0,10])\n",
    "r = \"B0A90000\"+(bytes([len(data)])+data).hex().upper()\n",
    "res2 = app.request(r).hex()\n",
    "if res2!=res:\n",
    "    raise RuntimeError(\"Meh\")\n",
    "res2"
   ]
  },
  {
   "cell_type": "code",
   "execution_count": 14,
   "metadata": {},
   "outputs": [
    {
     "name": "stdout",
     "output_type": "stream",
     "text": [
      "043e135df75c7777225d1d0c85f1d0873e586870ce7366d2b9467a4c505a77e2e30de124097e55189b5f553d645097fa1341478afa4e4959863c57c25f3903233e\n",
      "041346f49a6e0a7e0a35eaf4314176d194ecd63a05ac985167357ca77ecafefb0a6635dd422d979077631efe8744c77b4476ce954f9c9288c495832769d303a8fa\n"
     ]
    }
   ],
   "source": [
    "# point addition\n",
    "p = root.to_public().key\n",
    "p.compressed = False\n",
    "print(p.sec().hex())\n",
    "pp = ec.PublicKey.parse(p.serialize())\n",
    "ec.secp256k1.ec_pubkey_tweak_add(pp._point, b'4'*32)\n",
    "res = pp.sec().hex()\n",
    "print(res)"
   ]
  },
  {
   "cell_type": "code",
   "execution_count": 15,
   "metadata": {},
   "outputs": [
    {
     "data": {
      "text/plain": [
       "'041346f49a6e0a7e0a35eaf4314176d194ecd63a05ac985167357ca77ecafefb0a6635dd422d979077631efe8744c77b4476ce954f9c9288c495832769d303a8fa'"
      ]
     },
     "execution_count": 15,
     "metadata": {},
     "output_type": "execute_result"
    }
   ],
   "source": [
    "data = bytes([32])+b'4'*32+bytes([65])+p.sec()\n",
    "r = \"B0A70000\"+(bytes([len(data)])+data).hex().upper()\n",
    "res2 = app.request(r).hex()\n",
    "if res2!=res:\n",
    "    raise RuntimeError(\"Meh\")\n",
    "res2"
   ]
  },
  {
   "cell_type": "code",
   "execution_count": 16,
   "metadata": {},
   "outputs": [
    {
     "data": {
      "text/plain": [
       "'04be61dcce19e885df5146248a7fb41ce036a18aa4a31296819a6546d1a745a212b73decfa08efb7f317785669191c4198ac8ae198d8dd941efe3ad1ebe5ce4892'"
      ]
     },
     "execution_count": 16,
     "metadata": {},
     "output_type": "execute_result"
    }
   ],
   "source": [
    "p3 = ec.PublicKey.parse(ec.secp256k1.ec_pubkey_serialize(ec.secp256k1.ec_pubkey_combine(p._point,pp._point)))\n",
    "p3.compressed = False\n",
    "res = p3.sec().hex()\n",
    "res"
   ]
  },
  {
   "cell_type": "code",
   "execution_count": 17,
   "metadata": {},
   "outputs": [
    {
     "data": {
      "text/plain": [
       "'04be61dcce19e885df5146248a7fb41ce036a18aa4a31296819a6546d1a745a212b73decfa08efb7f317785669191c4198ac8ae198d8dd941efe3ad1ebe5ce4892'"
      ]
     },
     "execution_count": 17,
     "metadata": {},
     "output_type": "execute_result"
    }
   ],
   "source": [
    "data = bytes([65])+pp.sec()+bytes([65])+p.sec()\n",
    "r = \"B0A80000\"+(bytes([len(data)])+data).hex().upper()\n",
    "res2 = app.request(r).hex()\n",
    "if res2!=res:\n",
    "    raise RuntimeError(\"Meh\")\n",
    "res2"
   ]
  },
  {
   "cell_type": "code",
   "execution_count": 18,
   "metadata": {},
   "outputs": [
    {
     "data": {
      "text/plain": [
       "'c37f2c6a6fbf3fba8acc1a215c4a8c7be9344f9a2df66ac39fd3e0f61a76b2f0023e135df75c7777225d1d0c85f1d0873e586870ce7366d2b9467a4c505a77e2e3'"
      ]
     },
     "execution_count": 18,
     "metadata": {},
     "output_type": "execute_result"
    }
   ],
   "source": [
    "xpub = root.to_public()\n",
    "xpub.serialize()[13:].hex()"
   ]
  },
  {
   "cell_type": "code",
   "execution_count": 19,
   "metadata": {},
   "outputs": [
    {
     "data": {
      "text/plain": [
       "'2b62bda2f6ac2082ad00b44eac546a71973c005c42c19404c6cce603bb60d510020faf3c13f7ce1c60fd6b04a4fe793b5ce0d1d8ae091e4520a6875ad24b82efa2'"
      ]
     },
     "execution_count": 19,
     "metadata": {},
     "output_type": "execute_result"
    }
   ],
   "source": [
    "res=xpub.child(10, hardened=False).serialize()[13:].hex()\n",
    "res"
   ]
  },
  {
   "cell_type": "code",
   "execution_count": 20,
   "metadata": {},
   "outputs": [
    {
     "data": {
      "text/plain": [
       "'2b62bda2f6ac2082ad00b44eac546a71973c005c42c19404c6cce603bb60d510020faf3c13f7ce1c60fd6b04a4fe793b5ce0d1d8ae091e4520a6875ad24b82efa2'"
      ]
     },
     "execution_count": 20,
     "metadata": {},
     "output_type": "execute_result"
    }
   ],
   "source": [
    "data = bytes([65])+xpub.serialize()[13:]+bytes([4,0x00,0,0,10])\n",
    "r = \"B0AA0000\"+(bytes([len(data)])+data).hex().upper()\n",
    "res2=app.request(r).hex()\n",
    "if res2!=res:\n",
    "    raise RuntimeError(\"Meh\",res2)\n",
    "res2"
   ]
  },
  {
   "cell_type": "code",
   "execution_count": null,
   "metadata": {},
   "outputs": [],
   "source": []
  },
  {
   "cell_type": "code",
   "execution_count": 21,
   "metadata": {},
   "outputs": [
    {
     "name": "stdout",
     "output_type": "stream",
     "text": [
      "82218bfe339fa8a349423df85eaf89728b4e7dc02360e8c6feec346a8e46232db544f6f2d2fff1430e53f76c0adafd9a2087652b7b943fdc07c0cff4c74252e2\n",
      "038c39d10762fd77de3a035e2c8c7ba4410f07f8251a28b1d670649abc256e810afb12e6c7e4b3e976fc1be1a387c345b282c9127f02b23862c16859bde9ff7f\n"
     ]
    }
   ],
   "source": [
    "import hashlib\n",
    "print(hashlib.pbkdf2_hmac('sha512', b'pwd', b'salt', 2048, 64).hex())\n",
    "print(hashlib.pbkdf2_hmac('sha512', b'pwd', b'salt', 100, 64).hex())"
   ]
  },
  {
   "cell_type": "code",
   "execution_count": 22,
   "metadata": {},
   "outputs": [
    {
     "data": {
      "text/plain": [
       "1586798631.152561"
      ]
     },
     "execution_count": 22,
     "metadata": {},
     "output_type": "execute_result"
    }
   ],
   "source": [
    "import time\n",
    "time.time()"
   ]
  },
  {
   "cell_type": "code",
   "execution_count": 23,
   "metadata": {},
   "outputs": [
    {
     "name": "stdout",
     "output_type": "stream",
     "text": [
      "038c39d10762fd77de3a035e2c8c7ba4410f07f8251a28b1d670649abc256e810afb12e6c7e4b3e976fc1be1a387c345b282c9127f02b23862c16859bde9ff7f\n",
      "3.285496950149536 seconds for 100 iterations.\n",
      "For 2048 iterations it will be 67.2869775390625 seconds\n"
     ]
    }
   ],
   "source": [
    "t0 = time.time()\n",
    "# 2048 iterations -> 0x8000\n",
    "iterations = 100\n",
    "data = bytes([2])+iterations.to_bytes(2,'big')+bytes([3])+b'pwd'+bytes([4])+b'salt'\n",
    "r = \"B0A00000\"+(bytes([len(data)])+data).hex().upper()\n",
    "# print(r)\n",
    "print(app.request(r).hex())\n",
    "dt = time.time()-t0\n",
    "print(f\"{dt} seconds for {iterations} iterations.\\nFor 2048 iterations it will be {dt*2048/iterations} seconds\")"
   ]
  },
  {
   "cell_type": "code",
   "execution_count": null,
   "metadata": {},
   "outputs": [],
   "source": []
  },
  {
   "cell_type": "code",
   "execution_count": 24,
   "metadata": {},
   "outputs": [
    {
     "data": {
      "text/plain": [
       "'48d7086d5b10b8ef1b7f1e293b64e273ee4cdb551c1ec28e07d88a4996388ece'"
      ]
     },
     "execution_count": 24,
     "metadata": {},
     "output_type": "execute_result"
    }
   ],
   "source": [
    "import os\n",
    "a = os.urandom(32)\n",
    "pow(int.from_bytes(a,'big'),2,FP).to_bytes(32,'big').hex()"
   ]
  },
  {
   "cell_type": "code",
   "execution_count": 25,
   "metadata": {},
   "outputs": [
    {
     "name": "stdout",
     "output_type": "stream",
     "text": [
      "48d7086d5b10b8ef1b7f1e293b64e273ee4cdb551c1ec28e07d88a4996388ece\n"
     ]
    }
   ],
   "source": [
    "data = bytes([32])+a\n",
    "r = \"B0AB0000\"+(bytes([len(data)])+data).hex().upper()\n",
    "# print(r)\n",
    "print(app.request(r).hex())\n"
   ]
  },
  {
   "cell_type": "code",
   "execution_count": 26,
   "metadata": {},
   "outputs": [
    {
     "data": {
      "text/plain": [
       "'6c7999808f4f754ed0134427619d9c53c66254817461ead3d96ef1b2109930c1'"
      ]
     },
     "execution_count": 26,
     "metadata": {},
     "output_type": "execute_result"
    }
   ],
   "source": [
    "pow(int.from_bytes(a,'big'),3,FP).to_bytes(32,'big').hex()"
   ]
  },
  {
   "cell_type": "code",
   "execution_count": 27,
   "metadata": {},
   "outputs": [
    {
     "name": "stdout",
     "output_type": "stream",
     "text": [
      "6c7999808f4f754ed0134427619d9c53c66254817461ead3d96ef1b2109930c1\n"
     ]
    }
   ],
   "source": [
    "data = bytes([32])+a\n",
    "r = \"B0AC0000\"+(bytes([len(data)])+data).hex().upper()\n",
    "# print(r)\n",
    "print(app.request(r).hex())"
   ]
  },
  {
   "cell_type": "code",
   "execution_count": 28,
   "metadata": {},
   "outputs": [
    {
     "data": {
      "text/plain": [
       "'0519f16e777f4b5e2655de301420ef2198e8fd9fcc8b796dadf44b4011478f13'"
      ]
     },
     "execution_count": 28,
     "metadata": {},
     "output_type": "execute_result"
    }
   ],
   "source": [
    "pow(int.from_bytes(a,'big'),FP-2,FP).to_bytes(32,'big').hex()"
   ]
  },
  {
   "cell_type": "code",
   "execution_count": 29,
   "metadata": {},
   "outputs": [
    {
     "name": "stdout",
     "output_type": "stream",
     "text": [
      "0519f16e777f4b5e2655de301420ef2198e8fd9fcc8b796dadf44b4011478f13\n"
     ]
    }
   ],
   "source": [
    "data = bytes([32])+a\n",
    "r = \"B0AD0000\"+(bytes([len(data)])+data).hex().upper()\n",
    "# print(r)\n",
    "print(app.request(r).hex())"
   ]
  },
  {
   "cell_type": "code",
   "execution_count": 30,
   "metadata": {},
   "outputs": [
    {
     "data": {
      "text/plain": [
       "'3e2402069b3dc34243b14c057b241fb93b5bab724bb431dd2f39556caf92a408'"
      ]
     },
     "execution_count": 30,
     "metadata": {},
     "output_type": "execute_result"
    }
   ],
   "source": [
    "pow(int.from_bytes(a,'big'),2,N).to_bytes(32,'big').hex()"
   ]
  },
  {
   "cell_type": "code",
   "execution_count": 31,
   "metadata": {},
   "outputs": [
    {
     "name": "stdout",
     "output_type": "stream",
     "text": [
      "3e2402069b3dc34243b14c057b241fb93b5bab724bb431dd2f39556caf92a408\n"
     ]
    }
   ],
   "source": [
    "data = bytes([32])+a\n",
    "r = \"B0AE0000\"+(bytes([len(data)])+data).hex().upper()\n",
    "# print(r)\n",
    "print(app.request(r).hex())\n"
   ]
  },
  {
   "cell_type": "code",
   "execution_count": 32,
   "metadata": {},
   "outputs": [
    {
     "data": {
      "text/plain": [
       "'3cd18b68b7ab968510c359260f30c714b420323366b20cc5387a0d32e971c3bf'"
      ]
     },
     "execution_count": 32,
     "metadata": {},
     "output_type": "execute_result"
    }
   ],
   "source": [
    "pow(int.from_bytes(a,'big'),3,N).to_bytes(32,'big').hex()"
   ]
  },
  {
   "cell_type": "code",
   "execution_count": 33,
   "metadata": {},
   "outputs": [
    {
     "name": "stdout",
     "output_type": "stream",
     "text": [
      "3cd18b68b7ab968510c359260f30c714b420323366b20cc5387a0d32e971c3bf\n"
     ]
    }
   ],
   "source": [
    "data = bytes([32])+a\n",
    "r = \"B0AF0000\"+(bytes([len(data)])+data).hex().upper()\n",
    "# print(r)\n",
    "print(app.request(r).hex())\n"
   ]
  },
  {
   "cell_type": "code",
   "execution_count": 34,
   "metadata": {},
   "outputs": [
    {
     "data": {
      "text/plain": [
       "'9e28897c00d2148d41e5e97ad66f07b86e099d1fe528e3699e4531aa1c8bea46'"
      ]
     },
     "execution_count": 34,
     "metadata": {},
     "output_type": "execute_result"
    }
   ],
   "source": [
    "pow(int.from_bytes(a,'big'),N-2,N).to_bytes(32,'big').hex()"
   ]
  },
  {
   "cell_type": "code",
   "execution_count": 35,
   "metadata": {},
   "outputs": [
    {
     "name": "stdout",
     "output_type": "stream",
     "text": [
      "9e28897c00d2148d41e5e97ad66f07b86e099d1fe528e3699e4531aa1c8bea46\n"
     ]
    }
   ],
   "source": [
    "data = bytes([32])+a\n",
    "r = \"B0B00000\"+(bytes([len(data)])+data).hex().upper()\n",
    "# print(r)\n",
    "print(app.request(r).hex())\n"
   ]
  },
  {
   "cell_type": "code",
   "execution_count": null,
   "metadata": {},
   "outputs": [],
   "source": []
  },
  {
   "cell_type": "code",
   "execution_count": 36,
   "metadata": {},
   "outputs": [
    {
     "data": {
      "text/plain": [
       "'047cf95ef9bec9fefe9c4b594c1af76842edb150d3aaa0dcf83ff47fc95e6204fd2824ab17874f80e5f2ed02713b76ee3c4ab4c5eaaadcb1e0494faea3e77bebf7'"
      ]
     },
     "execution_count": 36,
     "metadata": {},
     "output_type": "execute_result"
    }
   ],
   "source": [
    "pub = ec.PrivateKey(os.urandom(32)).get_public_key()\n",
    "sec = pub.sec()\n",
    "pub.compressed=False\n",
    "sec_unc = pub.sec()\n",
    "sec_unc.hex()"
   ]
  },
  {
   "cell_type": "code",
   "execution_count": 37,
   "metadata": {},
   "outputs": [
    {
     "name": "stdout",
     "output_type": "stream",
     "text": [
      "037cf95ef9bec9fefe9c4b594c1af76842edb150d3aaa0dcf83ff47fc95e6204fd\n"
     ]
    },
    {
     "data": {
      "text/plain": [
       "True"
      ]
     },
     "execution_count": 37,
     "metadata": {},
     "output_type": "execute_result"
    }
   ],
   "source": [
    "data = bytes([65])+sec_unc\n",
    "r = \"B0B10000\"+(bytes([len(data)])+data).hex().upper()\n",
    "# print(r)\n",
    "res = app.request(r)\n",
    "print(res.hex())\n",
    "res == sec"
   ]
  },
  {
   "cell_type": "code",
   "execution_count": 38,
   "metadata": {},
   "outputs": [
    {
     "name": "stdout",
     "output_type": "stream",
     "text": [
      "047cf95ef9bec9fefe9c4b594c1af76842edb150d3aaa0dcf83ff47fc95e6204fd2824ab17874f80e5f2ed02713b76ee3c4ab4c5eaaadcb1e0494faea3e77bebf7\n"
     ]
    },
    {
     "data": {
      "text/plain": [
       "True"
      ]
     },
     "execution_count": 38,
     "metadata": {},
     "output_type": "execute_result"
    }
   ],
   "source": [
    "data = bytes([33])+sec\n",
    "r = \"B0B20000\"+(bytes([len(data)])+data).hex().upper()\n",
    "# print(r)\n",
    "res = app.request(r)\n",
    "print(res.hex())\n",
    "res == sec_unc"
   ]
  },
  {
   "cell_type": "code",
   "execution_count": 39,
   "metadata": {},
   "outputs": [],
   "source": [
    "connection.disconnect()"
   ]
  },
  {
   "cell_type": "code",
   "execution_count": null,
   "metadata": {},
   "outputs": [],
   "source": []
  }
 ],
 "metadata": {
  "kernelspec": {
   "display_name": "Python 3",
   "language": "python",
   "name": "python3"
  },
  "language_info": {
   "codemirror_mode": {
    "name": "ipython",
    "version": 3
   },
   "file_extension": ".py",
   "mimetype": "text/x-python",
   "name": "python",
   "nbconvert_exporter": "python",
   "pygments_lexer": "ipython3",
   "version": "3.7.6"
  }
 },
 "nbformat": 4,
 "nbformat_minor": 2
}
