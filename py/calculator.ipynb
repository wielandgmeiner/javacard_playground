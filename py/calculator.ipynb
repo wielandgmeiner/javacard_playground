{
 "cells": [
  {
   "cell_type": "markdown",
   "metadata": {},
   "source": [
    "# Calculator Applet\n",
    "\n",
    "Demo that does various calculations - sha, hmac, pbkdf, field math, elliptic curve math"
   ]
  },
  {
   "cell_type": "code",
   "execution_count": 1,
   "metadata": {},
   "outputs": [],
   "source": [
    "from applets.helpers import get_connection, AppletBase\n",
    "\n",
    "class Calculator(AppletBase):\n",
    "    def __init__(self, connection=None):\n",
    "        super().__init__(\"B00B5111CC01\", connection)\n",
    "\n",
    "    def sha256(self, d):\n",
    "        data = bytes([len(d)])+d\n",
    "        r = \"B0A10000\"+(bytes([len(data)])+data).hex().upper()\n",
    "        return self.request(r)\n",
    "    \n",
    "    def hmac_sha256(self, k, d):\n",
    "        data = bytes([len(k)])+k+bytes([len(d)])+d\n",
    "        r = \"B0A20000\"+(bytes([len(data)])+data).hex().upper()\n",
    "        return self.request(r)\n",
    "    \n",
    "    def sha512(self, d):\n",
    "        data = bytes([len(d)])+d\n",
    "        r = \"B0A30000\"+(bytes([len(data)])+data).hex().upper()\n",
    "        return self.request(r)\n",
    "    \n",
    "    def hmac_sha512(self, k, d):\n",
    "        data = bytes([len(k)])+k+bytes([len(d)])+d\n",
    "        r = \"B0A40000\"+(bytes([len(data)])+data).hex().upper()\n",
    "        return self.request(r)\n",
    "\n",
    "    def add_mod_FP(self, a, b):\n",
    "        data = bytes([len(a)])+a+bytes([len(b)])+b\n",
    "        r = \"B0A50000\"+(bytes([len(data)])+data).hex().upper()\n",
    "        return self.request(r)\n",
    "    \n",
    "    def add_mod_N(self, a, b):\n",
    "        data = bytes([len(a)])+a+bytes([len(b)])+b\n",
    "        r = \"B0A60000\"+(bytes([len(data)])+data).hex().upper()\n",
    "        return self.request(r)"
   ]
  },
  {
   "cell_type": "code",
   "execution_count": 2,
   "metadata": {},
   "outputs": [
    {
     "name": "stdout",
     "output_type": "stream",
     "text": [
      "3bdc18ff8191fe1fc38073c821136605036351000250\n"
     ]
    }
   ],
   "source": [
    "connection = get_connection()\n",
    "if connection is not None:\n",
    "    atr=bytes(connection.getATR())\n",
    "    print(atr.hex())\n",
    "else:\n",
    "    print(\"Failed to open a connection. No cardreaders?\")"
   ]
  },
  {
   "cell_type": "code",
   "execution_count": 3,
   "metadata": {},
   "outputs": [
    {
     "data": {
      "text/plain": [
       "b''"
      ]
     },
     "execution_count": 3,
     "metadata": {},
     "output_type": "execute_result"
    }
   ],
   "source": [
    "app = Calculator(connection)\n",
    "app.select()"
   ]
  },
  {
   "cell_type": "code",
   "execution_count": 4,
   "metadata": {},
   "outputs": [],
   "source": [
    "d = b'hello'\n",
    "k = b'key'"
   ]
  },
  {
   "cell_type": "code",
   "execution_count": 5,
   "metadata": {},
   "outputs": [
    {
     "name": "stdout",
     "output_type": "stream",
     "text": [
      "sha256:\t\t 2cf24dba5fb0a30e26e83b2ac5b9e29e1b161e5c1fa7425e73043362938b9824\n",
      "hmac-sha256:\t 9307b3b915efb5171ff14d8cb55fbcc798c6c0ef1456d66ded1a6aa723a58b7b\n",
      "sha512:\t\t 9b71d224bd62f3785d96d46ad3ea3d73319bfbc2890caadae2dff72519673ca72323c3d99ba5c11d7c7acc6e14b8c5da0c4663475c2e5c3adef46f73bcdec043\n",
      "hmac-sha512:\t ff06ab36757777815c008d32c8e14a705b4e7bf310351a06a23b612dc4c7433e7757d20525a5593b71020ea2ee162d2311b247e9855862b270122419652c0c92\n"
     ]
    }
   ],
   "source": [
    "# sha functions from the card\n",
    "print(\"sha256:\\t\\t\", app.sha256(d).hex())\n",
    "print(\"hmac-sha256:\\t\", app.hmac_sha256(k, d).hex())\n",
    "print(\"sha512:\\t\\t\", app.sha512(d).hex())\n",
    "print(\"hmac-sha512:\\t\", app.hmac_sha512(k, d).hex())"
   ]
  },
  {
   "cell_type": "code",
   "execution_count": 6,
   "metadata": {},
   "outputs": [
    {
     "name": "stdout",
     "output_type": "stream",
     "text": [
      "sha256:\t\t 2cf24dba5fb0a30e26e83b2ac5b9e29e1b161e5c1fa7425e73043362938b9824\n",
      "hmac-sha256:\t 9307b3b915efb5171ff14d8cb55fbcc798c6c0ef1456d66ded1a6aa723a58b7b\n",
      "sha512:\t\t 9b71d224bd62f3785d96d46ad3ea3d73319bfbc2890caadae2dff72519673ca72323c3d99ba5c11d7c7acc6e14b8c5da0c4663475c2e5c3adef46f73bcdec043\n",
      "hmac-sha512:\t ff06ab36757777815c008d32c8e14a705b4e7bf310351a06a23b612dc4c7433e7757d20525a5593b71020ea2ee162d2311b247e9855862b270122419652c0c92\n"
     ]
    }
   ],
   "source": [
    "import hashlib, hmac\n",
    "# same using hashlib\n",
    "print(\"sha256:\\t\\t\",hashlib.sha256(d).digest().hex())\n",
    "print(\"hmac-sha256:\\t\",hmac.new(k, d, digestmod=hashlib.sha256).digest().hex())\n",
    "print(\"sha512:\\t\\t\",hashlib.sha512(d).digest().hex())\n",
    "print(\"hmac-sha512:\\t\",hmac.new(k, d, digestmod=hashlib.sha512).digest().hex())"
   ]
  },
  {
   "cell_type": "code",
   "execution_count": null,
   "metadata": {},
   "outputs": [],
   "source": []
  },
  {
   "cell_type": "code",
   "execution_count": 7,
   "metadata": {},
   "outputs": [],
   "source": [
    "FP = 2**256 - 2**32 - 977\n",
    "N = 0xFFFFFFFFFFFFFFFFFFFFFFFFFFFFFFFEBAAEDCE6AF48A03BBFD25E8CD0364141"
   ]
  },
  {
   "cell_type": "code",
   "execution_count": 8,
   "metadata": {},
   "outputs": [],
   "source": [
    "def to_bytes(n:int):\n",
    "    return n.to_bytes(32, 'big')"
   ]
  },
  {
   "cell_type": "code",
   "execution_count": 9,
   "metadata": {},
   "outputs": [
    {
     "name": "stdout",
     "output_type": "stream",
     "text": [
      "0\n",
      "1\n",
      "2\n",
      "3\n",
      "4\n",
      "5\n",
      "6\n",
      "7\n",
      "8\n",
      "9\n"
     ]
    }
   ],
   "source": [
    "# random check\n",
    "import random\n",
    "for i in range(10):\n",
    "    a = random.randint(1,N)\n",
    "    b = random.randint(1,N)\n",
    "    r = (a+b) % FP\n",
    "    rr = r.to_bytes(32, 'big').hex()\n",
    "    rc = app.add_mod_FP(to_bytes(a),to_bytes(b)).hex()\n",
    "    print(i)\n",
    "    if (rr!=rc):\n",
    "        print(to_bytes(a).hex())\n",
    "        print(to_bytes(b).hex())\n",
    "        print(rr)\n",
    "        print(rc)\n",
    "        raise RuntimeError(\"Meh\")"
   ]
  },
  {
   "cell_type": "code",
   "execution_count": 10,
   "metadata": {},
   "outputs": [
    {
     "name": "stdout",
     "output_type": "stream",
     "text": [
      "0\n",
      "1\n",
      "2\n",
      "3\n",
      "4\n"
     ]
    }
   ],
   "source": [
    "# edge cases - slightly less than mod, slightly more, equal and overflow\n",
    "a = FP-20\n",
    "for i, b in enumerate([10,23,20,10500, 1020203124]):\n",
    "    r = (a+b) % FP\n",
    "    rr = r.to_bytes(32, 'big').hex()\n",
    "    rc = app.add_mod_FP(to_bytes(a),to_bytes(b)).hex()\n",
    "    print(i)\n",
    "    if (rr!=rc):\n",
    "        print(to_bytes(a).hex())\n",
    "        print(to_bytes(b).hex())\n",
    "        print(rr)\n",
    "        print(rc)\n",
    "        raise RuntimeError(\"Meh\")"
   ]
  },
  {
   "cell_type": "code",
   "execution_count": null,
   "metadata": {},
   "outputs": [],
   "source": []
  },
  {
   "cell_type": "code",
   "execution_count": 11,
   "metadata": {},
   "outputs": [
    {
     "data": {
      "text/plain": [
       "'3aade779beb3befcec4b31b814cacccc94439133d762efc2df7c6ff49bff8a3300fe3c9db927ae4aba9cb38c696dc572690d7e3229f98163e5f35c64ff9c13bbb3'"
      ]
     },
     "execution_count": 11,
     "metadata": {},
     "output_type": "execute_result"
    }
   ],
   "source": [
    "from embit import bip32, ec\n",
    "import os\n",
    "seed = os.urandom(64)\n",
    "root = bip32.HDKey.from_seed(seed)\n",
    "# without prefix, depth, root fingerprint and index\n",
    "root.serialize()[13:].hex()"
   ]
  },
  {
   "cell_type": "code",
   "execution_count": 12,
   "metadata": {},
   "outputs": [
    {
     "data": {
      "text/plain": [
       "'14e7c8ea8d7182bf76a75dec6f4a40e596252ca78221f9d86652348e95aa05480056e9b693be71f39ba59f2654457b4c828da85e8785c9a5ebb452af192c1713c0'"
      ]
     },
     "execution_count": 12,
     "metadata": {},
     "output_type": "execute_result"
    }
   ],
   "source": [
    "res = root.child(10, hardened=False).serialize()[13:].hex()\n",
    "res"
   ]
  },
  {
   "cell_type": "code",
   "execution_count": 13,
   "metadata": {},
   "outputs": [
    {
     "data": {
      "text/plain": [
       "'14e7c8ea8d7182bf76a75dec6f4a40e596252ca78221f9d86652348e95aa05480056e9b693be71f39ba59f2654457b4c828da85e8785c9a5ebb452af192c1713c0'"
      ]
     },
     "execution_count": 13,
     "metadata": {},
     "output_type": "execute_result"
    }
   ],
   "source": [
    "data = bytes([65])+root.serialize()[13:]+bytes([4,0x00,0,0,10])\n",
    "r = \"B0A90000\"+(bytes([len(data)])+data).hex().upper()\n",
    "res2 = app.request(r).hex()\n",
    "if res2!=res:\n",
    "    raise RuntimeError(\"Meh\")\n",
    "res2"
   ]
  },
  {
   "cell_type": "code",
   "execution_count": 14,
   "metadata": {},
   "outputs": [
    {
     "name": "stdout",
     "output_type": "stream",
     "text": [
      "04cfe79e2d251f371d488bfa038bf509223001244c060b56d03c43f464f0cf4d49d6a5fd144771082110c8106031ddb763793e99fddee16a616fa4adbc0442f4bb\n",
      "04094d3886f993ba2dc5fe90c9f5effb15e436503747cdf3e202d5616cdd8c8a057f286e721f25673edce59788b57f9b7f364e5b6a7d051348b608a5cd763e5e94\n"
     ]
    }
   ],
   "source": [
    "# point addition\n",
    "p = root.to_public().key\n",
    "p.compressed = False\n",
    "print(p.sec().hex())\n",
    "pp = ec.PublicKey.parse(p.serialize())\n",
    "ec.secp256k1.ec_pubkey_tweak_add(pp._point, b'4'*32)\n",
    "res = pp.sec().hex()\n",
    "print(res)"
   ]
  },
  {
   "cell_type": "code",
   "execution_count": 15,
   "metadata": {},
   "outputs": [
    {
     "data": {
      "text/plain": [
       "'04094d3886f993ba2dc5fe90c9f5effb15e436503747cdf3e202d5616cdd8c8a057f286e721f25673edce59788b57f9b7f364e5b6a7d051348b608a5cd763e5e94'"
      ]
     },
     "execution_count": 15,
     "metadata": {},
     "output_type": "execute_result"
    }
   ],
   "source": [
    "data = bytes([32])+b'4'*32+bytes([65])+p.sec()\n",
    "r = \"B0A70000\"+(bytes([len(data)])+data).hex().upper()\n",
    "res2 = app.request(r).hex()\n",
    "if res2!=res:\n",
    "    raise RuntimeError(\"Meh\")\n",
    "res2"
   ]
  },
  {
   "cell_type": "code",
   "execution_count": 16,
   "metadata": {},
   "outputs": [
    {
     "data": {
      "text/plain": [
       "'04ed5f5c06736ef6463f214c56fc437c7f2f88674bff2a4ce62cc680d87a8ce5dd2354748c33c10b8405f221c56a187ee3bb4ae22949121103b908304f9436b1a6'"
      ]
     },
     "execution_count": 16,
     "metadata": {},
     "output_type": "execute_result"
    }
   ],
   "source": [
    "p3 = ec.PublicKey.parse(ec.secp256k1.ec_pubkey_serialize(ec.secp256k1.ec_pubkey_combine(p._point,pp._point)))\n",
    "p3.compressed = False\n",
    "res = p3.sec().hex()\n",
    "res"
   ]
  },
  {
   "cell_type": "code",
   "execution_count": 17,
   "metadata": {},
   "outputs": [
    {
     "data": {
      "text/plain": [
       "'04ed5f5c06736ef6463f214c56fc437c7f2f88674bff2a4ce62cc680d87a8ce5dd2354748c33c10b8405f221c56a187ee3bb4ae22949121103b908304f9436b1a6'"
      ]
     },
     "execution_count": 17,
     "metadata": {},
     "output_type": "execute_result"
    }
   ],
   "source": [
    "data = bytes([65])+pp.sec()+bytes([65])+p.sec()\n",
    "r = \"B0A80000\"+(bytes([len(data)])+data).hex().upper()\n",
    "res2 = app.request(r).hex()\n",
    "if res2!=res:\n",
    "    raise RuntimeError(\"Meh\")\n",
    "res2"
   ]
  },
  {
   "cell_type": "code",
   "execution_count": 18,
   "metadata": {},
   "outputs": [
    {
     "data": {
      "text/plain": [
       "'3aade779beb3befcec4b31b814cacccc94439133d762efc2df7c6ff49bff8a3303cfe79e2d251f371d488bfa038bf509223001244c060b56d03c43f464f0cf4d49'"
      ]
     },
     "execution_count": 18,
     "metadata": {},
     "output_type": "execute_result"
    }
   ],
   "source": [
    "xpub = root.to_public()\n",
    "xpub.serialize()[13:].hex()"
   ]
  },
  {
   "cell_type": "code",
   "execution_count": 19,
   "metadata": {},
   "outputs": [
    {
     "data": {
      "text/plain": [
       "'14e7c8ea8d7182bf76a75dec6f4a40e596252ca78221f9d86652348e95aa054802dc696a619ee02543161d1457611181c80dbc6c809eb06e281679eb424fabbfcf'"
      ]
     },
     "execution_count": 19,
     "metadata": {},
     "output_type": "execute_result"
    }
   ],
   "source": [
    "res=xpub.child(10, hardened=False).serialize()[13:].hex()\n",
    "res"
   ]
  },
  {
   "cell_type": "code",
   "execution_count": 20,
   "metadata": {},
   "outputs": [
    {
     "data": {
      "text/plain": [
       "'14e7c8ea8d7182bf76a75dec6f4a40e596252ca78221f9d86652348e95aa054802dc696a619ee02543161d1457611181c80dbc6c809eb06e281679eb424fabbfcf'"
      ]
     },
     "execution_count": 20,
     "metadata": {},
     "output_type": "execute_result"
    }
   ],
   "source": [
    "data = bytes([65])+xpub.serialize()[13:]+bytes([4,0x00,0,0,10])\n",
    "r = \"B0AA0000\"+(bytes([len(data)])+data).hex().upper()\n",
    "res2=app.request(r).hex()\n",
    "if res2!=res:\n",
    "    raise RuntimeError(\"Meh\",res2)\n",
    "res2"
   ]
  },
  {
   "cell_type": "code",
   "execution_count": null,
   "metadata": {},
   "outputs": [],
   "source": []
  },
  {
   "cell_type": "code",
   "execution_count": 21,
   "metadata": {},
   "outputs": [
    {
     "name": "stdout",
     "output_type": "stream",
     "text": [
      "82218bfe339fa8a349423df85eaf89728b4e7dc02360e8c6feec346a8e46232db544f6f2d2fff1430e53f76c0adafd9a2087652b7b943fdc07c0cff4c74252e2\n",
      "038c39d10762fd77de3a035e2c8c7ba4410f07f8251a28b1d670649abc256e810afb12e6c7e4b3e976fc1be1a387c345b282c9127f02b23862c16859bde9ff7f\n"
     ]
    }
   ],
   "source": [
    "import hashlib\n",
    "print(hashlib.pbkdf2_hmac('sha512', b'pwd', b'salt', 2048, 64).hex())\n",
    "print(hashlib.pbkdf2_hmac('sha512', b'pwd', b'salt', 100, 64).hex())"
   ]
  },
  {
   "cell_type": "code",
   "execution_count": 22,
   "metadata": {},
   "outputs": [
    {
     "data": {
      "text/plain": [
       "1586742773.019443"
      ]
     },
     "execution_count": 22,
     "metadata": {},
     "output_type": "execute_result"
    }
   ],
   "source": [
    "import time\n",
    "time.time()"
   ]
  },
  {
   "cell_type": "code",
   "execution_count": 23,
   "metadata": {},
   "outputs": [
    {
     "name": "stdout",
     "output_type": "stream",
     "text": [
      "038c39d10762fd77de3a035e2c8c7ba4410f07f8251a28b1d670649abc256e810afb12e6c7e4b3e976fc1be1a387c345b282c9127f02b23862c16859bde9ff7f\n",
      "3.2807018756866455 seconds for 100 iterations.\n",
      "For 2048 iterations it will be 67.1887744140625 seconds\n"
     ]
    }
   ],
   "source": [
    "t0 = time.time()\n",
    "# 2048 iterations -> 0x8000\n",
    "iterations = 100\n",
    "data = bytes([2])+iterations.to_bytes(2,'big')+bytes([3])+b'pwd'+bytes([4])+b'salt'\n",
    "r = \"B0A00000\"+(bytes([len(data)])+data).hex().upper()\n",
    "# print(r)\n",
    "print(app.request(r).hex())\n",
    "dt = time.time()-t0\n",
    "print(f\"{dt} seconds for {iterations} iterations.\\nFor 2048 iterations it will be {dt*2048/iterations} seconds\")"
   ]
  },
  {
   "cell_type": "code",
   "execution_count": null,
   "metadata": {},
   "outputs": [],
   "source": []
  },
  {
   "cell_type": "code",
   "execution_count": 24,
   "metadata": {},
   "outputs": [
    {
     "data": {
      "text/plain": [
       "'738580a04282bfa066ebe55ae7fb8130ce5b30ac5f6a5ed836cd5067c8dffb39'"
      ]
     },
     "execution_count": 24,
     "metadata": {},
     "output_type": "execute_result"
    }
   ],
   "source": [
    "import os\n",
    "a = os.urandom(32)\n",
    "pow(int.from_bytes(a,'big'),2,FP).to_bytes(32,'big').hex()"
   ]
  },
  {
   "cell_type": "code",
   "execution_count": 25,
   "metadata": {},
   "outputs": [
    {
     "name": "stdout",
     "output_type": "stream",
     "text": [
      "738580a04282bfa066ebe55ae7fb8130ce5b30ac5f6a5ed836cd5067c8dffb39\n"
     ]
    }
   ],
   "source": [
    "data = bytes([32])+a\n",
    "r = \"B0AB0000\"+(bytes([len(data)])+data).hex().upper()\n",
    "# print(r)\n",
    "print(app.request(r).hex())\n"
   ]
  },
  {
   "cell_type": "code",
   "execution_count": 26,
   "metadata": {},
   "outputs": [
    {
     "data": {
      "text/plain": [
       "'282f79cbbb62d09f9deced2d1b60d4c57d7b0ac1224e36b36cce44764dad437e'"
      ]
     },
     "execution_count": 26,
     "metadata": {},
     "output_type": "execute_result"
    }
   ],
   "source": [
    "pow(int.from_bytes(a,'big'),3,FP).to_bytes(32,'big').hex()"
   ]
  },
  {
   "cell_type": "code",
   "execution_count": 27,
   "metadata": {},
   "outputs": [
    {
     "name": "stdout",
     "output_type": "stream",
     "text": [
      "282f79cbbb62d09f9deced2d1b60d4c57d7b0ac1224e36b36cce44764dad437e\n"
     ]
    }
   ],
   "source": [
    "data = bytes([32])+a\n",
    "r = \"B0AC0000\"+(bytes([len(data)])+data).hex().upper()\n",
    "# print(r)\n",
    "print(app.request(r).hex())"
   ]
  },
  {
   "cell_type": "code",
   "execution_count": 28,
   "metadata": {},
   "outputs": [
    {
     "data": {
      "text/plain": [
       "'cba71ef1c2296ffb49aba3a82d01fd4ea1dc3f2d42fb8f7ead37a6f2f7385e23'"
      ]
     },
     "execution_count": 28,
     "metadata": {},
     "output_type": "execute_result"
    }
   ],
   "source": [
    "pow(int.from_bytes(a,'big'),FP-2,FP).to_bytes(32,'big').hex()"
   ]
  },
  {
   "cell_type": "code",
   "execution_count": 29,
   "metadata": {},
   "outputs": [
    {
     "name": "stdout",
     "output_type": "stream",
     "text": [
      "cba71ef1c2296ffb49aba3a82d01fd4ea1dc3f2d42fb8f7ead37a6f2f7385e23\n"
     ]
    }
   ],
   "source": [
    "data = bytes([32])+a\n",
    "r = \"B0AD0000\"+(bytes([len(data)])+data).hex().upper()\n",
    "# print(r)\n",
    "print(app.request(r).hex())"
   ]
  },
  {
   "cell_type": "code",
   "execution_count": 30,
   "metadata": {},
   "outputs": [
    {
     "data": {
      "text/plain": [
       "'8ac8693f9ebed7ba82257263fb589ec80951cbf37e9a73940933563609f1f03a'"
      ]
     },
     "execution_count": 30,
     "metadata": {},
     "output_type": "execute_result"
    }
   ],
   "source": [
    "pow(int.from_bytes(a,'big'),2,N).to_bytes(32,'big').hex()"
   ]
  },
  {
   "cell_type": "code",
   "execution_count": 31,
   "metadata": {},
   "outputs": [
    {
     "name": "stdout",
     "output_type": "stream",
     "text": [
      "8ac8693f9ebed7ba82257263fb589ec80951cbf37e9a73940933563609f1f03a\n"
     ]
    }
   ],
   "source": [
    "data = bytes([32])+a\n",
    "r = \"B0AE0000\"+(bytes([len(data)])+data).hex().upper()\n",
    "# print(r)\n",
    "print(app.request(r).hex())\n"
   ]
  },
  {
   "cell_type": "code",
   "execution_count": 32,
   "metadata": {},
   "outputs": [
    {
     "data": {
      "text/plain": [
       "'9472bf3e4a952f5ab87ad874a194722dfe91c017d8ddd64be3a527f1618583ef'"
      ]
     },
     "execution_count": 32,
     "metadata": {},
     "output_type": "execute_result"
    }
   ],
   "source": [
    "pow(int.from_bytes(a,'big'),3,N).to_bytes(32,'big').hex()"
   ]
  },
  {
   "cell_type": "code",
   "execution_count": 33,
   "metadata": {},
   "outputs": [
    {
     "name": "stdout",
     "output_type": "stream",
     "text": [
      "9472bf3e4a952f5ab87ad874a194722dfe91c017d8ddd64be3a527f1618583ef\n"
     ]
    }
   ],
   "source": [
    "data = bytes([32])+a\n",
    "r = \"B0AF0000\"+(bytes([len(data)])+data).hex().upper()\n",
    "# print(r)\n",
    "print(app.request(r).hex())\n"
   ]
  },
  {
   "cell_type": "code",
   "execution_count": 34,
   "metadata": {},
   "outputs": [
    {
     "data": {
      "text/plain": [
       "'021fa509fb0338ddd0679de7e391669f98b0bd8bf0a317cce060f08e4f7d3ba3'"
      ]
     },
     "execution_count": 34,
     "metadata": {},
     "output_type": "execute_result"
    }
   ],
   "source": [
    "pow(int.from_bytes(a,'big'),N-2,N).to_bytes(32,'big').hex()"
   ]
  },
  {
   "cell_type": "code",
   "execution_count": 35,
   "metadata": {},
   "outputs": [
    {
     "name": "stdout",
     "output_type": "stream",
     "text": [
      "021fa509fb0338ddd0679de7e391669f98b0bd8bf0a317cce060f08e4f7d3ba3\n"
     ]
    }
   ],
   "source": [
    "data = bytes([32])+a\n",
    "r = \"B0B00000\"+(bytes([len(data)])+data).hex().upper()\n",
    "# print(r)\n",
    "print(app.request(r).hex())\n"
   ]
  },
  {
   "cell_type": "code",
   "execution_count": null,
   "metadata": {},
   "outputs": [],
   "source": []
  },
  {
   "cell_type": "code",
   "execution_count": 36,
   "metadata": {},
   "outputs": [
    {
     "data": {
      "text/plain": [
       "'04705860902421a07293f32eb0576b2c70743fe9bffaf82eae8127b1b4f67cad0550cadead4bbe14baec3ea0a579efe525642ce12bbbacd973c07b58919c02029e'"
      ]
     },
     "execution_count": 36,
     "metadata": {},
     "output_type": "execute_result"
    }
   ],
   "source": [
    "pub = ec.PrivateKey(os.urandom(32)).get_public_key()\n",
    "sec = pub.sec()\n",
    "pub.compressed=False\n",
    "sec_unc = pub.sec()\n",
    "sec_unc.hex()"
   ]
  },
  {
   "cell_type": "code",
   "execution_count": 37,
   "metadata": {},
   "outputs": [
    {
     "name": "stdout",
     "output_type": "stream",
     "text": [
      "02705860902421a07293f32eb0576b2c70743fe9bffaf82eae8127b1b4f67cad05\n"
     ]
    },
    {
     "data": {
      "text/plain": [
       "True"
      ]
     },
     "execution_count": 37,
     "metadata": {},
     "output_type": "execute_result"
    }
   ],
   "source": [
    "data = bytes([65])+sec_unc\n",
    "r = \"B0B10000\"+(bytes([len(data)])+data).hex().upper()\n",
    "# print(r)\n",
    "res = app.request(r)\n",
    "print(res.hex())\n",
    "res == sec"
   ]
  },
  {
   "cell_type": "code",
   "execution_count": 38,
   "metadata": {},
   "outputs": [
    {
     "name": "stdout",
     "output_type": "stream",
     "text": [
      "04705860902421a07293f32eb0576b2c70743fe9bffaf82eae8127b1b4f67cad0550cadead4bbe14baec3ea0a579efe525642ce12bbbacd973c07b58919c02029e\n"
     ]
    },
    {
     "data": {
      "text/plain": [
       "True"
      ]
     },
     "execution_count": 38,
     "metadata": {},
     "output_type": "execute_result"
    }
   ],
   "source": [
    "data = bytes([33])+sec\n",
    "r = \"B0B20000\"+(bytes([len(data)])+data).hex().upper()\n",
    "# print(r)\n",
    "res = app.request(r)\n",
    "print(res.hex())\n",
    "res == sec_unc"
   ]
  },
  {
   "cell_type": "code",
   "execution_count": 39,
   "metadata": {},
   "outputs": [],
   "source": [
    "connection.disconnect()"
   ]
  },
  {
   "cell_type": "code",
   "execution_count": null,
   "metadata": {},
   "outputs": [],
   "source": []
  }
 ],
 "metadata": {
  "kernelspec": {
   "display_name": "Python 3",
   "language": "python",
   "name": "python3"
  },
  "language_info": {
   "codemirror_mode": {
    "name": "ipython",
    "version": 3
   },
   "file_extension": ".py",
   "mimetype": "text/x-python",
   "name": "python",
   "nbconvert_exporter": "python",
   "pygments_lexer": "ipython3",
   "version": "3.7.6"
  }
 },
 "nbformat": 4,
 "nbformat_minor": 2
}
