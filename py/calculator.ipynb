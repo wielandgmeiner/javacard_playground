{
 "cells": [
  {
   "cell_type": "markdown",
   "metadata": {},
   "source": [
    "# Calculator Applet\n",
    "\n",
    "Demo that does various calculations - sha, hmac, pbkdf, field math, elliptic curve math"
   ]
  },
  {
   "cell_type": "code",
   "execution_count": 1,
   "metadata": {},
   "outputs": [],
   "source": [
    "from applets.helpers import get_connection, AppletBase\n",
    "\n",
    "class Calculator(AppletBase):\n",
    "    def __init__(self, connection=None):\n",
    "        super().__init__(\"B00B5111CC01\", connection)\n",
    "\n",
    "    def sha256(self, d):\n",
    "        data = bytes([len(d)])+d\n",
    "        r = \"B0A10000\"+(bytes([len(data)])+data).hex().upper()\n",
    "        return self.request(r)\n",
    "    \n",
    "    def hmac_sha256(self, k, d):\n",
    "        data = bytes([len(k)])+k+bytes([len(d)])+d\n",
    "        r = \"B0A20000\"+(bytes([len(data)])+data).hex().upper()\n",
    "        return self.request(r)\n",
    "    \n",
    "    def sha512(self, d):\n",
    "        data = bytes([len(d)])+d\n",
    "        r = \"B0A30000\"+(bytes([len(data)])+data).hex().upper()\n",
    "        return self.request(r)\n",
    "    \n",
    "    def hmac_sha512(self, k, d):\n",
    "        data = bytes([len(k)])+k+bytes([len(d)])+d\n",
    "        r = \"B0A40000\"+(bytes([len(data)])+data).hex().upper()\n",
    "        return self.request(r)\n",
    "\n",
    "    def add_mod_FP(self, a, b):\n",
    "        data = bytes([len(a)])+a+bytes([len(b)])+b\n",
    "        r = \"B0A50000\"+(bytes([len(data)])+data).hex().upper()\n",
    "        return self.request(r)\n",
    "    \n",
    "    def add_mod_N(self, a, b):\n",
    "        data = bytes([len(a)])+a+bytes([len(b)])+b\n",
    "        r = \"B0A60000\"+(bytes([len(data)])+data).hex().upper()\n",
    "        return self.request(r)"
   ]
  },
  {
   "cell_type": "code",
   "execution_count": 2,
   "metadata": {},
   "outputs": [
    {
     "name": "stdout",
     "output_type": "stream",
     "text": [
      "3bdc18ff8191fe1fc38073c821136605036351000250\n"
     ]
    }
   ],
   "source": [
    "connection = get_connection()\n",
    "if connection is not None:\n",
    "    atr=bytes(connection.getATR())\n",
    "    print(atr.hex())\n",
    "else:\n",
    "    print(\"Failed to open a connection. No cardreaders?\")"
   ]
  },
  {
   "cell_type": "code",
   "execution_count": 3,
   "metadata": {},
   "outputs": [
    {
     "data": {
      "text/plain": [
       "b''"
      ]
     },
     "execution_count": 3,
     "metadata": {},
     "output_type": "execute_result"
    }
   ],
   "source": [
    "app = Calculator(connection)\n",
    "app.select()"
   ]
  },
  {
   "cell_type": "code",
   "execution_count": 4,
   "metadata": {},
   "outputs": [],
   "source": [
    "d = b'hello'\n",
    "k = b'key'"
   ]
  },
  {
   "cell_type": "code",
   "execution_count": 5,
   "metadata": {},
   "outputs": [
    {
     "name": "stdout",
     "output_type": "stream",
     "text": [
      "sha256:\t\t 2cf24dba5fb0a30e26e83b2ac5b9e29e1b161e5c1fa7425e73043362938b9824\n",
      "hmac-sha256:\t 9307b3b915efb5171ff14d8cb55fbcc798c6c0ef1456d66ded1a6aa723a58b7b\n",
      "sha512:\t\t 9b71d224bd62f3785d96d46ad3ea3d73319bfbc2890caadae2dff72519673ca72323c3d99ba5c11d7c7acc6e14b8c5da0c4663475c2e5c3adef46f73bcdec043\n",
      "hmac-sha512:\t ff06ab36757777815c008d32c8e14a705b4e7bf310351a06a23b612dc4c7433e7757d20525a5593b71020ea2ee162d2311b247e9855862b270122419652c0c92\n"
     ]
    }
   ],
   "source": [
    "# sha functions from the card\n",
    "print(\"sha256:\\t\\t\", app.sha256(d).hex())\n",
    "print(\"hmac-sha256:\\t\", app.hmac_sha256(k, d).hex())\n",
    "print(\"sha512:\\t\\t\", app.sha512(d).hex())\n",
    "print(\"hmac-sha512:\\t\", app.hmac_sha512(k, d).hex())"
   ]
  },
  {
   "cell_type": "code",
   "execution_count": 6,
   "metadata": {},
   "outputs": [
    {
     "name": "stdout",
     "output_type": "stream",
     "text": [
      "sha256:\t\t 2cf24dba5fb0a30e26e83b2ac5b9e29e1b161e5c1fa7425e73043362938b9824\n",
      "hmac-sha256:\t 9307b3b915efb5171ff14d8cb55fbcc798c6c0ef1456d66ded1a6aa723a58b7b\n",
      "sha512:\t\t 9b71d224bd62f3785d96d46ad3ea3d73319bfbc2890caadae2dff72519673ca72323c3d99ba5c11d7c7acc6e14b8c5da0c4663475c2e5c3adef46f73bcdec043\n",
      "hmac-sha512:\t ff06ab36757777815c008d32c8e14a705b4e7bf310351a06a23b612dc4c7433e7757d20525a5593b71020ea2ee162d2311b247e9855862b270122419652c0c92\n"
     ]
    }
   ],
   "source": [
    "import hashlib, hmac\n",
    "# same using hashlib\n",
    "print(\"sha256:\\t\\t\",hashlib.sha256(d).digest().hex())\n",
    "print(\"hmac-sha256:\\t\",hmac.new(k, d, digestmod=hashlib.sha256).digest().hex())\n",
    "print(\"sha512:\\t\\t\",hashlib.sha512(d).digest().hex())\n",
    "print(\"hmac-sha512:\\t\",hmac.new(k, d, digestmod=hashlib.sha512).digest().hex())"
   ]
  },
  {
   "cell_type": "code",
   "execution_count": null,
   "metadata": {},
   "outputs": [],
   "source": []
  },
  {
   "cell_type": "code",
   "execution_count": 7,
   "metadata": {},
   "outputs": [],
   "source": [
    "FP = 2**256 - 2**32 - 977\n",
    "N = 0xFFFFFFFFFFFFFFFFFFFFFFFFFFFFFFFEBAAEDCE6AF48A03BBFD25E8CD0364141"
   ]
  },
  {
   "cell_type": "code",
   "execution_count": 8,
   "metadata": {},
   "outputs": [],
   "source": [
    "def to_bytes(n:int):\n",
    "    return n.to_bytes(32, 'big')"
   ]
  },
  {
   "cell_type": "code",
   "execution_count": 9,
   "metadata": {},
   "outputs": [
    {
     "name": "stdout",
     "output_type": "stream",
     "text": [
      "0\n",
      "1\n",
      "2\n",
      "3\n",
      "4\n",
      "5\n",
      "6\n",
      "7\n",
      "8\n",
      "9\n"
     ]
    }
   ],
   "source": [
    "# random check\n",
    "import random\n",
    "for i in range(10):\n",
    "    a = random.randint(1,N)\n",
    "    b = random.randint(1,N)\n",
    "    r = (a+b) % FP\n",
    "    rr = r.to_bytes(32, 'big').hex()\n",
    "    rc = app.add_mod_FP(to_bytes(a),to_bytes(b)).hex()\n",
    "    print(i)\n",
    "    if (rr!=rc):\n",
    "        print(to_bytes(a).hex())\n",
    "        print(to_bytes(b).hex())\n",
    "        print(rr)\n",
    "        print(rc)\n",
    "        raise RuntimeError(\"Meh\")"
   ]
  },
  {
   "cell_type": "code",
   "execution_count": 10,
   "metadata": {},
   "outputs": [
    {
     "name": "stdout",
     "output_type": "stream",
     "text": [
      "0\n",
      "1\n",
      "2\n",
      "3\n",
      "4\n"
     ]
    }
   ],
   "source": [
    "# edge cases - slightly less than mod, slightly more, equal and overflow\n",
    "a = FP-20\n",
    "for i, b in enumerate([10,23,20,10500, 1020203124]):\n",
    "    r = (a+b) % FP\n",
    "    rr = r.to_bytes(32, 'big').hex()\n",
    "    rc = app.add_mod_FP(to_bytes(a),to_bytes(b)).hex()\n",
    "    print(i)\n",
    "    if (rr!=rc):\n",
    "        print(to_bytes(a).hex())\n",
    "        print(to_bytes(b).hex())\n",
    "        print(rr)\n",
    "        print(rc)\n",
    "        raise RuntimeError(\"Meh\")"
   ]
  },
  {
   "cell_type": "code",
   "execution_count": null,
   "metadata": {},
   "outputs": [],
   "source": []
  },
  {
   "cell_type": "code",
   "execution_count": 11,
   "metadata": {},
   "outputs": [
    {
     "data": {
      "text/plain": [
       "'65be2b658e5bfdb60450c71b3c1ec65017512f3dffeab8262320312d7a0c882f00c66d74df7fd68a6bb8b797435dc41e4b4c64541aac0f93cca413cb1ac4fa71a5'"
      ]
     },
     "execution_count": 11,
     "metadata": {},
     "output_type": "execute_result"
    }
   ],
   "source": [
    "from embit import bip32, ec\n",
    "import os\n",
    "seed = os.urandom(64)\n",
    "root = bip32.HDKey.from_seed(seed)\n",
    "# without prefix, depth, root fingerprint and index\n",
    "root.serialize()[13:].hex()"
   ]
  },
  {
   "cell_type": "code",
   "execution_count": 12,
   "metadata": {},
   "outputs": [
    {
     "data": {
      "text/plain": [
       "'671e99b8358f857fcb2eb6da93c319a4e8655aab99d5ec4f6fb56ca5e246572e0096c823e5346035b8b2dd9358fdc8ef8456cefa4c5baa9badaa5b5639969a023f'"
      ]
     },
     "execution_count": 12,
     "metadata": {},
     "output_type": "execute_result"
    }
   ],
   "source": [
    "root.child(10, hardened=False).serialize()[13:].hex()"
   ]
  },
  {
   "cell_type": "code",
   "execution_count": 13,
   "metadata": {},
   "outputs": [
    {
     "data": {
      "text/plain": [
       "'671e99b8358f857fcb2eb6da93c319a4e8655aab99d5ec4f6fb56ca5e246572e0096c823e5346035b8b2dd9358fdc8ef8456cefa4c5baa9badaa5b5639969a023f'"
      ]
     },
     "execution_count": 13,
     "metadata": {},
     "output_type": "execute_result"
    }
   ],
   "source": [
    "data = bytes([65])+root.serialize()[13:]+bytes([4,0x00,0,0,10])\n",
    "r = \"B0A90000\"+(bytes([len(data)])+data).hex().upper()\n",
    "app.request(r).hex()\n"
   ]
  },
  {
   "cell_type": "code",
   "execution_count": 14,
   "metadata": {},
   "outputs": [
    {
     "name": "stdout",
     "output_type": "stream",
     "text": [
      "04bf82d4db8d867ede04e318c6df19e8d9e3f537385ac402bd8ce52fe687347daa139d56e0ca8a43f6f08833bf830d8e8ed79998fa478954bf83bf6ddab90403fa\n",
      "0430b017f9add2d26d679218836a10eb789376840d638ac5b309721099261cbb4d1f0d414dc9601c3bca9bce426f82b0a1884bf1bbdb9c19fa76f32d470d36d64b\n"
     ]
    }
   ],
   "source": [
    "# point addition\n",
    "p = root.to_public().key\n",
    "p.compressed = False\n",
    "print(p.sec().hex())\n",
    "pp = ec.PublicKey.parse(p.serialize())\n",
    "ec.secp256k1.ec_pubkey_tweak_add(pp._point, b'4'*32)\n",
    "print(pp.sec().hex())"
   ]
  },
  {
   "cell_type": "code",
   "execution_count": 15,
   "metadata": {},
   "outputs": [
    {
     "data": {
      "text/plain": [
       "'0430b017f9add2d26d679218836a10eb789376840d638ac5b309721099261cbb4d1f0d414dc9601c3bca9bce426f82b0a1884bf1bbdb9c19fa76f32d470d36d64b'"
      ]
     },
     "execution_count": 15,
     "metadata": {},
     "output_type": "execute_result"
    }
   ],
   "source": [
    "data = bytes([32])+b'4'*32+bytes([65])+p.sec()\n",
    "r = \"B0A70000\"+(bytes([len(data)])+data).hex().upper()\n",
    "app.request(r).hex()\n"
   ]
  },
  {
   "cell_type": "code",
   "execution_count": 16,
   "metadata": {},
   "outputs": [
    {
     "data": {
      "text/plain": [
       "'04f65f63dd66359cbf6f309c1ad740d4ee9a251f9a42fbb990e6e0b31c6037b76559995d5b6ac38ebb8f63939d5f04acc16a6f982ecb841376b306f47d59dcd52c'"
      ]
     },
     "execution_count": 16,
     "metadata": {},
     "output_type": "execute_result"
    }
   ],
   "source": [
    "p3 = ec.PublicKey.parse(ec.secp256k1.ec_pubkey_serialize(ec.secp256k1.ec_pubkey_combine(p._point,pp._point)))\n",
    "p3.compressed = False\n",
    "p3.sec().hex()"
   ]
  },
  {
   "cell_type": "code",
   "execution_count": 17,
   "metadata": {},
   "outputs": [
    {
     "data": {
      "text/plain": [
       "'04f65f63dd66359cbf6f309c1ad740d4ee9a251f9a42fbb990e6e0b31c6037b76559995d5b6ac38ebb8f63939d5f04acc16a6f982ecb841376b306f47d59dcd52c'"
      ]
     },
     "execution_count": 17,
     "metadata": {},
     "output_type": "execute_result"
    }
   ],
   "source": [
    "data = bytes([65])+pp.sec()+bytes([65])+p.sec()\n",
    "r = \"B0A80000\"+(bytes([len(data)])+data).hex().upper()\n",
    "app.request(r).hex()\n"
   ]
  },
  {
   "cell_type": "code",
   "execution_count": 18,
   "metadata": {},
   "outputs": [
    {
     "data": {
      "text/plain": [
       "'65be2b658e5bfdb60450c71b3c1ec65017512f3dffeab8262320312d7a0c882f02bf82d4db8d867ede04e318c6df19e8d9e3f537385ac402bd8ce52fe687347daa'"
      ]
     },
     "execution_count": 18,
     "metadata": {},
     "output_type": "execute_result"
    }
   ],
   "source": [
    "xpub = root.to_public()\n",
    "xpub.serialize()[13:].hex()"
   ]
  },
  {
   "cell_type": "code",
   "execution_count": 19,
   "metadata": {},
   "outputs": [
    {
     "data": {
      "text/plain": [
       "'671e99b8358f857fcb2eb6da93c319a4e8655aab99d5ec4f6fb56ca5e246572e036a7113bfa1dd196570fe758e2584241fc45d009bbb742b8c464d8d05f959b351'"
      ]
     },
     "execution_count": 19,
     "metadata": {},
     "output_type": "execute_result"
    }
   ],
   "source": [
    "xpub.child(10, hardened=False).serialize()[13:].hex()"
   ]
  },
  {
   "cell_type": "code",
   "execution_count": 20,
   "metadata": {},
   "outputs": [
    {
     "data": {
      "text/plain": [
       "'671e99b8358f857fcb2eb6da93c319a4e8655aab99d5ec4f6fb56ca5e246572e046a7113bfa1dd196570fe758e2584241fc45d009bbb742b8c464d8d05f959b351'"
      ]
     },
     "execution_count": 20,
     "metadata": {},
     "output_type": "execute_result"
    }
   ],
   "source": [
    "fullpub = ec.PublicKey.parse(xpub.key.serialize())\n",
    "fullpub.compressed=False\n",
    "data = bytes([65])+xpub.serialize()[13:]+bytes([4,0x00,0,0,10])+bytes([65])+fullpub.sec()\n",
    "r = \"B0AA0000\"+(bytes([len(data)])+data).hex().upper()\n",
    "app.request(r).hex()\n"
   ]
  },
  {
   "cell_type": "code",
   "execution_count": null,
   "metadata": {},
   "outputs": [],
   "source": []
  },
  {
   "cell_type": "code",
   "execution_count": 21,
   "metadata": {},
   "outputs": [
    {
     "name": "stdout",
     "output_type": "stream",
     "text": [
      "82218bfe339fa8a349423df85eaf89728b4e7dc02360e8c6feec346a8e46232db544f6f2d2fff1430e53f76c0adafd9a2087652b7b943fdc07c0cff4c74252e2\n",
      "038c39d10762fd77de3a035e2c8c7ba4410f07f8251a28b1d670649abc256e810afb12e6c7e4b3e976fc1be1a387c345b282c9127f02b23862c16859bde9ff7f\n"
     ]
    }
   ],
   "source": [
    "import hashlib\n",
    "print(hashlib.pbkdf2_hmac('sha512', b'pwd', b'salt', 2048, 64).hex())\n",
    "print(hashlib.pbkdf2_hmac('sha512', b'pwd', b'salt', 100, 64).hex())"
   ]
  },
  {
   "cell_type": "code",
   "execution_count": 22,
   "metadata": {},
   "outputs": [
    {
     "data": {
      "text/plain": [
       "1586568713.502638"
      ]
     },
     "execution_count": 22,
     "metadata": {},
     "output_type": "execute_result"
    }
   ],
   "source": [
    "import time\n",
    "time.time()"
   ]
  },
  {
   "cell_type": "code",
   "execution_count": 23,
   "metadata": {},
   "outputs": [
    {
     "name": "stdout",
     "output_type": "stream",
     "text": [
      "038c39d10762fd77de3a035e2c8c7ba4410f07f8251a28b1d670649abc256e810afb12e6c7e4b3e976fc1be1a387c345b282c9127f02b23862c16859bde9ff7f\n",
      "3.386441946029663 seconds for 100 iterations.\n",
      "For 2048 iterations it will be 69.3543310546875 seconds\n"
     ]
    }
   ],
   "source": [
    "t0 = time.time()\n",
    "# 2048 iterations -> 0x8000\n",
    "iterations = 100\n",
    "data = bytes([2])+iterations.to_bytes(2,'big')+bytes([3])+b'pwd'+bytes([4])+b'salt'\n",
    "r = \"B0A00000\"+(bytes([len(data)])+data).hex().upper()\n",
    "# print(r)\n",
    "print(app.request(r).hex())\n",
    "dt = time.time()-t0\n",
    "print(f\"{dt} seconds for {iterations} iterations.\\nFor 2048 iterations it will be {dt*2048/iterations} seconds\")"
   ]
  },
  {
   "cell_type": "code",
   "execution_count": 24,
   "metadata": {},
   "outputs": [],
   "source": [
    "connection.disconnect()"
   ]
  },
  {
   "cell_type": "code",
   "execution_count": null,
   "metadata": {},
   "outputs": [],
   "source": []
  }
 ],
 "metadata": {
  "kernelspec": {
   "display_name": "Python 3",
   "language": "python",
   "name": "python3"
  },
  "language_info": {
   "codemirror_mode": {
    "name": "ipython",
    "version": 3
   },
   "file_extension": ".py",
   "mimetype": "text/x-python",
   "name": "python",
   "nbconvert_exporter": "python",
   "pygments_lexer": "ipython3",
   "version": "3.7.6"
  }
 },
 "nbformat": 4,
 "nbformat_minor": 2
}
